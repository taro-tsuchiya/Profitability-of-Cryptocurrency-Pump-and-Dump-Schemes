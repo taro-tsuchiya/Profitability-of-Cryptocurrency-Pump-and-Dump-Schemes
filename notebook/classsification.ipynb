{
 "cells": [
  {
   "cell_type": "markdown",
   "metadata": {
    "colab_type": "text",
    "id": "OXzyHhW8YJUB"
   },
   "source": [
    "# Classification model"
   ]
  },
  {
   "cell_type": "code",
   "execution_count": 3,
   "metadata": {
    "colab": {
     "base_uri": "https://localhost:8080/",
     "height": 70
    },
    "colab_type": "code",
    "id": "enF_88VJYJUE",
    "outputId": "f0a9fca9-fc85-46df-c230-d087c3b5c4f0"
   },
   "outputs": [
    {
     "name": "stderr",
     "output_type": "stream",
     "text": [
      "/usr/local/lib/python3.6/dist-packages/statsmodels/tools/_testing.py:19: FutureWarning: pandas.util.testing is deprecated. Use the functions in the public API at pandas.testing instead.\n",
      "  import pandas.util.testing as tm\n"
     ]
    }
   ],
   "source": [
    "%matplotlib inline\n",
    "import numpy as np \n",
    "import pandas as pd\n",
    "import seaborn\n",
    "import matplotlib.pyplot as plt\n",
    "import warnings\n",
    "warnings.filterwarnings('ignore')"
   ]
  },
  {
   "cell_type": "code",
   "execution_count": 4,
   "metadata": {
    "colab": {},
    "colab_type": "code",
    "id": "HMUByhb-kV4i"
   },
   "outputs": [],
   "source": [
    "df = pd.read_csv('pnd_features.csv', index_col=0)"
   ]
  },
  {
   "cell_type": "code",
   "execution_count": 5,
   "metadata": {
    "colab": {},
    "colab_type": "code",
    "id": "FZqZL1E5YJVR"
   },
   "outputs": [],
   "source": [
    "#make one hot vector for coin and channel\n",
    "from sklearn import preprocessing\n",
    "from sklearn.preprocessing import OneHotEncoder\n",
    "def one_hot(col):\n",
    "    col = df[col]\n",
    "    col = preprocessing.LabelEncoder().fit_transform(col).reshape(-1,1)\n",
    "    col = OneHotEncoder().fit_transform(col).toarray()\n",
    "    return col\n",
    "channel = one_hot('channel')\n",
    "currency = one_hot('currency')\n",
    "channel_currency = np.concatenate([channel,currency], axis = 1)"
   ]
  },
  {
   "cell_type": "code",
   "execution_count": 6,
   "metadata": {
    "colab": {
     "base_uri": "https://localhost:8080/",
     "height": 50
    },
    "colab_type": "code",
    "id": "Mwi8R9KsYJVV",
    "outputId": "a9e9d403-8d94-40b8-f6fd-ffce0875af99"
   },
   "outputs": [
    {
     "name": "stdout",
     "output_type": "stream",
     "text": [
      "(535, 98)\n",
      "(535, 216)\n"
     ]
    }
   ],
   "source": [
    "# number of channel\n",
    "print(channel.shape)\n",
    "# number of coins\n",
    "print(currency.shape)"
   ]
  },
  {
   "cell_type": "code",
   "execution_count": 7,
   "metadata": {
    "colab": {},
    "colab_type": "code",
    "id": "WFH90CaTnLTh"
   },
   "outputs": [],
   "source": [
    "# interaction variables\n",
    "df['volume_yobit'] = df['relative_volume'] * df['yobit']"
   ]
  },
  {
   "cell_type": "code",
   "execution_count": 8,
   "metadata": {
    "colab": {
     "base_uri": "https://localhost:8080/",
     "height": 34
    },
    "colab_type": "code",
    "id": "afBdUpAMYJVe",
    "outputId": "f614a51c-c5bb-482e-89cb-fda5035f9f97"
   },
   "outputs": [
    {
     "data": {
      "text/plain": [
       "(535, 321)"
      ]
     },
     "execution_count": 8,
     "metadata": {
      "tags": []
     },
     "output_type": "execute_result"
    }
   ],
   "source": [
    "X = np.concatenate([df[['month_cos', 'month_sin', 'hour_cos','hour_sin', 'year', 'yobit', 'bittrex']].values, channel_currency], axis =1)\n",
    "Y = df['success'].values\n",
    "X.shape"
   ]
  },
  {
   "cell_type": "code",
   "execution_count": 9,
   "metadata": {
    "colab": {},
    "colab_type": "code",
    "id": "CgI9ezNhYJVj"
   },
   "outputs": [],
   "source": [
    "from sklearn.pipeline import make_pipeline,Pipeline\n",
    "from sklearn.ensemble import RandomForestClassifier\n",
    "from sklearn.model_selection import StratifiedKFold, GridSearchCV\n",
    "from sklearn.metrics import classification_report\n",
    "from sklearn.metrics import confusion_matrix"
   ]
  },
  {
   "cell_type": "code",
   "execution_count": 10,
   "metadata": {
    "colab": {},
    "colab_type": "code",
    "id": "FsD0ZMRZYJVm"
   },
   "outputs": [],
   "source": [
    "# split the data into train data (80%) and test data (20%)\n",
    "from sklearn.model_selection import train_test_split\n",
    "X_train, X_test, Y_train, Y_test = train_test_split(X, Y, test_size=0.2, random_state=1)"
   ]
  },
  {
   "cell_type": "code",
   "execution_count": 11,
   "metadata": {
    "colab": {},
    "colab_type": "code",
    "id": "u07-k5zHmVTo"
   },
   "outputs": [],
   "source": [
    "class Model():\n",
    "    def __init__(self, model, X_train = X_train, Y_train = Y_train):\n",
    "        self.model = model\n",
    "        self.xtrain = X_train\n",
    "        self.ytrain = Y_train\n",
    "    \n",
    "    def train(self, params):\n",
    "        self.params = params\n",
    "        self.grid_search = GridSearchCV(self.model, self.params, cv=StratifiedKFold(n_splits=5, random_state=1).split(self.xtrain, self.ytrain), \n",
    "                           verbose=1, n_jobs=1) \n",
    "        self.clf = self.grid_search.fit(self.xtrain, self.ytrain)\n",
    "        print(self.clf.best_params_)\n",
    "  \n",
    "    def predict(self, X_test = X_test, Y_test = Y_test):\n",
    "        self.xtest = X_test\n",
    "        self.ytest = Y_test\n",
    "        self.predict = self.clf.predict(self.xtest)\n",
    "        print(classification_report(self.ytest, self.predict))\n",
    "\n",
    "    def make_matrix(self):\n",
    "        matrix = confusion_matrix(self.ytest, self.predict)[::-1][:, ::-1]\n",
    "        proportions = np.zeros((2,2))\n",
    "        for i in range(0,2):\n",
    "            proportions[i,:] = matrix[i,:]/float(matrix[i,:].sum())\n",
    "        names=['successful','unsuccessful']\n",
    "        confusion_df = pd.DataFrame(proportions, index=names,columns=names)\n",
    "        plt.figure(figsize=(5,5))\n",
    "        seaborn.heatmap(confusion_df,annot=True,annot_kws={\"size\": 14},cmap='Blues',square=True,fmt='.2f')\n",
    "        plt.title(\"confusion matrix (%)\", fontsize=20)\n",
    "        plt.xlabel('Prediction',fontsize=16)\n",
    "        plt.ylabel('True',fontsize=16)\n",
    "        plt.tick_params(labelsize=12)\n",
    "\n",
    "    def predict_unknown(self, test):\n",
    "        self.test = test\n",
    "        self.predict_unknown  = self.clf.predict(self.test)\n",
    "        return self.predict_unknown\n"
   ]
  },
  {
   "cell_type": "code",
   "execution_count": 12,
   "metadata": {
    "colab": {
     "base_uri": "https://localhost:8080/",
     "height": 535
    },
    "colab_type": "code",
    "id": "9rD7jQJUphFG",
    "outputId": "e253561a-0ea1-41a2-8531-965eb6e629e2"
   },
   "outputs": [
    {
     "name": "stdout",
     "output_type": "stream",
     "text": [
      "Fitting 5 folds for each of 120 candidates, totalling 600 fits\n"
     ]
    },
    {
     "name": "stderr",
     "output_type": "stream",
     "text": [
      "[Parallel(n_jobs=1)]: Using backend SequentialBackend with 1 concurrent workers.\n",
      "[Parallel(n_jobs=1)]: Done 600 out of 600 | elapsed:   17.5s finished\n"
     ]
    },
    {
     "name": "stdout",
     "output_type": "stream",
     "text": [
      "{'criterion': 'entropy', 'max_depth': 20, 'min_samples_split': 3, 'n_estimators': 10}\n",
      "              precision    recall  f1-score   support\n",
      "\n",
      "           0       0.73      0.81      0.77        53\n",
      "           1       0.79      0.70      0.75        54\n",
      "\n",
      "    accuracy                           0.76       107\n",
      "   macro avg       0.76      0.76      0.76       107\n",
      "weighted avg       0.76      0.76      0.76       107\n",
      "\n"
     ]
    },
    {
     "data": {
      "image/png": "[encoded data removed]",
      "text/plain": [
       "<Figure size 360x360 with 2 Axes>"
      ]
     },
     "metadata": {
      "needs_background": "light",
      "tags": []
     },
     "output_type": "display_data"
    }
   ],
   "source": [
    "rf = Model(RandomForestClassifier(class_weight ='balanced', random_state = 1))\n",
    "rf_params ={\n",
    "    'criterion': ['gini', 'entropy'],\n",
    "    'max_depth':  [10, 15, 20, None],\n",
    "    'min_samples_split': [2, 3, 4],\n",
    "    'n_estimators': [5,10,15,20,25]}\n",
    "rf.train(rf_params)\n",
    "rf.predict()\n",
    "rf.make_matrix()"
   ]
  },
  {
   "cell_type": "code",
   "execution_count": 13,
   "metadata": {
    "colab": {
     "base_uri": "https://localhost:8080/",
     "height": 535
    },
    "colab_type": "code",
    "id": "Qx3mlYRdxE6L",
    "outputId": "1eb10319-c0bf-4a20-fadb-68038d066c63"
   },
   "outputs": [
    {
     "name": "stdout",
     "output_type": "stream",
     "text": [
      "Fitting 5 folds for each of 96 candidates, totalling 480 fits\n"
     ]
    },
    {
     "name": "stderr",
     "output_type": "stream",
     "text": [
      "[Parallel(n_jobs=1)]: Using backend SequentialBackend with 1 concurrent workers.\n",
      "[Parallel(n_jobs=1)]: Done 480 out of 480 | elapsed:  2.0min finished\n"
     ]
    },
    {
     "name": "stdout",
     "output_type": "stream",
     "text": [
      "{'xg__colsample_bytree': 0.5, 'xg__learning_rate': 0.1, 'xg__max_depth': 2, 'xg__subsample': 0.5}\n",
      "              precision    recall  f1-score   support\n",
      "\n",
      "           0       0.69      0.75      0.72        53\n",
      "           1       0.73      0.67      0.70        54\n",
      "\n",
      "    accuracy                           0.71       107\n",
      "   macro avg       0.71      0.71      0.71       107\n",
      "weighted avg       0.71      0.71      0.71       107\n",
      "\n"
     ]
    },
    {
     "data": {
      "image/png": "[encoded data removed]",
      "text/plain": [
       "<Figure size 360x360 with 2 Axes>"
      ]
     },
     "metadata": {
      "needs_background": "light",
      "tags": []
     },
     "output_type": "display_data"
    }
   ],
   "source": [
    "import xgboost as xgb\n",
    "xg = Model(xgb.XGBClassifier(class_weight = 'balanced', random_state = 1))\n",
    "xg_params = {\"xg__learning_rate\":[0.1,0.3,0.5],\n",
    "        \"xg__max_depth\": [2,3,5,10],\n",
    "         \"xg__subsample\":[0.5,0.8,0.9,1],\n",
    "         \"xg__colsample_bytree\": [0.5,1.0],\n",
    "         }\n",
    "xg.train(xg_params)\n",
    "xg.predict()\n",
    "xg.make_matrix()"
   ]
  },
  {
   "cell_type": "code",
   "execution_count": 14,
   "metadata": {
    "colab": {
     "base_uri": "https://localhost:8080/",
     "height": 535
    },
    "colab_type": "code",
    "id": "fsbRwMDYB6B7",
    "outputId": "e00a394f-b22a-43e6-9e29-250f09fa1479"
   },
   "outputs": [
    {
     "name": "stdout",
     "output_type": "stream",
     "text": [
      "Fitting 5 folds for each of 48 candidates, totalling 240 fits\n"
     ]
    },
    {
     "name": "stderr",
     "output_type": "stream",
     "text": [
      "[Parallel(n_jobs=1)]: Using backend SequentialBackend with 1 concurrent workers.\n",
      "[Parallel(n_jobs=1)]: Done 240 out of 240 | elapsed:    4.2s finished\n"
     ]
    },
    {
     "name": "stdout",
     "output_type": "stream",
     "text": [
      "{'learning_rate': 0.5, 'max_depth': 3, 'subsample': 0.5}\n",
      "              precision    recall  f1-score   support\n",
      "\n",
      "           0       0.66      0.79      0.72        53\n",
      "           1       0.74      0.59      0.66        54\n",
      "\n",
      "    accuracy                           0.69       107\n",
      "   macro avg       0.70      0.69      0.69       107\n",
      "weighted avg       0.70      0.69      0.69       107\n",
      "\n"
     ]
    },
    {
     "data": {
      "image/png": "[encoded data removed]",
      "text/plain": [
       "<Figure size 360x360 with 2 Axes>"
      ]
     },
     "metadata": {
      "needs_background": "light",
      "tags": []
     },
     "output_type": "display_data"
    }
   ],
   "source": [
    "import lightgbm as lgb\n",
    "lg = Model(lgb.LGBMClassifier(class_weight = 'balanced', random_state =1))\n",
    "lg_params = {\"learning_rate\":[0.1,0.3,0.5],\n",
    "        \"max_depth\": [2,3,5,10],\n",
    "         \"subsample\":[0.5,0.8,0.9,1],\n",
    "         }\n",
    "lg.train(lg_params)\n",
    "lg.predict()\n",
    "lg.make_matrix()"
   ]
  },
  {
   "cell_type": "markdown",
   "metadata": {
    "colab_type": "text",
    "id": "DEjDjBdp4b_J"
   },
   "source": [
    "## see the manifold"
   ]
  },
  {
   "cell_type": "markdown",
   "metadata": {
    "colab_type": "text",
    "id": "u1OeNUQk4akS"
   },
   "source": []
  },
  {
   "cell_type": "code",
   "execution_count": 15,
   "metadata": {
    "colab": {
     "base_uri": "https://localhost:8080/",
     "height": 101
    },
    "colab_type": "code",
    "id": "3-v125dGypkX",
    "outputId": "7e360868-2263-4274-adeb-eef0ff54e39f"
   },
   "outputs": [
    {
     "name": "stdout",
     "output_type": "stream",
     "text": [
      "(280, 322)\n",
      "(255, 322)\n",
      "(280, 321)\n",
      "(255, 321)\n",
      "(535, 321)\n"
     ]
    }
   ],
   "source": [
    "Y2 =np.reshape(Y, (Y.shape[0],1))\n",
    "x_y  = np.concatenate((X, Y2), axis =1)\n",
    "# get feature vectors for successful and unsuccessful pumps\n",
    "successful = x_y[x_y[:, x_y.shape[1]-1] ==1]\n",
    "unsuccessful = x_y[x_y[:, x_y.shape[1]-1] ==0]\n",
    "print(successful.shape)\n",
    "print(unsuccessful.shape)\n",
    "# take out answers (label)\n",
    "successful = successful[:, :successful.shape[1]-1]\n",
    "unsuccessful = unsuccessful[:, :unsuccessful.shape[1]-1]\n",
    "\n",
    "print(successful.shape)\n",
    "print(unsuccessful.shape)\n",
    "manifold = np.concatenate([successful, unsuccessful])\n",
    "print(manifold.shape)"
   ]
  },
  {
   "cell_type": "markdown",
   "metadata": {
    "colab_type": "text",
    "id": "G-fRMuIfnN1i"
   },
   "source": [
    "### project into $\\mathbb{R^{2}}$, see the manifold"
   ]
  },
  {
   "cell_type": "code",
   "execution_count": 16,
   "metadata": {
    "colab": {},
    "colab_type": "code",
    "id": "RdoFQOS8kk5v"
   },
   "outputs": [],
   "source": [
    "from sklearn.manifold import TSNE"
   ]
  },
  {
   "cell_type": "code",
   "execution_count": 17,
   "metadata": {
    "colab": {},
    "colab_type": "code",
    "id": "g09RvpGgkkw6"
   },
   "outputs": [],
   "source": [
    "embeds = TSNE(n_components=2, random_state =0).fit_transform(manifold)\n",
    "es, eu = embeds[:len(successful)], embeds[len(successful):]"
   ]
  },
  {
   "cell_type": "code",
   "execution_count": 18,
   "metadata": {
    "colab": {
     "base_uri": "https://localhost:8080/",
     "height": 50
    },
    "colab_type": "code",
    "id": "WrBLXi57luYu",
    "outputId": "a1261f11-6b3c-4ae1-855f-8e88a4f68905"
   },
   "outputs": [
    {
     "name": "stdout",
     "output_type": "stream",
     "text": [
      "(535,)\n",
      "(535,)\n"
     ]
    }
   ],
   "source": [
    "print(embeds[:,0].shape)\n",
    "print(embeds[:,1].shape)"
   ]
  },
  {
   "cell_type": "code",
   "execution_count": 19,
   "metadata": {
    "colab": {
     "base_uri": "https://localhost:8080/",
     "height": 500
    },
    "colab_type": "code",
    "id": "FuIIBmtvlU_X",
    "outputId": "1359aa0e-6351-4a6a-93f7-124ea8034a2b"
   },
   "outputs": [
    {
     "data": {
      "text/plain": [
       "<matplotlib.collections.PathCollection at 0x7f55f9de8ac8>"
      ]
     },
     "execution_count": 19,
     "metadata": {
      "tags": []
     },
     "output_type": "execute_result"
    },
    {
     "data": {
      "image/png": "[encoded data removed]",
      "text/plain": [
       "<Figure size 576x576 with 1 Axes>"
      ]
     },
     "metadata": {
      "needs_background": "light",
      "tags": []
     },
     "output_type": "display_data"
    }
   ],
   "source": [
    "plt.rcParams[\"figure.figsize\"] = (8, 8)\n",
    "plt.scatter(embeds[:,0],embeds[:,1])"
   ]
  },
  {
   "cell_type": "code",
   "execution_count": 20,
   "metadata": {
    "colab": {
     "base_uri": "https://localhost:8080/",
     "height": 500
    },
    "colab_type": "code",
    "id": "4HR7Lt_tlYeO",
    "outputId": "4c85bc34-ce83-4176-d9e7-e3ad07731fd9"
   },
   "outputs": [
    {
     "data": {
      "text/plain": [
       "<matplotlib.legend.Legend at 0x7f55f8ee0940>"
      ]
     },
     "execution_count": 20,
     "metadata": {
      "tags": []
     },
     "output_type": "execute_result"
    },
    {
     "data": {
      "image/png": "[encoded data removed]",
      "text/plain": [
       "<Figure size 576x576 with 1 Axes>"
      ]
     },
     "metadata": {
      "needs_background": "light",
      "tags": []
     },
     "output_type": "display_data"
    }
   ],
   "source": [
    "\n",
    "plt.rcParams[\"figure.figsize\"] = (8, 8)\n",
    "\n",
    "plt.scatter([x for x, y in es], [y for x, y in es], color='blue')\n",
    "plt.scatter([x for x, y in eu], [y for x, y in eu], color='red')\n",
    "\n",
    "plt.legend(['successful', 'unsuccessful'])"
   ]
  },
  {
   "cell_type": "code",
   "execution_count": 20,
   "metadata": {
    "colab": {},
    "colab_type": "code",
    "id": "7gVUZ8vmmCVi"
   },
   "outputs": [],
   "source": []
  },
  {
   "cell_type": "code",
   "execution_count": 20,
   "metadata": {
    "colab": {},
    "colab_type": "code",
    "id": "bxRuXbsFlNH-"
   },
   "outputs": [],
   "source": []
  }
 ],
 "metadata": {
  "colab": {
   "collapsed_sections": [],
   "name": "classsification.ipynb",
   "provenance": []
  },
  "kernelspec": {
   "display_name": "Python 3",
   "language": "python",
   "name": "python3"
  },
  "language_info": {
   "codemirror_mode": {
    "name": "ipython",
    "version": 3
   },
   "file_extension": ".py",
   "mimetype": "text/x-python",
   "name": "python",
   "nbconvert_exporter": "python",
   "pygments_lexer": "ipython3",
   "version": "3.8.2"
  }
 },
 "nbformat": 4,
 "nbformat_minor": 4
}
