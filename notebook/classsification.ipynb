{
 "cells": [
  {
   "cell_type": "markdown",
   "metadata": {
    "id": "OXzyHhW8YJUB"
   },
   "source": [
    "# Classification model"
   ]
  },
  {
   "cell_type": "code",
   "execution_count": 3,
   "metadata": {
    "executionInfo": {
     "elapsed": 1471,
     "status": "ok",
     "timestamp": 1617262771486,
     "user": {
      "displayName": "Taro Tsuchiya",
      "photoUrl": "",
      "userId": "02315303742336570214"
     },
     "user_tz": -540
    },
    "id": "enF_88VJYJUE"
   },
   "outputs": [],
   "source": [
    "%matplotlib inline\n",
    "import numpy as np \n",
    "import pandas as pd\n",
    "import seaborn\n",
    "import matplotlib.pyplot as plt\n",
    "import warnings\n",
    "warnings.filterwarnings('ignore')"
   ]
  },
  {
   "cell_type": "code",
   "execution_count": 4,
   "metadata": {
    "executionInfo": {
     "elapsed": 1467,
     "status": "ok",
     "timestamp": 1617262771488,
     "user": {
      "displayName": "Taro Tsuchiya",
      "photoUrl": "",
      "userId": "02315303742336570214"
     },
     "user_tz": -540
    },
    "id": "HMUByhb-kV4i"
   },
   "outputs": [],
   "source": [
    "df = pd.read_csv('pnd_features_new.csv', index_col=0)"
   ]
  },
  {
   "cell_type": "code",
   "execution_count": 5,
   "metadata": {
    "executionInfo": {
     "elapsed": 1474,
     "status": "ok",
     "timestamp": 1617262771504,
     "user": {
      "displayName": "Taro Tsuchiya",
      "photoUrl": "",
      "userId": "02315303742336570214"
     },
     "user_tz": -540
    },
    "id": "FZqZL1E5YJVR"
   },
   "outputs": [],
   "source": [
    "# make one hot vector for coin and channel\n",
    "from sklearn import preprocessing\n",
    "from sklearn.preprocessing import OneHotEncoder\n",
    "def one_hot(df, col):\n",
    "    col = df[col]\n",
    "    col = preprocessing.LabelEncoder().fit_transform(col).reshape(-1,1)\n",
    "    col = OneHotEncoder().fit_transform(col).toarray()\n",
    "    return col\n",
    "channel = one_hot(df, 'Channel')"
   ]
  },
  {
   "cell_type": "code",
   "execution_count": 6,
   "metadata": {
    "executionInfo": {
     "elapsed": 1880,
     "status": "ok",
     "timestamp": 1617262771916,
     "user": {
      "displayName": "Taro Tsuchiya",
      "photoUrl": "",
      "userId": "02315303742336570214"
     },
     "user_tz": -540
    },
    "id": "CgI9ezNhYJVj"
   },
   "outputs": [],
   "source": [
    "from sklearn.pipeline import make_pipeline,Pipeline\n",
    "from sklearn.ensemble import RandomForestClassifier\n",
    "from sklearn.model_selection import StratifiedKFold, GridSearchCV\n",
    "from sklearn.metrics import classification_report\n",
    "from sklearn.metrics import confusion_matrix"
   ]
  },
  {
   "cell_type": "code",
   "execution_count": 7,
   "metadata": {
    "colab": {
     "base_uri": "https://localhost:8080/"
    },
    "executionInfo": {
     "elapsed": 1876,
     "status": "ok",
     "timestamp": 1617262771919,
     "user": {
      "displayName": "Taro Tsuchiya",
      "photoUrl": "",
      "userId": "02315303742336570214"
     },
     "user_tz": -540
    },
    "id": "afBdUpAMYJVe",
    "outputId": "2e880bd4-db78-40c6-b1c7-b116e57341dd"
   },
   "outputs": [
    {
     "data": {
      "text/plain": [
       "(1222, 124)"
      ]
     },
     "execution_count": 7,
     "metadata": {
      "tags": []
     },
     "output_type": "execute_result"
    }
   ],
   "source": [
    "X = np.concatenate([df[['month_cos', 'month_sin', 'hour_cos','hour_sin', 'yobit', 'bittrex', 'cryptopia', '2019year', '2020year', '2021year']].values, channel], axis =1)\n",
    "Y = df['success'].values\n",
    "X.shape"
   ]
  },
  {
   "cell_type": "code",
   "execution_count": 8,
   "metadata": {
    "executionInfo": {
     "elapsed": 1870,
     "status": "ok",
     "timestamp": 1617262771921,
     "user": {
      "displayName": "Taro Tsuchiya",
      "photoUrl": "",
      "userId": "02315303742336570214"
     },
     "user_tz": -540
    },
    "id": "FsD0ZMRZYJVm"
   },
   "outputs": [],
   "source": [
    "# split the data into train data (80%) and test data (20%)\n",
    "from sklearn.model_selection import train_test_split\n",
    "X_train, X_test, Y_train, Y_test = train_test_split(X, Y, test_size=0.2, random_state=1)"
   ]
  },
  {
   "cell_type": "code",
   "execution_count": 9,
   "metadata": {
    "executionInfo": {
     "elapsed": 1866,
     "status": "ok",
     "timestamp": 1617262771924,
     "user": {
      "displayName": "Taro Tsuchiya",
      "photoUrl": "",
      "userId": "02315303742336570214"
     },
     "user_tz": -540
    },
    "id": "u07-k5zHmVTo"
   },
   "outputs": [],
   "source": [
    "class Model():\n",
    "    def __init__(self, model, X_train = X_train, Y_train = Y_train):\n",
    "        self.model = model\n",
    "        self.xtrain = X_train\n",
    "        self.ytrain = Y_train\n",
    "    \n",
    "    def train(self, params):\n",
    "        self.params = params\n",
    "\n",
    "        # adjust hyperparameters through gridsearch\n",
    "        self.grid_search = GridSearchCV(self.model, self.params, cv=StratifiedKFold(n_splits=5, random_state=1).split(self.xtrain, self.ytrain), \n",
    "                           verbose=1, n_jobs=1) \n",
    "        self.clf = self.grid_search.fit(self.xtrain, self.ytrain)\n",
    "        print(self.clf.best_params_)\n",
    "  \n",
    "    def predict(self, X_test = X_test, Y_test = Y_test):\n",
    "        self.xtest = X_test\n",
    "        self.ytest = Y_test\n",
    "        self.predict = self.clf.predict(self.xtest)\n",
    "        print(classification_report(self.ytest, self.predict))\n",
    "\n",
    "    def make_matrix(self, name):\n",
    "        matrix = confusion_matrix(self.ytest, self.predict)[::-1][:, ::-1]\n",
    "        proportions = np.zeros((2,2))\n",
    "        for i in range(0,2):\n",
    "            proportions[i,:] = matrix[i,:]/float(matrix[i,:].sum())\n",
    "        names=['successful','unsuccessful']\n",
    "        confusion_df = pd.DataFrame(proportions, index=names,columns=names)\n",
    "        plt.figure(figsize=(5,5))\n",
    "        seaborn.heatmap(confusion_df,annot=True,annot_kws={\"size\": 14},cmap='Blues',square=True,fmt='.2f')\n",
    "        plt.title(\"confusion matrix (%)\", fontsize=20)\n",
    "        plt.xlabel('Prediction',fontsize=16)\n",
    "        plt.ylabel('True',fontsize=16)\n",
    "        plt.tick_params(labelsize=12)\n",
    "        plt.savefig('img/{}.jpg'.format(name))\n",
    "\n",
    "    def predict_unknown(self, test):\n",
    "        self.test = test\n",
    "        self.predict_unknown  = self.clf.predict(self.test)\n",
    "        return self.predict_unknown\n"
   ]
  },
  {
   "cell_type": "code",
   "execution_count": 10,
   "metadata": {
    "colab": {
     "base_uri": "https://localhost:8080/",
     "height": 554
    },
    "executionInfo": {
     "elapsed": 20684,
     "status": "ok",
     "timestamp": 1617262790749,
     "user": {
      "displayName": "Taro Tsuchiya",
      "photoUrl": "",
      "userId": "02315303742336570214"
     },
     "user_tz": -540
    },
    "id": "9rD7jQJUphFG",
    "outputId": "79b32dbb-8003-4278-cf6c-090e6e4837d8"
   },
   "outputs": [
    {
     "name": "stdout",
     "output_type": "stream",
     "text": [
      "Fitting 5 folds for each of 120 candidates, totalling 600 fits\n"
     ]
    },
    {
     "name": "stderr",
     "output_type": "stream",
     "text": [
      "[Parallel(n_jobs=1)]: Using backend SequentialBackend with 1 concurrent workers.\n",
      "[Parallel(n_jobs=1)]: Done 600 out of 600 | elapsed:   18.5s finished\n"
     ]
    },
    {
     "name": "stdout",
     "output_type": "stream",
     "text": [
      "{'criterion': 'gini', 'max_depth': 20, 'min_samples_split': 3, 'n_estimators': 25}\n",
      "              precision    recall  f1-score   support\n",
      "\n",
      "           0       0.76      0.79      0.78       131\n",
      "           1       0.75      0.71      0.73       114\n",
      "\n",
      "    accuracy                           0.76       245\n",
      "   macro avg       0.75      0.75      0.75       245\n",
      "weighted avg       0.75      0.76      0.75       245\n",
      "\n"
     ]
    },
    {
     "data": {
      "image/png": "[encoded data removed]",
      "text/plain": [
       "<Figure size 360x360 with 2 Axes>"
      ]
     },
     "metadata": {
      "needs_background": "light",
      "tags": []
     },
     "output_type": "display_data"
    }
   ],
   "source": [
    "rf = Model(RandomForestClassifier(class_weight ='balanced', random_state = 1))\n",
    "rf_params ={\n",
    "    'criterion': ['gini', 'entropy'],\n",
    "    'max_depth':  [10, 15, 20, None],\n",
    "    'min_samples_split': [2, 3, 4],\n",
    "    'n_estimators': [5,10,15,20,25]}\n",
    "rf.train(rf_params)\n",
    "rf.predict()\n",
    "rf.make_matrix('RandomForest')"
   ]
  },
  {
   "cell_type": "code",
   "execution_count": 11,
   "metadata": {
    "colab": {
     "base_uri": "https://localhost:8080/",
     "height": 554
    },
    "executionInfo": {
     "elapsed": 118368,
     "status": "ok",
     "timestamp": 1617262888448,
     "user": {
      "displayName": "Taro Tsuchiya",
      "photoUrl": "",
      "userId": "02315303742336570214"
     },
     "user_tz": -540
    },
    "id": "Qx3mlYRdxE6L",
    "outputId": "511a4322-7839-41ee-803a-0a5537cce60f"
   },
   "outputs": [
    {
     "name": "stdout",
     "output_type": "stream",
     "text": [
      "Fitting 5 folds for each of 96 candidates, totalling 480 fits\n"
     ]
    },
    {
     "name": "stderr",
     "output_type": "stream",
     "text": [
      "[Parallel(n_jobs=1)]: Using backend SequentialBackend with 1 concurrent workers.\n",
      "[Parallel(n_jobs=1)]: Done 480 out of 480 | elapsed:  1.6min finished\n"
     ]
    },
    {
     "name": "stdout",
     "output_type": "stream",
     "text": [
      "{'xg__colsample_bytree': 0.5, 'xg__learning_rate': 0.1, 'xg__max_depth': 2, 'xg__subsample': 0.5}\n",
      "              precision    recall  f1-score   support\n",
      "\n",
      "           0       0.73      0.82      0.77       131\n",
      "           1       0.76      0.65      0.70       114\n",
      "\n",
      "    accuracy                           0.74       245\n",
      "   macro avg       0.74      0.73      0.73       245\n",
      "weighted avg       0.74      0.74      0.74       245\n",
      "\n"
     ]
    },
    {
     "data": {
      "image/png": "[encoded data removed]",
      "text/plain": [
       "<Figure size 360x360 with 2 Axes>"
      ]
     },
     "metadata": {
      "needs_background": "light",
      "tags": []
     },
     "output_type": "display_data"
    }
   ],
   "source": [
    "import xgboost as xgb\n",
    "xg = Model(xgb.XGBClassifier(class_weight = 'balanced', random_state = 1))\n",
    "xg_params = {\"xg__learning_rate\":[0.1,0.3,0.5],\n",
    "        \"xg__max_depth\": [2,3,5,10],\n",
    "         \"xg__subsample\":[0.5,0.8,0.9,1],\n",
    "         \"xg__colsample_bytree\": [0.5,1.0],\n",
    "         }\n",
    "xg.train(xg_params)\n",
    "xg.predict()\n",
    "xg.make_matrix('XGBoost')"
   ]
  },
  {
   "cell_type": "code",
   "execution_count": 12,
   "metadata": {
    "colab": {
     "base_uri": "https://localhost:8080/",
     "height": 0
    },
    "executionInfo": {
     "elapsed": 124644,
     "status": "ok",
     "timestamp": 1617262894733,
     "user": {
      "displayName": "Taro Tsuchiya",
      "photoUrl": "",
      "userId": "02315303742336570214"
     },
     "user_tz": -540
    },
    "id": "fsbRwMDYB6B7",
    "outputId": "bf318e42-0d9a-41a3-9e52-2c6b2c370b2a"
   },
   "outputs": [
    {
     "name": "stdout",
     "output_type": "stream",
     "text": [
      "Fitting 5 folds for each of 48 candidates, totalling 240 fits\n"
     ]
    },
    {
     "name": "stderr",
     "output_type": "stream",
     "text": [
      "[Parallel(n_jobs=1)]: Using backend SequentialBackend with 1 concurrent workers.\n",
      "[Parallel(n_jobs=1)]: Done 240 out of 240 | elapsed:    5.6s finished\n"
     ]
    },
    {
     "name": "stdout",
     "output_type": "stream",
     "text": [
      "{'learning_rate': 0.1, 'max_depth': 3, 'subsample': 0.5}\n",
      "              precision    recall  f1-score   support\n",
      "\n",
      "           0       0.78      0.73      0.76       131\n",
      "           1       0.71      0.76      0.74       114\n",
      "\n",
      "    accuracy                           0.75       245\n",
      "   macro avg       0.75      0.75      0.75       245\n",
      "weighted avg       0.75      0.75      0.75       245\n",
      "\n"
     ]
    },
    {
     "data": {
      "image/png": "[encoded data removed]",
      "text/plain": [
       "<Figure size 360x360 with 2 Axes>"
      ]
     },
     "metadata": {
      "needs_background": "light",
      "tags": []
     },
     "output_type": "display_data"
    }
   ],
   "source": [
    "import lightgbm as lgb\n",
    "lg = Model(lgb.LGBMClassifier(class_weight = 'balanced', random_state =1))\n",
    "lg_params = {\"learning_rate\":[0.1,0.3,0.5],\n",
    "        \"max_depth\": [2,3,5,10],\n",
    "         \"subsample\":[0.5,0.8,0.9,1],\n",
    "         }\n",
    "lg.train(lg_params)\n",
    "lg.predict()\n",
    "lg.make_matrix('LightGBM')"
   ]
  },
  {
   "cell_type": "markdown",
   "metadata": {
    "id": "DEjDjBdp4b_J"
   },
   "source": [
    "## see the manifold"
   ]
  },
  {
   "cell_type": "code",
   "execution_count": 13,
   "metadata": {
    "colab": {
     "base_uri": "https://localhost:8080/"
    },
    "executionInfo": {
     "elapsed": 124638,
     "status": "ok",
     "timestamp": 1617262894738,
     "user": {
      "displayName": "Taro Tsuchiya",
      "photoUrl": "",
      "userId": "02315303742336570214"
     },
     "user_tz": -540
    },
    "id": "3-v125dGypkX",
    "outputId": "8fe2a4aa-22bf-4df0-f714-3f9500c13518"
   },
   "outputs": [
    {
     "name": "stdout",
     "output_type": "stream",
     "text": [
      "(540, 125)\n",
      "(682, 125)\n",
      "(540, 124)\n",
      "(682, 124)\n",
      "(1222, 124)\n"
     ]
    }
   ],
   "source": [
    "Y2 =np.reshape(Y, (Y.shape[0],1))\n",
    "x_y  = np.concatenate((X, Y2), axis =1)\n",
    "\n",
    "# get feature vectors for successful and unsuccessful pumps\n",
    "successful = x_y[x_y[:, x_y.shape[1]-1] ==1]\n",
    "unsuccessful = x_y[x_y[:, x_y.shape[1]-1] ==0]\n",
    "print(successful.shape)\n",
    "print(unsuccessful.shape)\n",
    "\n",
    "# take out answers (label)\n",
    "successful = successful[:, :successful.shape[1]-1]\n",
    "unsuccessful = unsuccessful[:, :unsuccessful.shape[1]-1]\n",
    "\n",
    "print(successful.shape)\n",
    "print(unsuccessful.shape)\n",
    "manifold = np.concatenate([successful, unsuccessful])\n",
    "print(manifold.shape)"
   ]
  },
  {
   "cell_type": "markdown",
   "metadata": {
    "id": "G-fRMuIfnN1i"
   },
   "source": [
    "### project into $\\mathbb{R^{2}}$, see the manifold"
   ]
  },
  {
   "cell_type": "code",
   "execution_count": 14,
   "metadata": {
    "executionInfo": {
     "elapsed": 124634,
     "status": "ok",
     "timestamp": 1617262894742,
     "user": {
      "displayName": "Taro Tsuchiya",
      "photoUrl": "",
      "userId": "02315303742336570214"
     },
     "user_tz": -540
    },
    "id": "RdoFQOS8kk5v"
   },
   "outputs": [],
   "source": [
    "from sklearn.manifold import TSNE"
   ]
  },
  {
   "cell_type": "code",
   "execution_count": 15,
   "metadata": {
    "executionInfo": {
     "elapsed": 131735,
     "status": "ok",
     "timestamp": 1617262901849,
     "user": {
      "displayName": "Taro Tsuchiya",
      "photoUrl": "",
      "userId": "02315303742336570214"
     },
     "user_tz": -540
    },
    "id": "g09RvpGgkkw6"
   },
   "outputs": [],
   "source": [
    "embeds = TSNE(n_components=2, random_state =0).fit_transform(manifold)\n",
    "es, eu = embeds[:len(successful)], embeds[len(successful):]"
   ]
  },
  {
   "cell_type": "code",
   "execution_count": 16,
   "metadata": {
    "colab": {
     "base_uri": "https://localhost:8080/"
    },
    "executionInfo": {
     "elapsed": 131748,
     "status": "ok",
     "timestamp": 1617262901868,
     "user": {
      "displayName": "Taro Tsuchiya",
      "photoUrl": "",
      "userId": "02315303742336570214"
     },
     "user_tz": -540
    },
    "id": "WrBLXi57luYu",
    "outputId": "3777737b-0408-41d7-ecef-f0c0d6a7e919"
   },
   "outputs": [
    {
     "name": "stdout",
     "output_type": "stream",
     "text": [
      "(1222,)\n",
      "(1222,)\n"
     ]
    }
   ],
   "source": [
    "print(embeds[:,0].shape)\n",
    "print(embeds[:,1].shape)"
   ]
  },
  {
   "cell_type": "code",
   "execution_count": 17,
   "metadata": {
    "colab": {
     "base_uri": "https://localhost:8080/",
     "height": 73
    },
    "executionInfo": {
     "elapsed": 131745,
     "status": "ok",
     "timestamp": 1617262901875,
     "user": {
      "displayName": "Taro Tsuchiya",
      "photoUrl": "",
      "userId": "02315303742336570214"
     },
     "user_tz": -540
    },
    "id": "FuIIBmtvlU_X",
    "outputId": "639e0738-e2d1-42e5-c60e-8a348a2e048c"
   },
   "outputs": [
    {
     "data": {
      "text/plain": [
       "<matplotlib.collections.PathCollection at 0x7f6f61f4d610>"
      ]
     },
     "execution_count": 17,
     "metadata": {
      "tags": []
     },
     "output_type": "execute_result"
    },
    {
     "data": {
      "image/png": "[encoded data removed]",
      "text/plain": [
       "<Figure size 576x576 with 1 Axes>"
      ]
     },
     "metadata": {
      "needs_background": "light",
      "tags": []
     },
     "output_type": "display_data"
    }
   ],
   "source": [
    "plt.rcParams[\"figure.figsize\"] = (8, 8)\n",
    "plt.scatter(embeds[:,0],embeds[:,1])"
   ]
  },
  {
   "cell_type": "code",
   "execution_count": 18,
   "metadata": {
    "colab": {
     "base_uri": "https://localhost:8080/",
     "height": 73
    },
    "executionInfo": {
     "elapsed": 132337,
     "status": "ok",
     "timestamp": 1617262902478,
     "user": {
      "displayName": "Taro Tsuchiya",
      "photoUrl": "",
      "userId": "02315303742336570214"
     },
     "user_tz": -540
    },
    "id": "4HR7Lt_tlYeO",
    "outputId": "1cc0740f-71e8-40dd-88b5-4a7e8a1b9849"
   },
   "outputs": [
    {
     "data": {
      "text/plain": [
       "<matplotlib.legend.Legend at 0x7f6f616c9850>"
      ]
     },
     "execution_count": 18,
     "metadata": {
      "tags": []
     },
     "output_type": "execute_result"
    },
    {
     "data": {
      "image/png": "[encoded data removed]",
      "text/plain": [
       "<Figure size 576x576 with 1 Axes>"
      ]
     },
     "metadata": {
      "needs_background": "light",
      "tags": []
     },
     "output_type": "display_data"
    }
   ],
   "source": [
    "plt.rcParams[\"figure.figsize\"] = (8, 8)\n",
    "\n",
    "plt.scatter([x for x, y in es], [y for x, y in es], color='blue')\n",
    "plt.scatter([x for x, y in eu], [y for x, y in eu], color='red')\n",
    "\n",
    "plt.legend(['successful', 'unsuccessful'])"
   ]
  },
  {
   "cell_type": "code",
   "execution_count": 18,
   "metadata": {
    "executionInfo": {
     "elapsed": 132329,
     "status": "ok",
     "timestamp": 1617262902481,
     "user": {
      "displayName": "Taro Tsuchiya",
      "photoUrl": "",
      "userId": "02315303742336570214"
     },
     "user_tz": -540
    },
    "id": "tT5Wg07HHiM-"
   },
   "outputs": [],
   "source": []
  }
 ],
 "metadata": {
  "colab": {
   "collapsed_sections": [],
   "name": "classsification_final2.ipynb",
   "provenance": []
  },
  "kernelspec": {
   "display_name": "Python 3",
   "language": "python",
   "name": "python3"
  },
  "language_info": {
   "codemirror_mode": {
    "name": "ipython",
    "version": 3
   },
   "file_extension": ".py",
   "mimetype": "text/x-python",
   "name": "python",
   "nbconvert_exporter": "python",
   "pygments_lexer": "ipython3",
   "version": "3.8.2"
  }
 },
 "nbformat": 4,
 "nbformat_minor": 4
}
