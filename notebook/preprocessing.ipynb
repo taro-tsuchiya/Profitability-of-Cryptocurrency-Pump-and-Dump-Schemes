{
 "cells": [
  {
   "cell_type": "markdown",
   "metadata": {
    "colab_type": "text",
    "id": "OXzyHhW8YJUB"
   },
   "source": [
    "# Preprocessing"
   ]
  },
  {
   "cell_type": "code",
   "execution_count": 1,
   "metadata": {
    "colab": {},
    "colab_type": "code",
    "id": "mMISrogrYWLw"
   },
   "outputs": [
    {
     "data": {
      "text/plain": [
       "'C:\\\\Users\\\\tarof\\\\pump2\\\\code'"
      ]
     },
     "execution_count": 1,
     "metadata": {},
     "output_type": "execute_result"
    }
   ],
   "source": [
    "import os\n",
    "os.getcwd()"
   ]
  },
  {
   "cell_type": "code",
   "execution_count": 2,
   "metadata": {
    "colab": {},
    "colab_type": "code",
    "id": "enF_88VJYJUE"
   },
   "outputs": [],
   "source": [
    "%matplotlib inline\n",
    "import numpy as np \n",
    "import pandas as pd\n",
    "import seaborn\n",
    "import matplotlib.pyplot as plt\n",
    "import warnings\n",
    "warnings.filterwarnings('ignore')"
   ]
  },
  {
   "cell_type": "code",
   "execution_count": 3,
   "metadata": {
    "colab": {},
    "colab_type": "code",
    "id": "reCz032FYJUR"
   },
   "outputs": [
    {
     "data": {
      "text/plain": [
       "order                                    43\n",
       "channel                  Bitcoin Pump Group\n",
       "subscriber_0901                       32202\n",
       "currency                                ICX\n",
       "exchange                            Binance\n",
       "duration                                 77\n",
       "volume                                32.23\n",
       "price before pump                   2.7e-05\n",
       "max price                          2.78e-05\n",
       "our buy price                      2.77e-05\n",
       "our profit(%)                        0.0036\n",
       "theoretical buy price              2.77e-05\n",
       "theoretical profit(%)                0.0036\n",
       "channel.1                              Show\n",
       "Name: 2019-07-31 17:43:51, dtype: object"
      ]
     },
     "execution_count": 3,
     "metadata": {},
     "output_type": "execute_result"
    }
   ],
   "source": [
    "#read P&D data obtained from PumpOlymp website (premiereship)\n",
    "df_original = pd.read_csv(\"pump_history_0831.csv\", parse_dates=['date'],index_col = ['date'])\n",
    "#see one example\n",
    "df_original.iloc[42]"
   ]
  },
  {
   "cell_type": "code",
   "execution_count": 4,
   "metadata": {
    "colab": {},
    "colab_type": "code",
    "id": "wxJmP0qdYJUV"
   },
   "outputs": [
    {
     "name": "stdout",
     "output_type": "stream",
     "text": [
      "280\n",
      "255\n"
     ]
    },
    {
     "data": {
      "text/plain": [
       "<matplotlib.axes._subplots.AxesSubplot at 0x277e3c8a8d0>"
      ]
     },
     "execution_count": 4,
     "metadata": {},
     "output_type": "execute_result"
    },
    {
     "data": {
      "image/png": "[encoded data removed]",
      "text/plain": [
       "<Figure size 432x288 with 1 Axes>"
      ]
     },
     "metadata": {
      "needs_background": "light"
     },
     "output_type": "display_data"
    }
   ],
   "source": [
    "#label successful coin\n",
    "#set threshold as 0.05 (5%)\n",
    "df_successful = df_original[df_original[\"theoretical profit(%)\"] > 0.05]\n",
    "df_successful['success'] = 1\n",
    "df_unsuccessful = df_original[df_original[\"theoretical profit(%)\"] <= 0.05]\n",
    "df_unsuccessful['success'] = 0\n",
    "df = pd.concat([df_successful, df_unsuccessful])\n",
    "df = df.sort_index()\n",
    "print(len(df_successful))\n",
    "print(len(df_unsuccessful))\n",
    "df['success'].hist()"
   ]
  },
  {
   "cell_type": "code",
   "execution_count": 5,
   "metadata": {},
   "outputs": [],
   "source": [
    "# keep original as exchange 2\n",
    "df['exchange2'] = df['exchange']"
   ]
  },
  {
   "cell_type": "code",
   "execution_count": 6,
   "metadata": {
    "colab": {},
    "colab_type": "code",
    "id": "ZOjsTsi6YJUZ"
   },
   "outputs": [],
   "source": [
    "#make exchange dummy variable\n",
    "df = df.replace({'exchange': {'Yobit':1, 'Binance':0, \"Bittrex\": 0}})\n",
    "#fill NaN with 0\n",
    "df = df.fillna(0)"
   ]
  },
  {
   "cell_type": "code",
   "execution_count": 7,
   "metadata": {
    "colab": {},
    "colab_type": "code",
    "id": "wPj0gyr-YJUd"
   },
   "outputs": [
    {
     "data": {
      "text/plain": [
       "(2349, 10)"
      ]
     },
     "execution_count": 7,
     "metadata": {},
     "output_type": "execute_result"
    }
   ],
   "source": [
    "#import additional coin information\n",
    "df_coin = pd.read_csv(\"coin_ranking_0902.csv\")\n",
    "df_coin.shape"
   ]
  },
  {
   "cell_type": "code",
   "execution_count": 8,
   "metadata": {
    "colab": {},
    "colab_type": "code",
    "id": "ZdNcDzycYJUh"
   },
   "outputs": [],
   "source": [
    "#create new columns\n",
    "df['ranked'] = 0\n",
    "df['coin cap'] = 0\n",
    "df['coin volume'] = 0\n",
    "df['coin ranking'] = 0"
   ]
  },
  {
   "cell_type": "code",
   "execution_count": 9,
   "metadata": {
    "colab": {},
    "colab_type": "code",
    "id": "Xrg5Nr7bYJUq"
   },
   "outputs": [],
   "source": [
    "#match the two data sheet with top 1264 coins\n",
    "#add coin information \n",
    "for idx in range(0, df.shape[0]):\n",
    "    for idx2 in range(0, 1265):\n",
    "        if df['currency'].iloc[idx] == df_coin['Symbol'].iloc[idx2]:\n",
    "            df['ranked'].iloc[idx] = 1\n",
    "            df['coin cap'].iloc[idx] = float(df_coin['Market Cap'].iloc[idx2])\n",
    "            df['coin ranking'].iloc[idx] = int(df_coin['Ranking'].iloc[idx2])\n",
    "            df['coin volume'].iloc[idx] = float(df_coin['Volume (24h)'].iloc[idx2])"
   ]
  },
  {
   "cell_type": "code",
   "execution_count": 10,
   "metadata": {
    "colab": {},
    "colab_type": "code",
    "id": "DUc1Ban-YJUv"
   },
   "outputs": [
    {
     "name": "stdout",
     "output_type": "stream",
     "text": [
      "(535, 20)\n",
      "(444, 20)\n",
      "(91, 20)\n"
     ]
    }
   ],
   "source": [
    "print(df.shape)\n",
    "print(df[df['ranked']==1].shape)\n",
    "print(df[df['ranked']==0].shape)"
   ]
  },
  {
   "cell_type": "markdown",
   "metadata": {
    "colab_type": "text",
    "id": "2mn7NF37YJU0"
   },
   "source": [
    "note that 91 pumps are using coins on the rankings, but we assume that market cap and volume is very low for these coins; therefore assign 0 for each data"
   ]
  },
  {
   "cell_type": "code",
   "execution_count": 11,
   "metadata": {
    "colab": {},
    "colab_type": "code",
    "id": "pHraTckJYJU2"
   },
   "outputs": [],
   "source": [
    "#get time\n",
    "df['month']= df.index.month\n",
    "df['weekday']= df.index.weekday\n",
    "df['hour']= df.index.hour"
   ]
  },
  {
   "cell_type": "markdown",
   "metadata": {
    "colab_type": "text",
    "id": "6tSVfXSxYJU7"
   },
   "source": [
    "time data in cordinates"
   ]
  },
  {
   "cell_type": "code",
   "execution_count": 12,
   "metadata": {
    "colab": {},
    "colab_type": "code",
    "id": "5AokBSsBYJU8"
   },
   "outputs": [],
   "source": [
    "#cyclical representation of time\n",
    "def cordinate(df, col):\n",
    "    df[col + '_cos'] = np.cos(2 * np.pi * df[col] / df[col].max())\n",
    "    df[col + '_sin'] = np.sin(2 * np.pi * df[col] / df[col].max())\n",
    "    return df"
   ]
  },
  {
   "cell_type": "code",
   "execution_count": 13,
   "metadata": {
    "colab": {},
    "colab_type": "code",
    "id": "gMUS2_0hYJU-"
   },
   "outputs": [],
   "source": [
    "df = cordinate(df, 'hour')"
   ]
  },
  {
   "cell_type": "code",
   "execution_count": 14,
   "metadata": {
    "colab": {},
    "colab_type": "code",
    "id": "uzTRnKQ9YJVB"
   },
   "outputs": [
    {
     "data": {
      "image/png": "[encoded data removed]",
      "text/plain": [
       "<Figure size 432x288 with 1 Axes>"
      ]
     },
     "metadata": {
      "needs_background": "light"
     },
     "output_type": "display_data"
    }
   ],
   "source": [
    "df.plot.scatter('hour_sin', 'hour_cos').set_aspect('equal')"
   ]
  },
  {
   "cell_type": "code",
   "execution_count": 15,
   "metadata": {
    "colab": {},
    "colab_type": "code",
    "id": "pIX4FD3eblQ9"
   },
   "outputs": [],
   "source": [
    "#to csv file\n",
    "df.head()\n",
    "df.to_csv(\"pnd_data.csv\") "
   ]
  },
  {
   "cell_type": "code",
   "execution_count": null,
   "metadata": {},
   "outputs": [],
   "source": []
  }
 ],
 "metadata": {
  "colab": {
   "collapsed_sections": [],
   "name": "pnd_model_final.ipynb",
   "provenance": [],
   "toc_visible": true
  },
  "kernelspec": {
   "display_name": "Python (crypto)",
   "language": "python",
   "name": "crypto"
  },
  "language_info": {
   "codemirror_mode": {
    "name": "ipython",
    "version": 3
   },
   "file_extension": ".py",
   "mimetype": "text/x-python",
   "name": "python",
   "nbconvert_exporter": "python",
   "pygments_lexer": "ipython3",
   "version": "3.7.0"
  }
 },
 "nbformat": 4,
 "nbformat_minor": 4
}
