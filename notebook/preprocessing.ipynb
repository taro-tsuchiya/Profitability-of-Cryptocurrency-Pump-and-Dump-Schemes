{
 "cells": [
  {
   "cell_type": "markdown",
   "metadata": {
    "colab_type": "text",
    "id": "OXzyHhW8YJUB"
   },
   "source": [
    "# Preprocessing"
   ]
  },
  {
   "cell_type": "code",
   "execution_count": 1,
   "metadata": {
    "colab": {},
    "colab_type": "code",
    "id": "enF_88VJYJUE"
   },
   "outputs": [],
   "source": [
    "%matplotlib inline\n",
    "import numpy as np \n",
    "import pandas as pd\n",
    "import seaborn as sns\n",
    "import matplotlib.pyplot as plt\n",
    "import warnings\n",
    "warnings.filterwarnings('ignore')"
   ]
  },
  {
   "cell_type": "code",
   "execution_count": 2,
   "metadata": {
    "colab": {},
    "colab_type": "code",
    "id": "reCz032FYJUR"
   },
   "outputs": [
    {
     "data": {
      "text/plain": [
       "order                                    43\n",
       "channel                  Bitcoin Pump Group\n",
       "subscriber_0901                       32202\n",
       "currency                                ICX\n",
       "exchange                            Binance\n",
       "duration                                 77\n",
       "volume                                32.23\n",
       "price before pump                   2.7e-05\n",
       "max price                          2.78e-05\n",
       "our buy price                      2.77e-05\n",
       "our profit(%)                        0.0036\n",
       "theoretical buy price              2.77e-05\n",
       "theoretical profit(%)                0.0036\n",
       "channel.1                              Show\n",
       "Name: 2019-07-31 17:43:51, dtype: object"
      ]
     },
     "execution_count": 2,
     "metadata": {},
     "output_type": "execute_result"
    }
   ],
   "source": [
    "# read P&D data obtained from PumpOlymp website (premiereship)\n",
    "df_original = pd.read_csv(\"pump_history_0831.csv\", parse_dates=['date'],index_col = ['date'])\n",
    "# see one example\n",
    "df_original.iloc[42]"
   ]
  },
  {
   "cell_type": "code",
   "execution_count": 3,
   "metadata": {},
   "outputs": [],
   "source": [
    "df_original.index = df_original.index.tz_localize('Asia/Tokyo')\n",
    "df_original.index = df_original.index.tz_convert('UTC')"
   ]
  },
  {
   "cell_type": "code",
   "execution_count": 4,
   "metadata": {
    "colab": {},
    "colab_type": "code",
    "id": "wxJmP0qdYJUV"
   },
   "outputs": [
    {
     "name": "stdout",
     "output_type": "stream",
     "text": [
      "280\n",
      "255\n"
     ]
    },
    {
     "data": {
      "text/plain": [
       "<matplotlib.axes._subplots.AxesSubplot at 0x1e535afe5e0>"
      ]
     },
     "execution_count": 4,
     "metadata": {},
     "output_type": "execute_result"
    },
    {
     "data": {
      "image/png": "[encoded data removed]",
      "text/plain": [
       "<Figure size 432x288 with 1 Axes>"
      ]
     },
     "metadata": {
      "needs_background": "light"
     },
     "output_type": "display_data"
    }
   ],
   "source": [
    "# label successful coin\n",
    "# set threshold as 0.05 (5%)\n",
    "df_successful = df_original[df_original[\"theoretical profit(%)\"] > 0.05]\n",
    "df_successful['success'] = 1\n",
    "df_unsuccessful = df_original[df_original[\"theoretical profit(%)\"] <= 0.05]\n",
    "df_unsuccessful['success'] = 0\n",
    "df = pd.concat([df_successful, df_unsuccessful])\n",
    "df = df.sort_index()\n",
    "print(len(df_successful))\n",
    "print(len(df_unsuccessful))\n",
    "df['success'].hist()"
   ]
  },
  {
   "cell_type": "code",
   "execution_count": 5,
   "metadata": {},
   "outputs": [],
   "source": [
    "# theoretical return\n",
    "df['theoretical_return'] = df['theoretical profit(%)'] +1"
   ]
  },
  {
   "cell_type": "code",
   "execution_count": 6,
   "metadata": {},
   "outputs": [],
   "source": [
    "df['yobit'] = df['exchange']\n",
    "df['bittrex'] = df['exchange']\n",
    "df['yobit'] = df['yobit'].replace(['Yobit', 'Bittrex', 'Binance'], [1, 0, 0])\n",
    "df['bittrex'] = df['bittrex'].replace(['Yobit', 'Bittrex', 'Binance'], [0, 1, 0])"
   ]
  },
  {
   "cell_type": "code",
   "execution_count": 7,
   "metadata": {},
   "outputs": [],
   "source": [
    "df['order'] = pd.RangeIndex(start=1, stop=len(df.index) + 1, step=1)"
   ]
  },
  {
   "cell_type": "code",
   "execution_count": 8,
   "metadata": {},
   "outputs": [],
   "source": [
    "df = df.fillna(0)"
   ]
  },
  {
   "cell_type": "code",
   "execution_count": 9,
   "metadata": {
    "colab": {},
    "colab_type": "code",
    "id": "wPj0gyr-YJUd"
   },
   "outputs": [
    {
     "data": {
      "text/plain": [
       "(2349, 10)"
      ]
     },
     "execution_count": 9,
     "metadata": {},
     "output_type": "execute_result"
    }
   ],
   "source": [
    "# import additional coin information\n",
    "df_coin = pd.read_csv(\"coin_ranking_0902.csv\")\n",
    "df_coin.shape"
   ]
  },
  {
   "cell_type": "code",
   "execution_count": 10,
   "metadata": {
    "colab": {},
    "colab_type": "code",
    "id": "ZdNcDzycYJUh"
   },
   "outputs": [],
   "source": [
    "# create new columns\n",
    "df['ranked'] = 0\n",
    "df['coin_cap'] = 0\n",
    "df['coin_volume'] = 0\n",
    "df['coin_ranking'] = 0"
   ]
  },
  {
   "cell_type": "code",
   "execution_count": 11,
   "metadata": {
    "colab": {},
    "colab_type": "code",
    "id": "Xrg5Nr7bYJUq"
   },
   "outputs": [],
   "source": [
    "# match the two data sheet with top 1264 coins\n",
    "# add coin information \n",
    "for idx in range(0, df.shape[0]):\n",
    "    for idx2 in range(0, 1265):\n",
    "        if df['currency'].iloc[idx] == df_coin['Symbol'].iloc[idx2]:\n",
    "            df['ranked'].iloc[idx] = 1\n",
    "            df['coin_cap'].iloc[idx] = float(df_coin['Market Cap'].iloc[idx2])\n",
    "            df['coin_ranking'].iloc[idx] = int(df_coin['Ranking'].iloc[idx2])\n",
    "            df['coin_volume'].iloc[idx] = float(df_coin['Volume (24h)'].iloc[idx2])"
   ]
  },
  {
   "cell_type": "code",
   "execution_count": 12,
   "metadata": {},
   "outputs": [],
   "source": [
    "# calculate relative volume by coin price\n",
    "df['relative_volume'] = df['volume'] / df['price before pump']"
   ]
  },
  {
   "cell_type": "code",
   "execution_count": 13,
   "metadata": {
    "colab": {},
    "colab_type": "code",
    "id": "DUc1Ban-YJUv"
   },
   "outputs": [
    {
     "name": "stdout",
     "output_type": "stream",
     "text": [
      "(535, 23)\n",
      "(444, 23)\n",
      "(91, 23)\n"
     ]
    }
   ],
   "source": [
    "print(df.shape)\n",
    "print(df[df['ranked']==1].shape)\n",
    "print(df[df['ranked']==0].shape)"
   ]
  },
  {
   "cell_type": "markdown",
   "metadata": {
    "colab_type": "text",
    "id": "2mn7NF37YJU0"
   },
   "source": [
    "note that 91 pumps are using coins not in the rankings, but we assume that market cap and volume is very low for these coins; therefore assign 0 for each data"
   ]
  },
  {
   "cell_type": "code",
   "execution_count": 14,
   "metadata": {
    "colab": {},
    "colab_type": "code",
    "id": "pHraTckJYJU2"
   },
   "outputs": [],
   "source": [
    "# get time\n",
    "df['month']= df.index.month\n",
    "df['weekday']= df.index.weekday\n",
    "df['hour']= df.index.hour\n",
    "df['year']= df.index.year"
   ]
  },
  {
   "cell_type": "code",
   "execution_count": 15,
   "metadata": {},
   "outputs": [],
   "source": [
    "# year dummy\n",
    "df['year'] = df['year'].replace([2018, 2019], [0, 1])"
   ]
  },
  {
   "cell_type": "markdown",
   "metadata": {
    "colab_type": "text",
    "id": "6tSVfXSxYJU7"
   },
   "source": [
    "time data in cordinates"
   ]
  },
  {
   "cell_type": "code",
   "execution_count": 16,
   "metadata": {
    "colab": {},
    "colab_type": "code",
    "id": "5AokBSsBYJU8"
   },
   "outputs": [],
   "source": [
    "# cyclical representation of time\n",
    "def cordinate(df, col):\n",
    "    df[col + '_cos'] = np.cos(2 * np.pi * df[col] / df[col].max())\n",
    "    df[col + '_sin'] = np.sin(2 * np.pi * df[col] / df[col].max())\n",
    "    return df"
   ]
  },
  {
   "cell_type": "code",
   "execution_count": 17,
   "metadata": {},
   "outputs": [],
   "source": [
    "df = cordinate(df, 'month')"
   ]
  },
  {
   "cell_type": "code",
   "execution_count": 18,
   "metadata": {},
   "outputs": [
    {
     "data": {
      "image/png": "[encoded data removed]",
      "text/plain": [
       "<Figure size 432x288 with 1 Axes>"
      ]
     },
     "metadata": {
      "needs_background": "light"
     },
     "output_type": "display_data"
    }
   ],
   "source": [
    "df.plot.scatter('month_sin', 'month_cos').set_aspect('equal')"
   ]
  },
  {
   "cell_type": "code",
   "execution_count": 19,
   "metadata": {
    "colab": {},
    "colab_type": "code",
    "id": "gMUS2_0hYJU-"
   },
   "outputs": [],
   "source": [
    "df = cordinate(df, 'hour')"
   ]
  },
  {
   "cell_type": "code",
   "execution_count": 20,
   "metadata": {
    "colab": {},
    "colab_type": "code",
    "id": "uzTRnKQ9YJVB"
   },
   "outputs": [
    {
     "data": {
      "image/png": "[encoded data removed]",
      "text/plain": [
       "<Figure size 432x288 with 1 Axes>"
      ]
     },
     "metadata": {
      "needs_background": "light"
     },
     "output_type": "display_data"
    }
   ],
   "source": [
    "df.plot.scatter('hour_sin', 'hour_cos').set_aspect('equal')"
   ]
  },
  {
   "cell_type": "code",
   "execution_count": 21,
   "metadata": {
    "colab": {},
    "colab_type": "code",
    "id": "pIX4FD3eblQ9"
   },
   "outputs": [],
   "source": [
    "# to csv file\n",
    "df.head()\n",
    "df.to_csv(\"pnd_features.csv\") "
   ]
  },
  {
   "cell_type": "code",
   "execution_count": 22,
   "metadata": {},
   "outputs": [
    {
     "data": {
      "text/html": [
       "<div>\n",
       "<style scoped>\n",
       "    .dataframe tbody tr th:only-of-type {\n",
       "        vertical-align: middle;\n",
       "    }\n",
       "\n",
       "    .dataframe tbody tr th {\n",
       "        vertical-align: top;\n",
       "    }\n",
       "\n",
       "    .dataframe thead th {\n",
       "        text-align: right;\n",
       "    }\n",
       "</style>\n",
       "<table border=\"1\" class=\"dataframe\">\n",
       "  <thead>\n",
       "    <tr style=\"text-align: right;\">\n",
       "      <th></th>\n",
       "      <th>subscriber_0901</th>\n",
       "      <th>duration</th>\n",
       "      <th>relative_volume</th>\n",
       "      <th>coin_cap</th>\n",
       "      <th>yobit</th>\n",
       "      <th>bittrex</th>\n",
       "      <th>year</th>\n",
       "    </tr>\n",
       "  </thead>\n",
       "  <tbody>\n",
       "    <tr>\n",
       "      <th>count</th>\n",
       "      <td>535.00</td>\n",
       "      <td>535.00</td>\n",
       "      <td>5.35e+02</td>\n",
       "      <td>5.35e+02</td>\n",
       "      <td>535.00</td>\n",
       "      <td>535.00</td>\n",
       "      <td>535.00</td>\n",
       "    </tr>\n",
       "    <tr>\n",
       "      <th>mean</th>\n",
       "      <td>15906.42</td>\n",
       "      <td>164.50</td>\n",
       "      <td>3.21e+07</td>\n",
       "      <td>6.88e+07</td>\n",
       "      <td>0.45</td>\n",
       "      <td>0.07</td>\n",
       "      <td>0.72</td>\n",
       "    </tr>\n",
       "    <tr>\n",
       "      <th>std</th>\n",
       "      <td>26671.15</td>\n",
       "      <td>276.48</td>\n",
       "      <td>5.58e+08</td>\n",
       "      <td>3.88e+08</td>\n",
       "      <td>0.50</td>\n",
       "      <td>0.25</td>\n",
       "      <td>0.45</td>\n",
       "    </tr>\n",
       "    <tr>\n",
       "      <th>min</th>\n",
       "      <td>0.00</td>\n",
       "      <td>0.00</td>\n",
       "      <td>0.00e+00</td>\n",
       "      <td>0.00e+00</td>\n",
       "      <td>0.00</td>\n",
       "      <td>0.00</td>\n",
       "      <td>0.00</td>\n",
       "    </tr>\n",
       "    <tr>\n",
       "      <th>25%</th>\n",
       "      <td>433.50</td>\n",
       "      <td>16.00</td>\n",
       "      <td>1.56e+04</td>\n",
       "      <td>3.13e+06</td>\n",
       "      <td>0.00</td>\n",
       "      <td>0.00</td>\n",
       "      <td>0.00</td>\n",
       "    </tr>\n",
       "    <tr>\n",
       "      <th>50%</th>\n",
       "      <td>2210.00</td>\n",
       "      <td>58.00</td>\n",
       "      <td>2.21e+05</td>\n",
       "      <td>7.84e+06</td>\n",
       "      <td>0.00</td>\n",
       "      <td>0.00</td>\n",
       "      <td>1.00</td>\n",
       "    </tr>\n",
       "    <tr>\n",
       "      <th>75%</th>\n",
       "      <td>13612.00</td>\n",
       "      <td>185.00</td>\n",
       "      <td>2.34e+06</td>\n",
       "      <td>2.46e+07</td>\n",
       "      <td>1.00</td>\n",
       "      <td>0.00</td>\n",
       "      <td>1.00</td>\n",
       "    </tr>\n",
       "    <tr>\n",
       "      <th>max</th>\n",
       "      <td>248813.00</td>\n",
       "      <td>2368.00</td>\n",
       "      <td>1.28e+10</td>\n",
       "      <td>5.06e+09</td>\n",
       "      <td>1.00</td>\n",
       "      <td>1.00</td>\n",
       "      <td>1.00</td>\n",
       "    </tr>\n",
       "  </tbody>\n",
       "</table>\n",
       "</div>"
      ],
      "text/plain": [
       "       subscriber_0901  duration  relative_volume  coin_cap   yobit  bittrex  \\\n",
       "count           535.00    535.00         5.35e+02  5.35e+02  535.00   535.00   \n",
       "mean          15906.42    164.50         3.21e+07  6.88e+07    0.45     0.07   \n",
       "std           26671.15    276.48         5.58e+08  3.88e+08    0.50     0.25   \n",
       "min               0.00      0.00         0.00e+00  0.00e+00    0.00     0.00   \n",
       "25%             433.50     16.00         1.56e+04  3.13e+06    0.00     0.00   \n",
       "50%            2210.00     58.00         2.21e+05  7.84e+06    0.00     0.00   \n",
       "75%           13612.00    185.00         2.34e+06  2.46e+07    1.00     0.00   \n",
       "max          248813.00   2368.00         1.28e+10  5.06e+09    1.00     1.00   \n",
       "\n",
       "         year  \n",
       "count  535.00  \n",
       "mean     0.72  \n",
       "std      0.45  \n",
       "min      0.00  \n",
       "25%      0.00  \n",
       "50%      1.00  \n",
       "75%      1.00  \n",
       "max      1.00  "
      ]
     },
     "execution_count": 22,
     "metadata": {},
     "output_type": "execute_result"
    }
   ],
   "source": [
    "pd.options.display.precision = 2\n",
    "df[['subscriber_0901', 'duration', 'relative_volume','coin_cap', 'yobit', 'bittrex', 'year']].describe()"
   ]
  },
  {
   "cell_type": "code",
   "execution_count": 23,
   "metadata": {},
   "outputs": [
    {
     "data": {
      "text/plain": [
       "<matplotlib.axes._subplots.AxesSubplot at 0x1e537d34eb0>"
      ]
     },
     "execution_count": 23,
     "metadata": {},
     "output_type": "execute_result"
    },
    {
     "data": {
      "image/png": "[encoded data removed]",
      "text/plain": [
       "<Figure size 1620x648 with 2 Axes>"
      ]
     },
     "metadata": {
      "needs_background": "light"
     },
     "output_type": "display_data"
    }
   ],
   "source": [
    "# partial correlation matrix\n",
    "variables = df[['subscriber_0901', 'duration', 'relative_volume','coin_cap', 'yobit', 'bittrex', 'year']]\n",
    "cor_mat= variables[:].corr()\n",
    "mask = np.array(cor_mat)\n",
    "mask[np.tril_indices_from(mask)] = False\n",
    "fig=plt.gcf()\n",
    "fig.set_size_inches(22.5,9)\n",
    "cmap = sns.color_palette(\"bwr\", 200)\n",
    "sns.heatmap(data=cor_mat,mask=mask,square=True,annot=True,cbar=True, cmap = cmap, vmin= -1, vmax = 1)"
   ]
  },
  {
   "cell_type": "code",
   "execution_count": null,
   "metadata": {},
   "outputs": [],
   "source": []
  }
 ],
 "metadata": {
  "colab": {
   "collapsed_sections": [],
   "name": "pnd_model_final.ipynb",
   "provenance": [],
   "toc_visible": true
  },
  "kernelspec": {
   "display_name": "Python 3",
   "language": "python",
   "name": "python3"
  },
  "language_info": {
   "codemirror_mode": {
    "name": "ipython",
    "version": 3
   },
   "file_extension": ".py",
   "mimetype": "text/x-python",
   "name": "python",
   "nbconvert_exporter": "python",
   "pygments_lexer": "ipython3",
   "version": "3.8.2"
  }
 },
 "nbformat": 4,
 "nbformat_minor": 4
}
