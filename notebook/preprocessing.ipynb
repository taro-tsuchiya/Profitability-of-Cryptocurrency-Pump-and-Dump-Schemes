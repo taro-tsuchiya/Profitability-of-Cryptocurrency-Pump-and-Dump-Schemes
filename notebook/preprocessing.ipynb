{
 "cells": [
  {
   "cell_type": "markdown",
   "metadata": {
    "colab_type": "text",
    "id": "OXzyHhW8YJUB"
   },
   "source": [
    "# Preprocessing"
   ]
  },
  {
   "cell_type": "code",
   "execution_count": 1,
   "metadata": {
    "colab": {},
    "colab_type": "code",
    "id": "enF_88VJYJUE"
   },
   "outputs": [],
   "source": [
    "%matplotlib inline\n",
    "import numpy as np \n",
    "import pandas as pd\n",
    "import seaborn as sns\n",
    "import matplotlib.pyplot as plt\n",
    "import glob\n",
    "import warnings\n",
    "warnings.filterwarnings('ignore')"
   ]
  },
  {
   "cell_type": "code",
   "execution_count": 2,
   "metadata": {
    "colab": {},
    "colab_type": "code",
    "id": "reCz032FYJUR"
   },
   "outputs": [
    {
     "data": {
      "text/plain": [
       "Channel                  Binance Royal Pump\n",
       "Currency                               CTXC\n",
       "Exchange                            Binance\n",
       "Duration                               5:16\n",
       "Volume                                61.26\n",
       "Price before pump                  5.53e-06\n",
       "Max price                           6.8e-06\n",
       "Our buy price                      6.08e-06\n",
       "Our profit                           11.84%\n",
       "Theoretical buy price              6.13e-06\n",
       "Theoretical profit                   10.93%\n",
       "Name: 2021-03-19 02:00:14, dtype: object"
      ]
     },
     "execution_count": 2,
     "metadata": {},
     "output_type": "execute_result"
    }
   ],
   "source": [
    "# read P&D data obtained from PumpOlymp website (premiereship)\n",
    "df = pd.read_csv('pump_history_0401.csv', parse_dates=['Date'], index_col = ['Date'])\n",
    "\n",
    "# see one example\n",
    "df.iloc[42]"
   ]
  },
  {
   "cell_type": "code",
   "execution_count": 3,
   "metadata": {},
   "outputs": [],
   "source": [
    "# set the time zone to UTC\n",
    "df.index = df.index.tz_localize('Asia/Tokyo')\n",
    "df.index = df.index.tz_convert('UTC')"
   ]
  },
  {
   "cell_type": "code",
   "execution_count": 4,
   "metadata": {},
   "outputs": [],
   "source": [
    "# get rid of % sign \n",
    "df['theoretical_profit'] = df['Theoretical profit'].apply(lambda x: float(x[:-1])/100)"
   ]
  },
  {
   "cell_type": "code",
   "execution_count": 5,
   "metadata": {},
   "outputs": [
    {
     "name": "stdout",
     "output_type": "stream",
     "text": [
      "successful: 540, unsuccessful: 682\n"
     ]
    },
    {
     "data": {
      "text/plain": [
       "<matplotlib.axes._subplots.AxesSubplot at 0x22d3c2ecf70>"
      ]
     },
     "execution_count": 5,
     "metadata": {},
     "output_type": "execute_result"
    },
    {
     "data": {
      "image/png": "[encoded data removed]",
      "text/plain": [
       "<Figure size 432x288 with 1 Axes>"
      ]
     },
     "metadata": {
      "needs_background": "light"
     },
     "output_type": "display_data"
    }
   ],
   "source": [
    "# label successful coin\n",
    "# set threshold as 0.05 (5%)\n",
    "df['success'] = df['theoretical_profit'].apply(lambda x: 1 if x>=0.05 else 0)\n",
    "df = df.sort_index()\n",
    "print('successful: {}, unsuccessful: {}'.format(\n",
    "    df[df['success']==1].shape[0], df[df['success']==0].shape[0])) \n",
    "df['success'].hist()"
   ]
  },
  {
   "cell_type": "code",
   "execution_count": 6,
   "metadata": {},
   "outputs": [],
   "source": [
    "# define theoretical return\n",
    "df['theoretical_return'] = df['theoretical_profit'] +1\n",
    "# calculate relative volume by coin price\n",
    "df['relative_volume'] = df['Volume'] / df['Price before pump']"
   ]
  },
  {
   "cell_type": "code",
   "execution_count": 7,
   "metadata": {},
   "outputs": [],
   "source": [
    "# make dummy variable for exchanges\n",
    "df['yobit'] = df['Exchange']\n",
    "df['bittrex'] = df['Exchange']\n",
    "df['cryptopia'] = df['Exchange']\n",
    "df['yobit'] = df['yobit'].replace(['Yobit', 'Bittrex', 'Binance', 'Cryptopia'], [1, 0, 0, 0])\n",
    "df['bittrex'] = df['bittrex'].replace(['Yobit', 'Bittrex', 'Binance', 'Cryptopia'], [0, 1, 0, 0])\n",
    "df['cryptopia'] = df['cryptopia'].replace(['Yobit', 'Bittrex', 'Binance', 'Cryptopia'], [0, 0, 0, 1])"
   ]
  },
  {
   "cell_type": "code",
   "execution_count": 8,
   "metadata": {},
   "outputs": [],
   "source": [
    "# make interaction variables\n",
    "df['volume_yobit'] = df['relative_volume'] * df['yobit']\n",
    "df['volume_cryptopia'] = df['relative_volume'] * df['cryptopia']\n",
    "df['volume_bittrex'] = df['relative_volume'] * df['bittrex']"
   ]
  },
  {
   "cell_type": "code",
   "execution_count": 9,
   "metadata": {},
   "outputs": [],
   "source": [
    "def min_sec(time):\n",
    "    div = time.find(':')\n",
    "    minute = int(time[:div])\n",
    "    second = int(time[div+1:])\n",
    "    return minute*60 + second"
   ]
  },
  {
   "cell_type": "code",
   "execution_count": 10,
   "metadata": {},
   "outputs": [],
   "source": [
    "# duration displayed in seconds\n",
    "df['duration']=df['Duration'].apply(min_sec)"
   ]
  },
  {
   "cell_type": "code",
   "execution_count": 11,
   "metadata": {},
   "outputs": [],
   "source": [
    "def cleaning(text):\n",
    "    text = text.replace('$', '')\n",
    "    text = text.replace(',', '')\n",
    "    text = text.replace(' ', '')\n",
    "    return text"
   ]
  },
  {
   "cell_type": "code",
   "execution_count": 12,
   "metadata": {},
   "outputs": [],
   "source": [
    "def get_coin_info(df):\n",
    "    \n",
    "    # collect the coin info \n",
    "    name =[]\n",
    "    files = glob.glob(\"history/*.csv\")\n",
    "    for file in files:\n",
    "        name.append(file)\n",
    "    \n",
    "    # get the number of P&D for each month\n",
    "    df['month'] = df.index.month\n",
    "    df['year'] = df.index.year\n",
    "    count = df.groupby(['year', 'month']).size().values\n",
    "    \n",
    "    start = 0\n",
    "    for i in range(len(name)):\n",
    "        df_coin = pd.read_csv(name[i])\n",
    "        \n",
    "        # clean the csv file\n",
    "        df_coin['Market Cap'] = df_coin['Market Cap'].apply(cleaning)\n",
    "        df_coin['Volume (24h)'] = df_coin['Volume (24h)'].apply(cleaning)\n",
    "        \n",
    "        # take out the target month\n",
    "        month = df.iloc[start:start+count[i],]\n",
    "        \n",
    "        # create new columns\n",
    "        month['ranked'] = 0\n",
    "        month['coin_cap'] = 0\n",
    "        month['coin_volume'] = 0\n",
    "        month['coin_ranking'] = 1001 # consider the unranked coin's ranking as 1001\n",
    "        \n",
    "        # match the two sheets \n",
    "        for idx in range(0, month.shape[0]):\n",
    "            for idx2 in range(0, 1000):\n",
    "                if month['Currency'].iloc[idx] == df_coin['Symbol'].iloc[idx2]:\n",
    "                    month['ranked'].iloc[idx] = 1\n",
    "                    month['coin_cap'].iloc[idx] = float(df_coin['Market Cap'].iloc[idx2])\n",
    "                    month['coin_ranking'].iloc[idx] = int(df_coin['Rank'].iloc[idx2])\n",
    "                    month['coin_volume'].iloc[idx] = float(df_coin['Volume (24h)'].iloc[idx2])\n",
    "                    break\n",
    "        \n",
    "        if i == 0:\n",
    "            df_ = month\n",
    "        else:\n",
    "            df_ = df_.append(month)\n",
    "            \n",
    "        start += count[i]\n",
    "    \n",
    "    return df_"
   ]
  },
  {
   "cell_type": "code",
   "execution_count": 13,
   "metadata": {},
   "outputs": [],
   "source": [
    "df = get_coin_info(df)"
   ]
  },
  {
   "cell_type": "code",
   "execution_count": 14,
   "metadata": {
    "colab": {},
    "colab_type": "code",
    "id": "DUc1Ban-YJUv"
   },
   "outputs": [
    {
     "name": "stdout",
     "output_type": "stream",
     "text": [
      "(1222, 28)\n",
      "(1018, 28)\n",
      "(204, 28)\n"
     ]
    }
   ],
   "source": [
    "print(df.shape)\n",
    "print(df[df['ranked']==1].shape)\n",
    "print(df[df['ranked']==0].shape)"
   ]
  },
  {
   "cell_type": "markdown",
   "metadata": {
    "colab_type": "text",
    "id": "2mn7NF37YJU0"
   },
   "source": [
    "note that 200 pumps are using coins not in the rankings, but we assume that market cap and volume is very low for these coins; therefore assign 0 for each data"
   ]
  },
  {
   "cell_type": "code",
   "execution_count": 15,
   "metadata": {
    "colab": {},
    "colab_type": "code",
    "id": "pHraTckJYJU2"
   },
   "outputs": [],
   "source": [
    "# get time\n",
    "df['month']= df.index.month\n",
    "df['weekday']= df.index.weekday\n",
    "df['hour']= df.index.hour\n",
    "df['year']= df.index.year"
   ]
  },
  {
   "cell_type": "code",
   "execution_count": 16,
   "metadata": {},
   "outputs": [],
   "source": [
    "# year dummy\n",
    "df['2018year'] = df['year'].replace([2018, 2019, 2020, 2021], [1, 0, 0, 0])\n",
    "df['2019year'] = df['year'].replace([2018, 2019, 2020, 2021], [0, 1, 0, 0])\n",
    "df['2020year'] = df['year'].replace([2018, 2019, 2020, 2021], [0, 0, 1, 0])\n",
    "df['2021year'] = df['year'].replace([2018, 2019, 2020, 2021], [0, 0, 0, 1])"
   ]
  },
  {
   "cell_type": "code",
   "execution_count": 17,
   "metadata": {},
   "outputs": [],
   "source": [
    "# make dummy for AM Time UTC: 0-11\n",
    "df['AM'] = df['hour'].apply(lambda x: 1 if x <= 11 else 0)"
   ]
  },
  {
   "cell_type": "code",
   "execution_count": 18,
   "metadata": {
    "colab": {},
    "colab_type": "code",
    "id": "5AokBSsBYJU8"
   },
   "outputs": [],
   "source": [
    "# cyclical representation of time\n",
    "def cordinate(df, col):\n",
    "    df[col + '_cos'] = np.cos(2 * np.pi * df[col] / df[col].max())\n",
    "    df[col + '_sin'] = np.sin(2 * np.pi * df[col] / df[col].max())\n",
    "    return df"
   ]
  },
  {
   "cell_type": "code",
   "execution_count": 19,
   "metadata": {},
   "outputs": [],
   "source": [
    "# month\n",
    "df = cordinate(df, 'month')"
   ]
  },
  {
   "cell_type": "code",
   "execution_count": 20,
   "metadata": {},
   "outputs": [
    {
     "data": {
      "text/plain": [
       "<Figure size 288x288 with 0 Axes>"
      ]
     },
     "metadata": {},
     "output_type": "display_data"
    },
    {
     "data": {
      "image/png": "[encoded data removed]",
      "text/plain": [
       "<Figure size 432x288 with 1 Axes>"
      ]
     },
     "metadata": {
      "needs_background": "light"
     },
     "output_type": "display_data"
    }
   ],
   "source": [
    "plt.figure(figsize=(4, 4))\n",
    "df.plot.scatter('month_cos', 'month_sin').set_aspect('equal')\n",
    "plt.xlabel('cos(month)', fontsize=16)\n",
    "plt.ylabel('sin(month)', fontsize=16)\n",
    "plt.xticks(fontsize=16)\n",
    "plt.yticks(fontsize=16)\n",
    "plt.savefig('img/coordinate.jpg', bbox_inches='tight')"
   ]
  },
  {
   "cell_type": "code",
   "execution_count": 21,
   "metadata": {
    "colab": {},
    "colab_type": "code",
    "id": "gMUS2_0hYJU-"
   },
   "outputs": [],
   "source": [
    "# hour\n",
    "df = cordinate(df, 'hour')"
   ]
  },
  {
   "cell_type": "code",
   "execution_count": 22,
   "metadata": {
    "colab": {},
    "colab_type": "code",
    "id": "uzTRnKQ9YJVB"
   },
   "outputs": [
    {
     "data": {
      "text/plain": [
       "<Figure size 288x288 with 0 Axes>"
      ]
     },
     "metadata": {},
     "output_type": "display_data"
    },
    {
     "data": {
      "image/png": "[encoded data removed]",
      "text/plain": [
       "<Figure size 432x288 with 1 Axes>"
      ]
     },
     "metadata": {
      "needs_background": "light"
     },
     "output_type": "display_data"
    }
   ],
   "source": [
    "plt.figure(figsize=(4, 4))\n",
    "df.plot.scatter('hour_cos', 'hour_sin').set_aspect('equal')\n",
    "plt.xlabel('cos(hour)', fontsize=16)\n",
    "plt.ylabel('sin(hour)', fontsize=16)\n",
    "plt.xticks(fontsize=16)\n",
    "plt.yticks(fontsize=16)\n",
    "plt.savefig('img/coordinate2.jpg', bbox_inches='tight')"
   ]
  },
  {
   "cell_type": "code",
   "execution_count": 23,
   "metadata": {},
   "outputs": [],
   "source": [
    "# channel id\n",
    "df['channel'] = df['Channel'].factorize()[0]"
   ]
  },
  {
   "cell_type": "code",
   "execution_count": 24,
   "metadata": {
    "colab": {},
    "colab_type": "code",
    "id": "pIX4FD3eblQ9"
   },
   "outputs": [],
   "source": [
    "# to csv file\n",
    "df.to_csv(\"pnd_features_new.csv\") "
   ]
  },
  {
   "cell_type": "code",
   "execution_count": 25,
   "metadata": {},
   "outputs": [
    {
     "data": {
      "text/html": [
       "<div>\n",
       "<style scoped>\n",
       "    .dataframe tbody tr th:only-of-type {\n",
       "        vertical-align: middle;\n",
       "    }\n",
       "\n",
       "    .dataframe tbody tr th {\n",
       "        vertical-align: top;\n",
       "    }\n",
       "\n",
       "    .dataframe thead th {\n",
       "        text-align: right;\n",
       "    }\n",
       "</style>\n",
       "<table border=\"1\" class=\"dataframe\">\n",
       "  <thead>\n",
       "    <tr style=\"text-align: right;\">\n",
       "      <th></th>\n",
       "      <th>relative_volume</th>\n",
       "      <th>duration</th>\n",
       "      <th>ranked</th>\n",
       "      <th>yobit</th>\n",
       "      <th>bittrex</th>\n",
       "      <th>cryptopia</th>\n",
       "      <th>AM</th>\n",
       "      <th>2019year</th>\n",
       "      <th>2020year</th>\n",
       "      <th>2021year</th>\n",
       "      <th>volume_yobit</th>\n",
       "      <th>volume_cryptopia</th>\n",
       "      <th>volume_bittrex</th>\n",
       "    </tr>\n",
       "  </thead>\n",
       "  <tbody>\n",
       "    <tr>\n",
       "      <th>count</th>\n",
       "      <td>1.22e+03</td>\n",
       "      <td>1222.00</td>\n",
       "      <td>1222.00</td>\n",
       "      <td>1222.00</td>\n",
       "      <td>1222.00</td>\n",
       "      <td>1222.00</td>\n",
       "      <td>1222.00</td>\n",
       "      <td>1222.00</td>\n",
       "      <td>1222.00</td>\n",
       "      <td>1222.00</td>\n",
       "      <td>1.22e+03</td>\n",
       "      <td>1.22e+03</td>\n",
       "      <td>1.22e+03</td>\n",
       "    </tr>\n",
       "    <tr>\n",
       "      <th>mean</th>\n",
       "      <td>2.27e+07</td>\n",
       "      <td>128.54</td>\n",
       "      <td>0.83</td>\n",
       "      <td>0.18</td>\n",
       "      <td>0.04</td>\n",
       "      <td>0.11</td>\n",
       "      <td>0.15</td>\n",
       "      <td>0.38</td>\n",
       "      <td>0.26</td>\n",
       "      <td>0.17</td>\n",
       "      <td>2.28e+04</td>\n",
       "      <td>1.38e+05</td>\n",
       "      <td>1.48e+05</td>\n",
       "    </tr>\n",
       "    <tr>\n",
       "      <th>std</th>\n",
       "      <td>3.74e+08</td>\n",
       "      <td>191.01</td>\n",
       "      <td>0.37</td>\n",
       "      <td>0.39</td>\n",
       "      <td>0.19</td>\n",
       "      <td>0.32</td>\n",
       "      <td>0.36</td>\n",
       "      <td>0.49</td>\n",
       "      <td>0.44</td>\n",
       "      <td>0.38</td>\n",
       "      <td>2.13e+05</td>\n",
       "      <td>8.37e+05</td>\n",
       "      <td>2.49e+06</td>\n",
       "    </tr>\n",
       "    <tr>\n",
       "      <th>min</th>\n",
       "      <td>0.00e+00</td>\n",
       "      <td>0.00</td>\n",
       "      <td>0.00</td>\n",
       "      <td>0.00</td>\n",
       "      <td>0.00</td>\n",
       "      <td>0.00</td>\n",
       "      <td>0.00</td>\n",
       "      <td>0.00</td>\n",
       "      <td>0.00</td>\n",
       "      <td>0.00</td>\n",
       "      <td>0.00e+00</td>\n",
       "      <td>0.00e+00</td>\n",
       "      <td>0.00e+00</td>\n",
       "    </tr>\n",
       "    <tr>\n",
       "      <th>25%</th>\n",
       "      <td>6.79e+04</td>\n",
       "      <td>12.00</td>\n",
       "      <td>1.00</td>\n",
       "      <td>0.00</td>\n",
       "      <td>0.00</td>\n",
       "      <td>0.00</td>\n",
       "      <td>0.00</td>\n",
       "      <td>0.00</td>\n",
       "      <td>0.00</td>\n",
       "      <td>0.00</td>\n",
       "      <td>0.00e+00</td>\n",
       "      <td>0.00e+00</td>\n",
       "      <td>0.00e+00</td>\n",
       "    </tr>\n",
       "    <tr>\n",
       "      <th>50%</th>\n",
       "      <td>6.85e+05</td>\n",
       "      <td>57.00</td>\n",
       "      <td>1.00</td>\n",
       "      <td>0.00</td>\n",
       "      <td>0.00</td>\n",
       "      <td>0.00</td>\n",
       "      <td>0.00</td>\n",
       "      <td>0.00</td>\n",
       "      <td>0.00</td>\n",
       "      <td>0.00</td>\n",
       "      <td>0.00e+00</td>\n",
       "      <td>0.00e+00</td>\n",
       "      <td>0.00e+00</td>\n",
       "    </tr>\n",
       "    <tr>\n",
       "      <th>75%</th>\n",
       "      <td>3.35e+06</td>\n",
       "      <td>175.00</td>\n",
       "      <td>1.00</td>\n",
       "      <td>0.00</td>\n",
       "      <td>0.00</td>\n",
       "      <td>0.00</td>\n",
       "      <td>0.00</td>\n",
       "      <td>1.00</td>\n",
       "      <td>1.00</td>\n",
       "      <td>0.00</td>\n",
       "      <td>0.00e+00</td>\n",
       "      <td>0.00e+00</td>\n",
       "      <td>0.00e+00</td>\n",
       "    </tr>\n",
       "    <tr>\n",
       "      <th>max</th>\n",
       "      <td>1.28e+10</td>\n",
       "      <td>1401.00</td>\n",
       "      <td>1.00</td>\n",
       "      <td>1.00</td>\n",
       "      <td>1.00</td>\n",
       "      <td>1.00</td>\n",
       "      <td>1.00</td>\n",
       "      <td>1.00</td>\n",
       "      <td>1.00</td>\n",
       "      <td>1.00</td>\n",
       "      <td>6.07e+06</td>\n",
       "      <td>1.62e+07</td>\n",
       "      <td>6.99e+07</td>\n",
       "    </tr>\n",
       "  </tbody>\n",
       "</table>\n",
       "</div>"
      ],
      "text/plain": [
       "       relative_volume  duration   ranked    yobit  bittrex  cryptopia  \\\n",
       "count         1.22e+03   1222.00  1222.00  1222.00  1222.00    1222.00   \n",
       "mean          2.27e+07    128.54     0.83     0.18     0.04       0.11   \n",
       "std           3.74e+08    191.01     0.37     0.39     0.19       0.32   \n",
       "min           0.00e+00      0.00     0.00     0.00     0.00       0.00   \n",
       "25%           6.79e+04     12.00     1.00     0.00     0.00       0.00   \n",
       "50%           6.85e+05     57.00     1.00     0.00     0.00       0.00   \n",
       "75%           3.35e+06    175.00     1.00     0.00     0.00       0.00   \n",
       "max           1.28e+10   1401.00     1.00     1.00     1.00       1.00   \n",
       "\n",
       "            AM  2019year  2020year  2021year  volume_yobit  volume_cryptopia  \\\n",
       "count  1222.00   1222.00   1222.00   1222.00      1.22e+03          1.22e+03   \n",
       "mean      0.15      0.38      0.26      0.17      2.28e+04          1.38e+05   \n",
       "std       0.36      0.49      0.44      0.38      2.13e+05          8.37e+05   \n",
       "min       0.00      0.00      0.00      0.00      0.00e+00          0.00e+00   \n",
       "25%       0.00      0.00      0.00      0.00      0.00e+00          0.00e+00   \n",
       "50%       0.00      0.00      0.00      0.00      0.00e+00          0.00e+00   \n",
       "75%       0.00      1.00      1.00      0.00      0.00e+00          0.00e+00   \n",
       "max       1.00      1.00      1.00      1.00      6.07e+06          1.62e+07   \n",
       "\n",
       "       volume_bittrex  \n",
       "count        1.22e+03  \n",
       "mean         1.48e+05  \n",
       "std          2.49e+06  \n",
       "min          0.00e+00  \n",
       "25%          0.00e+00  \n",
       "50%          0.00e+00  \n",
       "75%          0.00e+00  \n",
       "max          6.99e+07  "
      ]
     },
     "execution_count": 25,
     "metadata": {},
     "output_type": "execute_result"
    }
   ],
   "source": [
    "# display the descriptive statistics\n",
    "pd.options.display.precision = 2\n",
    "var = ['relative_volume','duration','ranked', 'yobit', 'bittrex', 'cryptopia', 'AM', \n",
    "       '2019year', '2020year', '2021year', 'volume_yobit', 'volume_cryptopia', 'volume_bittrex']\n",
    "df[var].describe()"
   ]
  },
  {
   "cell_type": "code",
   "execution_count": 26,
   "metadata": {},
   "outputs": [
    {
     "data": {
      "text/plain": [
       "<matplotlib.axes._subplots.AxesSubplot at 0x22d3c3816a0>"
      ]
     },
     "execution_count": 26,
     "metadata": {},
     "output_type": "execute_result"
    },
    {
     "data": {
      "image/png": "[encoded data removed]",
      "text/plain": [
       "<Figure size 1620x648 with 2 Axes>"
      ]
     },
     "metadata": {
      "needs_background": "light"
     },
     "output_type": "display_data"
    }
   ],
   "source": [
    "# partial correlation matrix\n",
    "variables = df[var]\n",
    "cor_mat= variables[:].corr()\n",
    "mask = np.array(cor_mat)\n",
    "mask[np.tril_indices_from(mask)] = False\n",
    "fig=plt.gcf()\n",
    "fig.set_size_inches(22.5,9)\n",
    "cmap = sns.color_palette(\"bwr\", 200)\n",
    "sns.heatmap(data=cor_mat,mask=mask,square=True,annot=True,cbar=True, cmap = cmap, vmin= -1, vmax = 1)"
   ]
  },
  {
   "cell_type": "code",
   "execution_count": 27,
   "metadata": {},
   "outputs": [
    {
     "data": {
      "text/html": [
       "<table class=\"simpletable\">\n",
       "<caption>Generalized Linear Model Regression Results</caption>\n",
       "<tr>\n",
       "  <th>Dep. Variable:</th>   <td>theoretical_return</td> <th>  No. Observations:  </th>  <td>  1222</td> \n",
       "</tr>\n",
       "<tr>\n",
       "  <th>Model:</th>                   <td>GLM</td>        <th>  Df Residuals:      </th>  <td>  1208</td> \n",
       "</tr>\n",
       "<tr>\n",
       "  <th>Model Family:</th>         <td>Gaussian</td>      <th>  Df Model:          </th>  <td>    13</td> \n",
       "</tr>\n",
       "<tr>\n",
       "  <th>Link Function:</th>        <td>identity</td>      <th>  Scale:             </th> <td>0.071592</td>\n",
       "</tr>\n",
       "<tr>\n",
       "  <th>Method:</th>                 <td>IRLS</td>        <th>  Log-Likelihood:    </th> <td> -115.83</td>\n",
       "</tr>\n",
       "<tr>\n",
       "  <th>Date:</th>             <td>Sat, 03 Apr 2021</td>  <th>  Deviance:          </th> <td>  86.483</td>\n",
       "</tr>\n",
       "<tr>\n",
       "  <th>Time:</th>                 <td>11:09:56</td>      <th>  Pearson chi2:      </th>  <td>  86.5</td> \n",
       "</tr>\n",
       "<tr>\n",
       "  <th>No. Iterations:</th>           <td>3</td>         <th>                     </th>     <td> </td>   \n",
       "</tr>\n",
       "<tr>\n",
       "  <th>Covariance Type:</th>      <td>nonrobust</td>     <th>                     </th>     <td> </td>   \n",
       "</tr>\n",
       "</table>\n",
       "<table class=\"simpletable\">\n",
       "<tr>\n",
       "          <td></td>            <th>coef</th>     <th>std err</th>      <th>z</th>      <th>P>|z|</th>  <th>[0.025</th>    <th>0.975]</th>  \n",
       "</tr>\n",
       "<tr>\n",
       "  <th>const</th>            <td>   -0.0341</td> <td>    0.040</td> <td>   -0.860</td> <td> 0.390</td> <td>   -0.112</td> <td>    0.044</td>\n",
       "</tr>\n",
       "<tr>\n",
       "  <th>relative_volume</th>  <td> 1.663e-12</td> <td> 2.06e-11</td> <td>    0.081</td> <td> 0.936</td> <td>-3.87e-11</td> <td> 4.21e-11</td>\n",
       "</tr>\n",
       "<tr>\n",
       "  <th>duration</th>         <td>-4.497e-05</td> <td> 4.29e-05</td> <td>   -1.047</td> <td> 0.295</td> <td>   -0.000</td> <td> 3.92e-05</td>\n",
       "</tr>\n",
       "<tr>\n",
       "  <th>ranked</th>           <td>    0.0674</td> <td>    0.026</td> <td>    2.577</td> <td> 0.010</td> <td>    0.016</td> <td>    0.119</td>\n",
       "</tr>\n",
       "<tr>\n",
       "  <th>yobit</th>            <td>    0.3961</td> <td>    0.023</td> <td>   16.899</td> <td> 0.000</td> <td>    0.350</td> <td>    0.442</td>\n",
       "</tr>\n",
       "<tr>\n",
       "  <th>bittrex</th>          <td>    0.1028</td> <td>    0.044</td> <td>    2.319</td> <td> 0.020</td> <td>    0.016</td> <td>    0.190</td>\n",
       "</tr>\n",
       "<tr>\n",
       "  <th>cryptopia</th>        <td>    0.3751</td> <td>    0.042</td> <td>    8.994</td> <td> 0.000</td> <td>    0.293</td> <td>    0.457</td>\n",
       "</tr>\n",
       "<tr>\n",
       "  <th>AM</th>               <td>   -0.0661</td> <td>    0.022</td> <td>   -2.979</td> <td> 0.003</td> <td>   -0.110</td> <td>   -0.023</td>\n",
       "</tr>\n",
       "<tr>\n",
       "  <th>2019year</th>         <td>    0.0681</td> <td>    0.031</td> <td>    2.221</td> <td> 0.026</td> <td>    0.008</td> <td>    0.128</td>\n",
       "</tr>\n",
       "<tr>\n",
       "  <th>2020year</th>         <td>    0.0329</td> <td>    0.033</td> <td>    0.986</td> <td> 0.324</td> <td>   -0.033</td> <td>    0.098</td>\n",
       "</tr>\n",
       "<tr>\n",
       "  <th>2021year</th>         <td>    0.0614</td> <td>    0.035</td> <td>    1.748</td> <td> 0.080</td> <td>   -0.007</td> <td>    0.130</td>\n",
       "</tr>\n",
       "<tr>\n",
       "  <th>volume_yobit</th>     <td> 2.942e-07</td> <td> 3.69e-08</td> <td>    7.974</td> <td> 0.000</td> <td> 2.22e-07</td> <td> 3.67e-07</td>\n",
       "</tr>\n",
       "<tr>\n",
       "  <th>volume_cryptopia</th> <td> 4.162e-08</td> <td> 1.03e-08</td> <td>    4.027</td> <td> 0.000</td> <td> 2.14e-08</td> <td> 6.19e-08</td>\n",
       "</tr>\n",
       "<tr>\n",
       "  <th>volume_bittrex</th>   <td>   2.9e-09</td> <td> 3.23e-09</td> <td>    0.897</td> <td> 0.370</td> <td>-3.44e-09</td> <td> 9.24e-09</td>\n",
       "</tr>\n",
       "</table>"
      ],
      "text/plain": [
       "<class 'statsmodels.iolib.summary.Summary'>\n",
       "\"\"\"\n",
       "                 Generalized Linear Model Regression Results                  \n",
       "==============================================================================\n",
       "Dep. Variable:     theoretical_return   No. Observations:                 1222\n",
       "Model:                            GLM   Df Residuals:                     1208\n",
       "Model Family:                Gaussian   Df Model:                           13\n",
       "Link Function:               identity   Scale:                        0.071592\n",
       "Method:                          IRLS   Log-Likelihood:                -115.83\n",
       "Date:                Sat, 03 Apr 2021   Deviance:                       86.483\n",
       "Time:                        11:09:56   Pearson chi2:                     86.5\n",
       "No. Iterations:                     3                                         \n",
       "Covariance Type:            nonrobust                                         \n",
       "====================================================================================\n",
       "                       coef    std err          z      P>|z|      [0.025      0.975]\n",
       "------------------------------------------------------------------------------------\n",
       "const               -0.0341      0.040     -0.860      0.390      -0.112       0.044\n",
       "relative_volume   1.663e-12   2.06e-11      0.081      0.936   -3.87e-11    4.21e-11\n",
       "duration         -4.497e-05   4.29e-05     -1.047      0.295      -0.000    3.92e-05\n",
       "ranked               0.0674      0.026      2.577      0.010       0.016       0.119\n",
       "yobit                0.3961      0.023     16.899      0.000       0.350       0.442\n",
       "bittrex              0.1028      0.044      2.319      0.020       0.016       0.190\n",
       "cryptopia            0.3751      0.042      8.994      0.000       0.293       0.457\n",
       "AM                  -0.0661      0.022     -2.979      0.003      -0.110      -0.023\n",
       "2019year             0.0681      0.031      2.221      0.026       0.008       0.128\n",
       "2020year             0.0329      0.033      0.986      0.324      -0.033       0.098\n",
       "2021year             0.0614      0.035      1.748      0.080      -0.007       0.130\n",
       "volume_yobit      2.942e-07   3.69e-08      7.974      0.000    2.22e-07    3.67e-07\n",
       "volume_cryptopia  4.162e-08   1.03e-08      4.027      0.000    2.14e-08    6.19e-08\n",
       "volume_bittrex      2.9e-09   3.23e-09      0.897      0.370   -3.44e-09    9.24e-09\n",
       "====================================================================================\n",
       "\"\"\""
      ]
     },
     "execution_count": 27,
     "metadata": {},
     "output_type": "execute_result"
    }
   ],
   "source": [
    "# without Telegram channel effect (from the MLE estimate)\n",
    "# using statsmodels library\n",
    "import statsmodels.api as sm\n",
    "\n",
    "y = np.log(df['theoretical_return'])\n",
    "X = df[var]\n",
    "# add constant\n",
    "X = sm.add_constant(X)\n",
    "\n",
    "# fit model\n",
    "model = sm.GLM(y, X, family=sm.families.Gaussian())\n",
    "result = model.fit()\n",
    "result.summary()\n",
    "\n",
    "# the significance did not change from the Bayesian model (except 'bittrex')"
   ]
  },
  {
   "cell_type": "code",
   "execution_count": null,
   "metadata": {},
   "outputs": [],
   "source": []
  }
 ],
 "metadata": {
  "colab": {
   "collapsed_sections": [],
   "name": "pnd_model_final.ipynb",
   "provenance": [],
   "toc_visible": true
  },
  "kernelspec": {
   "display_name": "Python 3",
   "language": "python",
   "name": "python3"
  },
  "language_info": {
   "codemirror_mode": {
    "name": "ipython",
    "version": 3
   },
   "file_extension": ".py",
   "mimetype": "text/x-python",
   "name": "python",
   "nbconvert_exporter": "python",
   "pygments_lexer": "ipython3",
   "version": "3.8.2"
  }
 },
 "nbformat": 4,
 "nbformat_minor": 4
}
