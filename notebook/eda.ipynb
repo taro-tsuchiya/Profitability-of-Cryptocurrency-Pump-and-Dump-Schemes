{
 "cells": [
  {
   "cell_type": "markdown",
   "metadata": {},
   "source": [
    "# P&D Explanatory Data Analysis"
   ]
  },
  {
   "cell_type": "code",
   "execution_count": 1,
   "metadata": {},
   "outputs": [],
   "source": [
    "%matplotlib inline\n",
    "import numpy as np \n",
    "import pandas as pd\n",
    "import seaborn as sns\n",
    "import matplotlib.pyplot as plt\n",
    "import warnings\n",
    "warnings.filterwarnings('ignore')"
   ]
  },
  {
   "cell_type": "code",
   "execution_count": 2,
   "metadata": {},
   "outputs": [],
   "source": [
    "from sklearn.preprocessing import StandardScaler\n",
    "scaler = StandardScaler()"
   ]
  },
  {
   "cell_type": "code",
   "execution_count": 3,
   "metadata": {},
   "outputs": [],
   "source": [
    "df_original = pd.read_csv(\"pump_history_0831.csv\", parse_dates=['date'],index_col = ['date'])"
   ]
  },
  {
   "cell_type": "code",
   "execution_count": 4,
   "metadata": {},
   "outputs": [
    {
     "data": {
      "text/plain": [
       "<matplotlib.axes._subplots.AxesSubplot at 0x221b843a048>"
      ]
     },
     "execution_count": 4,
     "metadata": {},
     "output_type": "execute_result"
    },
    {
     "data": {
      "image/png": "[encoded data removed]",
      "text/plain": [
       "<Figure size 432x288 with 1 Axes>"
      ]
     },
     "metadata": {
      "needs_background": "light"
     },
     "output_type": "display_data"
    }
   ],
   "source": [
    "#define successful coin\n",
    "df_successful = df_original[df_original[\"theoretical profit(%)\"] > 0.05]\n",
    "df_successful['success'] = 1\n",
    "df_unsuccessful = df_original[df_original[\"theoretical profit(%)\"] <= 0.05]\n",
    "df_unsuccessful['success'] = 0\n",
    "df = pd.concat([df_successful, df_unsuccessful])\n",
    "df = df.sort_index()\n",
    "df['success'].hist()"
   ]
  },
  {
   "cell_type": "code",
   "execution_count": 5,
   "metadata": {},
   "outputs": [],
   "source": [
    "#make exchange dummy variable\n",
    "df = df.replace({'exchange': {'Yobit':1, 'Binance':0, \"Bittrex\": 0}})\n",
    "#fill NaN\n",
    "df = df.fillna(0)"
   ]
  },
  {
   "cell_type": "code",
   "execution_count": 6,
   "metadata": {},
   "outputs": [
    {
     "data": {
      "text/plain": [
       "(2349, 10)"
      ]
     },
     "execution_count": 6,
     "metadata": {},
     "output_type": "execute_result"
    }
   ],
   "source": [
    "#import coin information\n",
    "df_coin = pd.read_csv(\"coin_ranking_0902.csv\")\n",
    "df_coin.shape"
   ]
  },
  {
   "cell_type": "code",
   "execution_count": 7,
   "metadata": {},
   "outputs": [],
   "source": [
    "#create new columns\n",
    "df['ranked'] = 0\n",
    "df['coin cap'] = 0\n",
    "df['coin ranking'] = 0\n",
    "df['coin volume'] = 0"
   ]
  },
  {
   "cell_type": "code",
   "execution_count": 8,
   "metadata": {},
   "outputs": [],
   "source": [
    "#match the two data sheet with top 1264 coins\n",
    "for idx in range(0, df.shape[0]):\n",
    "    for idx2 in range(0, 1265):\n",
    "        if df['currency'].iloc[idx] == df_coin['Symbol'].iloc[idx2]:\n",
    "            df['ranked'].iloc[idx] = 1\n",
    "            df['coin cap'].iloc[idx] = float(df_coin['Market Cap'].iloc[idx2])\n",
    "            df['coin ranking'].iloc[idx] = int(df_coin['Ranking'].iloc[idx2])\n",
    "            df['coin volume'].iloc[idx] = float(df_coin['Volume (24h)'].iloc[idx2])\n",
    "#df_newinfo = df"
   ]
  },
  {
   "cell_type": "code",
   "execution_count": 9,
   "metadata": {},
   "outputs": [],
   "source": [
    "#get time information\n",
    "df['month']= df.index.month\n",
    "df['weekday']= df.index.weekday\n",
    "df['hour']= df.index.hour"
   ]
  },
  {
   "cell_type": "code",
   "execution_count": 10,
   "metadata": {},
   "outputs": [
    {
     "data": {
      "text/plain": [
       "<BarContainer object of 64 artists>"
      ]
     },
     "execution_count": 10,
     "metadata": {},
     "output_type": "execute_result"
    },
    {
     "data": {
      "image/png": "[encoded data removed]",
      "text/plain": [
       "<Figure size 720x504 with 1 Axes>"
      ]
     },
     "metadata": {
      "needs_background": "light"
     },
     "output_type": "display_data"
    }
   ],
   "source": [
    "import matplotlib.dates as mdates\n",
    "#get time series data\n",
    "df_original['count'] = 1\n",
    "df_week = df_original.resample('W').sum() \n",
    "fig, ax = plt.subplots(figsize=(10,7))\n",
    "ax.xaxis.set_major_locator(mdates.MonthLocator())\n",
    "ax.xaxis.set_major_formatter(mdates.DateFormatter('%b %d\\n %Y'))\n",
    "ax.bar(df_week.index, df_week['count'])"
   ]
  },
  {
   "cell_type": "code",
   "execution_count": 11,
   "metadata": {},
   "outputs": [
    {
     "data": {
      "text/html": [
       "<div>\n",
       "<style scoped>\n",
       "    .dataframe tbody tr th:only-of-type {\n",
       "        vertical-align: middle;\n",
       "    }\n",
       "\n",
       "    .dataframe tbody tr th {\n",
       "        vertical-align: top;\n",
       "    }\n",
       "\n",
       "    .dataframe thead th {\n",
       "        text-align: right;\n",
       "    }\n",
       "</style>\n",
       "<table border=\"1\" class=\"dataframe\">\n",
       "  <thead>\n",
       "    <tr style=\"text-align: right;\">\n",
       "      <th></th>\n",
       "      <th></th>\n",
       "      <th></th>\n",
       "      <th></th>\n",
       "      <th></th>\n",
       "      <th></th>\n",
       "      <th>order</th>\n",
       "      <th>channel</th>\n",
       "      <th>subscriber_0901</th>\n",
       "      <th>currency</th>\n",
       "      <th>exchange</th>\n",
       "      <th>duration</th>\n",
       "      <th>volume</th>\n",
       "      <th>price before pump</th>\n",
       "      <th>max price</th>\n",
       "      <th>our buy price</th>\n",
       "      <th>our profit(%)</th>\n",
       "      <th>theoretical buy price</th>\n",
       "      <th>theoretical profit(%)</th>\n",
       "      <th>channel.1</th>\n",
       "      <th>count</th>\n",
       "    </tr>\n",
       "    <tr>\n",
       "      <th>year</th>\n",
       "      <th>month</th>\n",
       "      <th>day</th>\n",
       "      <th>weekday</th>\n",
       "      <th>hour</th>\n",
       "      <th>date</th>\n",
       "      <th></th>\n",
       "      <th></th>\n",
       "      <th></th>\n",
       "      <th></th>\n",
       "      <th></th>\n",
       "      <th></th>\n",
       "      <th></th>\n",
       "      <th></th>\n",
       "      <th></th>\n",
       "      <th></th>\n",
       "      <th></th>\n",
       "      <th></th>\n",
       "      <th></th>\n",
       "      <th></th>\n",
       "      <th></th>\n",
       "    </tr>\n",
       "  </thead>\n",
       "  <tbody>\n",
       "    <tr>\n",
       "      <th rowspan=\"5\" valign=\"top\">2019</th>\n",
       "      <th rowspan=\"5\" valign=\"top\">8</th>\n",
       "      <th rowspan=\"2\" valign=\"top\">31</th>\n",
       "      <th rowspan=\"2\" valign=\"top\">5</th>\n",
       "      <th>12</th>\n",
       "      <th>2019-08-31 12:37:54</th>\n",
       "      <td>1</td>\n",
       "      <td>Hot Signals Binance Bittrex</td>\n",
       "      <td>NaN</td>\n",
       "      <td>KMD</td>\n",
       "      <td>Binance</td>\n",
       "      <td>211</td>\n",
       "      <td>5.28</td>\n",
       "      <td>0.000072</td>\n",
       "      <td>0.000073</td>\n",
       "      <td>0.000073</td>\n",
       "      <td>0.0055</td>\n",
       "      <td>0.000073</td>\n",
       "      <td>0.0055</td>\n",
       "      <td>Show</td>\n",
       "      <td>1</td>\n",
       "    </tr>\n",
       "    <tr>\n",
       "      <th>1</th>\n",
       "      <th>2019-08-31 01:41:30</th>\n",
       "      <td>2</td>\n",
       "      <td>Bitcoin Pump Group</td>\n",
       "      <td>32202.0</td>\n",
       "      <td>WAN</td>\n",
       "      <td>Binance</td>\n",
       "      <td>132</td>\n",
       "      <td>893.97</td>\n",
       "      <td>0.000034</td>\n",
       "      <td>0.000040</td>\n",
       "      <td>NaN</td>\n",
       "      <td>NaN</td>\n",
       "      <td>0.000039</td>\n",
       "      <td>0.0248</td>\n",
       "      <td>Show</td>\n",
       "      <td>1</td>\n",
       "    </tr>\n",
       "    <tr>\n",
       "      <th rowspan=\"2\" valign=\"top\">30</th>\n",
       "      <th rowspan=\"2\" valign=\"top\">4</th>\n",
       "      <th>4</th>\n",
       "      <th>2019-08-30 04:46:43</th>\n",
       "      <td>3</td>\n",
       "      <td>Bitcoin Profit Coach</td>\n",
       "      <td>8480.0</td>\n",
       "      <td>QSP</td>\n",
       "      <td>Binance</td>\n",
       "      <td>607</td>\n",
       "      <td>91.10</td>\n",
       "      <td>0.000001</td>\n",
       "      <td>0.000001</td>\n",
       "      <td>0.000001</td>\n",
       "      <td>0.0079</td>\n",
       "      <td>0.000001</td>\n",
       "      <td>0.0000</td>\n",
       "      <td>Show</td>\n",
       "      <td>1</td>\n",
       "    </tr>\n",
       "    <tr>\n",
       "      <th>3</th>\n",
       "      <th>2019-08-30 03:00:16</th>\n",
       "      <td>4</td>\n",
       "      <td>Global Pump Signals ??</td>\n",
       "      <td>6071.0</td>\n",
       "      <td>QSP</td>\n",
       "      <td>Binance</td>\n",
       "      <td>74</td>\n",
       "      <td>53.04</td>\n",
       "      <td>0.000001</td>\n",
       "      <td>0.000002</td>\n",
       "      <td>0.000001</td>\n",
       "      <td>0.1429</td>\n",
       "      <td>0.000001</td>\n",
       "      <td>0.1429</td>\n",
       "      <td>Show</td>\n",
       "      <td>1</td>\n",
       "    </tr>\n",
       "    <tr>\n",
       "      <th>25</th>\n",
       "      <th>6</th>\n",
       "      <th>2</th>\n",
       "      <th>2019-08-25 02:00:03</th>\n",
       "      <td>5</td>\n",
       "      <td>Big signal</td>\n",
       "      <td>601.0</td>\n",
       "      <td>GVT</td>\n",
       "      <td>Yobit</td>\n",
       "      <td>259</td>\n",
       "      <td>0.08</td>\n",
       "      <td>0.000140</td>\n",
       "      <td>0.000500</td>\n",
       "      <td>0.000205</td>\n",
       "      <td>1.4378</td>\n",
       "      <td>0.000147</td>\n",
       "      <td>2.4066</td>\n",
       "      <td>Show</td>\n",
       "      <td>1</td>\n",
       "    </tr>\n",
       "  </tbody>\n",
       "</table>\n",
       "</div>"
      ],
      "text/plain": [
       "                                                 order  \\\n",
       "year month day weekday hour date                         \n",
       "2019 8     31  5       12   2019-08-31 12:37:54      1   \n",
       "                       1    2019-08-31 01:41:30      2   \n",
       "           30  4       4    2019-08-30 04:46:43      3   \n",
       "                       3    2019-08-30 03:00:16      4   \n",
       "           25  6       2    2019-08-25 02:00:03      5   \n",
       "\n",
       "                                                                     channel  \\\n",
       "year month day weekday hour date                                               \n",
       "2019 8     31  5       12   2019-08-31 12:37:54  Hot Signals Binance Bittrex   \n",
       "                       1    2019-08-31 01:41:30           Bitcoin Pump Group   \n",
       "           30  4       4    2019-08-30 04:46:43         Bitcoin Profit Coach   \n",
       "                       3    2019-08-30 03:00:16       Global Pump Signals ??   \n",
       "           25  6       2    2019-08-25 02:00:03                   Big signal   \n",
       "\n",
       "                                                 subscriber_0901 currency  \\\n",
       "year month day weekday hour date                                            \n",
       "2019 8     31  5       12   2019-08-31 12:37:54              NaN      KMD   \n",
       "                       1    2019-08-31 01:41:30          32202.0      WAN   \n",
       "           30  4       4    2019-08-30 04:46:43           8480.0      QSP   \n",
       "                       3    2019-08-30 03:00:16           6071.0      QSP   \n",
       "           25  6       2    2019-08-25 02:00:03            601.0      GVT   \n",
       "\n",
       "                                                exchange  duration  volume  \\\n",
       "year month day weekday hour date                                             \n",
       "2019 8     31  5       12   2019-08-31 12:37:54  Binance       211    5.28   \n",
       "                       1    2019-08-31 01:41:30  Binance       132  893.97   \n",
       "           30  4       4    2019-08-30 04:46:43  Binance       607   91.10   \n",
       "                       3    2019-08-30 03:00:16  Binance        74   53.04   \n",
       "           25  6       2    2019-08-25 02:00:03    Yobit       259    0.08   \n",
       "\n",
       "                                                 price before pump  max price  \\\n",
       "year month day weekday hour date                                                \n",
       "2019 8     31  5       12   2019-08-31 12:37:54           0.000072   0.000073   \n",
       "                       1    2019-08-31 01:41:30           0.000034   0.000040   \n",
       "           30  4       4    2019-08-30 04:46:43           0.000001   0.000001   \n",
       "                       3    2019-08-30 03:00:16           0.000001   0.000002   \n",
       "           25  6       2    2019-08-25 02:00:03           0.000140   0.000500   \n",
       "\n",
       "                                                 our buy price  our profit(%)  \\\n",
       "year month day weekday hour date                                                \n",
       "2019 8     31  5       12   2019-08-31 12:37:54       0.000073         0.0055   \n",
       "                       1    2019-08-31 01:41:30            NaN            NaN   \n",
       "           30  4       4    2019-08-30 04:46:43       0.000001         0.0079   \n",
       "                       3    2019-08-30 03:00:16       0.000001         0.1429   \n",
       "           25  6       2    2019-08-25 02:00:03       0.000205         1.4378   \n",
       "\n",
       "                                                 theoretical buy price  \\\n",
       "year month day weekday hour date                                         \n",
       "2019 8     31  5       12   2019-08-31 12:37:54               0.000073   \n",
       "                       1    2019-08-31 01:41:30               0.000039   \n",
       "           30  4       4    2019-08-30 04:46:43               0.000001   \n",
       "                       3    2019-08-30 03:00:16               0.000001   \n",
       "           25  6       2    2019-08-25 02:00:03               0.000147   \n",
       "\n",
       "                                                 theoretical profit(%)  \\\n",
       "year month day weekday hour date                                         \n",
       "2019 8     31  5       12   2019-08-31 12:37:54                 0.0055   \n",
       "                       1    2019-08-31 01:41:30                 0.0248   \n",
       "           30  4       4    2019-08-30 04:46:43                 0.0000   \n",
       "                       3    2019-08-30 03:00:16                 0.1429   \n",
       "           25  6       2    2019-08-25 02:00:03                 2.4066   \n",
       "\n",
       "                                                channel.1  count  \n",
       "year month day weekday hour date                                  \n",
       "2019 8     31  5       12   2019-08-31 12:37:54      Show      1  \n",
       "                       1    2019-08-31 01:41:30      Show      1  \n",
       "           30  4       4    2019-08-30 04:46:43      Show      1  \n",
       "                       3    2019-08-30 03:00:16      Show      1  \n",
       "           25  6       2    2019-08-25 02:00:03      Show      1  "
      ]
     },
     "execution_count": 11,
     "metadata": {},
     "output_type": "execute_result"
    }
   ],
   "source": [
    "#time zone\n",
    "df_dates = df_original.set_index([df_original.index.year, df_original.index.month, df_original.index.day, df_original.index.weekday,\n",
    "                            df_original.index.hour, df_original.index])\n",
    "df_dates.index.names = ['year', 'month', 'day','weekday', 'hour', 'date']\n",
    "df_dates.head()"
   ]
  },
  {
   "cell_type": "code",
   "execution_count": 12,
   "metadata": {},
   "outputs": [
    {
     "data": {
      "text/plain": [
       "<matplotlib.axes._subplots.AxesSubplot at 0x221b8933518>"
      ]
     },
     "execution_count": 12,
     "metadata": {},
     "output_type": "execute_result"
    },
    {
     "data": {
      "image/png": "[encoded data removed]",
      "text/plain": [
       "<Figure size 432x288 with 1 Axes>"
      ]
     },
     "metadata": {
      "needs_background": "light"
     },
     "output_type": "display_data"
    }
   ],
   "source": [
    "#sorted by month\n",
    "df_dates['count'].sum(level='month').sort_index().plot.bar(color='navy')"
   ]
  },
  {
   "cell_type": "code",
   "execution_count": 13,
   "metadata": {},
   "outputs": [
    {
     "data": {
      "text/plain": [
       "<matplotlib.axes._subplots.AxesSubplot at 0x221b898dd30>"
      ]
     },
     "execution_count": 13,
     "metadata": {},
     "output_type": "execute_result"
    },
    {
     "data": {
      "image/png": "[encoded data removed]",
      "text/plain": [
       "<Figure size 432x288 with 1 Axes>"
      ]
     },
     "metadata": {
      "needs_background": "light"
     },
     "output_type": "display_data"
    }
   ],
   "source": [
    "#sorted by weekday\n",
    "df_dates['count'].sum(level='weekday').sort_index().plot.bar(color='navy')"
   ]
  },
  {
   "cell_type": "code",
   "execution_count": 14,
   "metadata": {},
   "outputs": [
    {
     "data": {
      "text/plain": [
       "<matplotlib.axes._subplots.AxesSubplot at 0x221b8903908>"
      ]
     },
     "execution_count": 14,
     "metadata": {},
     "output_type": "execute_result"
    },
    {
     "data": {
      "image/png": "[encoded data removed]",
      "text/plain": [
       "<Figure size 432x288 with 1 Axes>"
      ]
     },
     "metadata": {
      "needs_background": "light"
     },
     "output_type": "display_data"
    }
   ],
   "source": [
    "#sorted by hour\n",
    "df_dates['count'].sum(level='hour').sort_index().plot.bar(color='navy')"
   ]
  },
  {
   "cell_type": "code",
   "execution_count": 15,
   "metadata": {},
   "outputs": [
    {
     "data": {
      "text/plain": [
       "<matplotlib.axes._subplots.AxesSubplot at 0x221b890c160>"
      ]
     },
     "execution_count": 15,
     "metadata": {},
     "output_type": "execute_result"
    },
    {
     "data": {
      "image/png": "[encoded data removed]",
      "text/plain": [
       "<Figure size 864x288 with 2 Axes>"
      ]
     },
     "metadata": {
      "needs_background": "light"
     },
     "output_type": "display_data"
    }
   ],
   "source": [
    "#heatmap by month and hour\n",
    "plt.figure(figsize=(12, 4))\n",
    "sns.heatmap(df_dates['count'].sum(level=['month', 'hour']).sort_index().unstack(level='hour').fillna(0),cmap=\"jet\") #annot=True,"
   ]
  },
  {
   "cell_type": "code",
   "execution_count": 16,
   "metadata": {},
   "outputs": [
    {
     "data": {
      "image/png": "[encoded data removed]",
      "text/plain": [
       "<Figure size 432x288 with 1 Axes>"
      ]
     },
     "metadata": {
      "needs_background": "light"
     },
     "output_type": "display_data"
    }
   ],
   "source": [
    "#theoretical profit\n",
    "plt.hist(df['theoretical profit(%)'], bins =100)\n",
    "plt.xlabel('theoretical profit')\n",
    "plt.xlim(-1, 3)\n",
    "plt.grid(True)"
   ]
  },
  {
   "cell_type": "code",
   "execution_count": 17,
   "metadata": {},
   "outputs": [
    {
     "data": {
      "image/png": "[encoded data removed]",
      "text/plain": [
       "<Figure size 432x288 with 1 Axes>"
      ]
     },
     "metadata": {
      "needs_background": "light"
     },
     "output_type": "display_data"
    }
   ],
   "source": [
    "#subscriber\n",
    "plt.hist(df['subscriber_0901'], bins =20)\n",
    "plt.xlabel('subscriber')\n",
    "plt.grid(True)"
   ]
  },
  {
   "cell_type": "code",
   "execution_count": 18,
   "metadata": {},
   "outputs": [
    {
     "data": {
      "image/png": "[encoded data removed]",
      "text/plain": [
       "<Figure size 432x288 with 1 Axes>"
      ]
     },
     "metadata": {
      "needs_background": "light"
     },
     "output_type": "display_data"
    }
   ],
   "source": [
    "#duration\n",
    "plt.hist(df['duration'], bins = 50)\n",
    "plt.xlabel('duration')\n",
    "plt.grid(True)"
   ]
  },
  {
   "cell_type": "code",
   "execution_count": 22,
   "metadata": {},
   "outputs": [
    {
     "data": {
      "text/plain": [
       "<matplotlib.axes._subplots.AxesSubplot at 0x221b9127ba8>"
      ]
     },
     "execution_count": 22,
     "metadata": {},
     "output_type": "execute_result"
    },
    {
     "data": {
      "image/png": "[encoded data removed]",
      "text/plain": [
       "<Figure size 1620x648 with 2 Axes>"
      ]
     },
     "metadata": {
      "needs_background": "light"
     },
     "output_type": "display_data"
    }
   ],
   "source": [
    "#partial correlation matrix\n",
    "variables = df[['month', 'weekday', 'hour', 'subscriber_0901','exchange',\n",
    "        'duration','volume','ranked']]\n",
    "cor_mat= variables[:].corr()\n",
    "mask = np.array(cor_mat)\n",
    "mask[np.tril_indices_from(mask)] = False\n",
    "fig=plt.gcf()\n",
    "fig.set_size_inches(22.5,9)\n",
    "cmap = sns.color_palette(\"bwr\", 200)\n",
    "sns.heatmap(data=cor_mat,mask=mask,square=True,annot=True,cbar=True, cmap = cmap, vmin= -1, vmax = 1)"
   ]
  },
  {
   "cell_type": "code",
   "execution_count": null,
   "metadata": {},
   "outputs": [],
   "source": []
  },
  {
   "cell_type": "code",
   "execution_count": null,
   "metadata": {},
   "outputs": [],
   "source": []
  }
 ],
 "metadata": {
  "kernelspec": {
   "display_name": "Python (crypto)",
   "language": "python",
   "name": "crypto"
  },
  "language_info": {
   "codemirror_mode": {
    "name": "ipython",
    "version": 3
   },
   "file_extension": ".py",
   "mimetype": "text/x-python",
   "name": "python",
   "nbconvert_exporter": "python",
   "pygments_lexer": "ipython3",
   "version": "3.7.0"
  }
 },
 "nbformat": 4,
 "nbformat_minor": 4
}
