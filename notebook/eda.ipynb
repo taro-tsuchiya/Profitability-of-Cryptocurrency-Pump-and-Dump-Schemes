{
 "cells": [
  {
   "cell_type": "markdown",
   "metadata": {},
   "source": [
    "# P&D Explanatory Data Analysis"
   ]
  },
  {
   "cell_type": "code",
   "execution_count": 1,
   "metadata": {},
   "outputs": [],
   "source": [
    "%matplotlib inline\n",
    "import numpy as np \n",
    "import pandas as pd\n",
    "import matplotlib.pyplot as plt\n",
    "import seaborn as sns\n",
    "import warnings\n",
    "warnings.filterwarnings('ignore')"
   ]
  },
  {
   "cell_type": "code",
   "execution_count": 2,
   "metadata": {},
   "outputs": [],
   "source": [
    "# import the data file\n",
    "df_original = pd.read_csv(\"pump_history_0831.csv\", parse_dates=['date'],index_col = ['date'])\n",
    "df_original.index = df_original.index.tz_localize('Asia/Tokyo')\n",
    "df_original.index = df_original.index.tz_convert('UTC')"
   ]
  },
  {
   "cell_type": "code",
   "execution_count": 3,
   "metadata": {},
   "outputs": [
    {
     "data": {
      "text/plain": [
       "<matplotlib.axes._subplots.AxesSubplot at 0x20fc11ed2e0>"
      ]
     },
     "execution_count": 3,
     "metadata": {},
     "output_type": "execute_result"
    },
    {
     "data": {
      "image/png": "[encoded data removed]",
      "text/plain": [
       "<Figure size 432x288 with 1 Axes>"
      ]
     },
     "metadata": {
      "needs_background": "light"
     },
     "output_type": "display_data"
    }
   ],
   "source": [
    "# define successful coin\n",
    "df_successful = df_original[df_original[\"theoretical profit(%)\"] > 0.05]\n",
    "df_successful['success'] = 1\n",
    "df_unsuccessful = df_original[df_original[\"theoretical profit(%)\"] <= 0.05]\n",
    "df_unsuccessful['success'] = 0\n",
    "df = pd.concat([df_successful, df_unsuccessful])\n",
    "df = df.sort_index()\n",
    "df['success'].hist()"
   ]
  },
  {
   "cell_type": "code",
   "execution_count": 4,
   "metadata": {},
   "outputs": [
    {
     "data": {
      "text/html": [
       "<div>\n",
       "<style scoped>\n",
       "    .dataframe tbody tr th:only-of-type {\n",
       "        vertical-align: middle;\n",
       "    }\n",
       "\n",
       "    .dataframe tbody tr th {\n",
       "        vertical-align: top;\n",
       "    }\n",
       "\n",
       "    .dataframe thead th {\n",
       "        text-align: right;\n",
       "    }\n",
       "</style>\n",
       "<table border=\"1\" class=\"dataframe\">\n",
       "  <thead>\n",
       "    <tr style=\"text-align: right;\">\n",
       "      <th></th>\n",
       "      <th>order</th>\n",
       "      <th>channel</th>\n",
       "      <th>subscriber_0901</th>\n",
       "      <th>currency</th>\n",
       "      <th>exchange</th>\n",
       "      <th>duration</th>\n",
       "      <th>volume</th>\n",
       "      <th>price before pump</th>\n",
       "      <th>max price</th>\n",
       "      <th>our buy price</th>\n",
       "      <th>our profit(%)</th>\n",
       "      <th>theoretical buy price</th>\n",
       "      <th>theoretical profit(%)</th>\n",
       "      <th>channel.1</th>\n",
       "      <th>success</th>\n",
       "    </tr>\n",
       "    <tr>\n",
       "      <th>date</th>\n",
       "      <th></th>\n",
       "      <th></th>\n",
       "      <th></th>\n",
       "      <th></th>\n",
       "      <th></th>\n",
       "      <th></th>\n",
       "      <th></th>\n",
       "      <th></th>\n",
       "      <th></th>\n",
       "      <th></th>\n",
       "      <th></th>\n",
       "      <th></th>\n",
       "      <th></th>\n",
       "      <th></th>\n",
       "      <th></th>\n",
       "    </tr>\n",
       "  </thead>\n",
       "  <tbody>\n",
       "    <tr>\n",
       "      <th>2018-06-17 09:15:29+00:00</th>\n",
       "      <td>535</td>\n",
       "      <td>CryptoPump</td>\n",
       "      <td>NaN</td>\n",
       "      <td>KRL</td>\n",
       "      <td>Yobit</td>\n",
       "      <td>1</td>\n",
       "      <td>0.04</td>\n",
       "      <td>8.990000e-06</td>\n",
       "      <td>1.050000e-05</td>\n",
       "      <td>1.050000e-05</td>\n",
       "      <td>0.0000</td>\n",
       "      <td>1.050000e-05</td>\n",
       "      <td>0.0000</td>\n",
       "      <td>Show</td>\n",
       "      <td>0</td>\n",
       "    </tr>\n",
       "    <tr>\n",
       "      <th>2018-06-17 10:45:02+00:00</th>\n",
       "      <td>534</td>\n",
       "      <td>Tornado Signals</td>\n",
       "      <td>927.0</td>\n",
       "      <td>BNBX</td>\n",
       "      <td>Yobit</td>\n",
       "      <td>91</td>\n",
       "      <td>0.12</td>\n",
       "      <td>1.027000e-05</td>\n",
       "      <td>2.300000e-05</td>\n",
       "      <td>1.900000e-05</td>\n",
       "      <td>0.2105</td>\n",
       "      <td>1.899000e-05</td>\n",
       "      <td>0.2112</td>\n",
       "      <td>Show</td>\n",
       "      <td>1</td>\n",
       "    </tr>\n",
       "    <tr>\n",
       "      <th>2018-06-18 08:59:05+00:00</th>\n",
       "      <td>533</td>\n",
       "      <td>Shark Pump Signals</td>\n",
       "      <td>833.0</td>\n",
       "      <td>NETKO</td>\n",
       "      <td>Yobit</td>\n",
       "      <td>319</td>\n",
       "      <td>0.05</td>\n",
       "      <td>1.152000e-05</td>\n",
       "      <td>1.482000e-05</td>\n",
       "      <td>1.154000e-05</td>\n",
       "      <td>0.2842</td>\n",
       "      <td>1.152000e-05</td>\n",
       "      <td>0.2865</td>\n",
       "      <td>Show</td>\n",
       "      <td>1</td>\n",
       "    </tr>\n",
       "    <tr>\n",
       "      <th>2018-06-18 10:45:03+00:00</th>\n",
       "      <td>532</td>\n",
       "      <td>Tornado Signals</td>\n",
       "      <td>927.0</td>\n",
       "      <td>RR</td>\n",
       "      <td>Yobit</td>\n",
       "      <td>9</td>\n",
       "      <td>0.16</td>\n",
       "      <td>4.600000e-07</td>\n",
       "      <td>1.800000e-06</td>\n",
       "      <td>1.390000e-06</td>\n",
       "      <td>0.2950</td>\n",
       "      <td>1.390000e-06</td>\n",
       "      <td>0.2950</td>\n",
       "      <td>Show</td>\n",
       "      <td>1</td>\n",
       "    </tr>\n",
       "    <tr>\n",
       "      <th>2018-06-19 10:45:02+00:00</th>\n",
       "      <td>531</td>\n",
       "      <td>Tornado Signals</td>\n",
       "      <td>927.0</td>\n",
       "      <td>WIT</td>\n",
       "      <td>Yobit</td>\n",
       "      <td>5</td>\n",
       "      <td>0.16</td>\n",
       "      <td>1.000000e-07</td>\n",
       "      <td>4.500000e-07</td>\n",
       "      <td>3.100000e-07</td>\n",
       "      <td>0.4516</td>\n",
       "      <td>2.200000e-07</td>\n",
       "      <td>1.0455</td>\n",
       "      <td>Show</td>\n",
       "      <td>1</td>\n",
       "    </tr>\n",
       "    <tr>\n",
       "      <th>...</th>\n",
       "      <td>...</td>\n",
       "      <td>...</td>\n",
       "      <td>...</td>\n",
       "      <td>...</td>\n",
       "      <td>...</td>\n",
       "      <td>...</td>\n",
       "      <td>...</td>\n",
       "      <td>...</td>\n",
       "      <td>...</td>\n",
       "      <td>...</td>\n",
       "      <td>...</td>\n",
       "      <td>...</td>\n",
       "      <td>...</td>\n",
       "      <td>...</td>\n",
       "      <td>...</td>\n",
       "    </tr>\n",
       "    <tr>\n",
       "      <th>2019-08-24 17:00:03+00:00</th>\n",
       "      <td>5</td>\n",
       "      <td>Big signal</td>\n",
       "      <td>601.0</td>\n",
       "      <td>GVT</td>\n",
       "      <td>Yobit</td>\n",
       "      <td>259</td>\n",
       "      <td>0.08</td>\n",
       "      <td>1.400000e-04</td>\n",
       "      <td>4.999900e-04</td>\n",
       "      <td>2.051000e-04</td>\n",
       "      <td>1.4378</td>\n",
       "      <td>1.467700e-04</td>\n",
       "      <td>2.4066</td>\n",
       "      <td>Show</td>\n",
       "      <td>1</td>\n",
       "    </tr>\n",
       "    <tr>\n",
       "      <th>2019-08-29 18:00:16+00:00</th>\n",
       "      <td>4</td>\n",
       "      <td>Global Pump Signals ??</td>\n",
       "      <td>6071.0</td>\n",
       "      <td>QSP</td>\n",
       "      <td>Binance</td>\n",
       "      <td>74</td>\n",
       "      <td>53.04</td>\n",
       "      <td>1.100000e-06</td>\n",
       "      <td>1.600000e-06</td>\n",
       "      <td>1.400000e-06</td>\n",
       "      <td>0.1429</td>\n",
       "      <td>1.400000e-06</td>\n",
       "      <td>0.1429</td>\n",
       "      <td>Show</td>\n",
       "      <td>1</td>\n",
       "    </tr>\n",
       "    <tr>\n",
       "      <th>2019-08-29 19:46:43+00:00</th>\n",
       "      <td>3</td>\n",
       "      <td>Bitcoin Profit Coach</td>\n",
       "      <td>8480.0</td>\n",
       "      <td>QSP</td>\n",
       "      <td>Binance</td>\n",
       "      <td>607</td>\n",
       "      <td>91.10</td>\n",
       "      <td>1.150000e-06</td>\n",
       "      <td>1.270000e-06</td>\n",
       "      <td>1.260000e-06</td>\n",
       "      <td>0.0079</td>\n",
       "      <td>1.270000e-06</td>\n",
       "      <td>0.0000</td>\n",
       "      <td>Show</td>\n",
       "      <td>0</td>\n",
       "    </tr>\n",
       "    <tr>\n",
       "      <th>2019-08-30 16:41:30+00:00</th>\n",
       "      <td>2</td>\n",
       "      <td>Bitcoin Pump Group</td>\n",
       "      <td>32202.0</td>\n",
       "      <td>WAN</td>\n",
       "      <td>Binance</td>\n",
       "      <td>132</td>\n",
       "      <td>893.97</td>\n",
       "      <td>3.362000e-05</td>\n",
       "      <td>3.971000e-05</td>\n",
       "      <td>NaN</td>\n",
       "      <td>NaN</td>\n",
       "      <td>3.875000e-05</td>\n",
       "      <td>0.0248</td>\n",
       "      <td>Show</td>\n",
       "      <td>0</td>\n",
       "    </tr>\n",
       "    <tr>\n",
       "      <th>2019-08-31 03:37:54+00:00</th>\n",
       "      <td>1</td>\n",
       "      <td>Hot Signals Binance Bittrex</td>\n",
       "      <td>NaN</td>\n",
       "      <td>KMD</td>\n",
       "      <td>Binance</td>\n",
       "      <td>211</td>\n",
       "      <td>5.28</td>\n",
       "      <td>7.150000e-05</td>\n",
       "      <td>7.290000e-05</td>\n",
       "      <td>7.250000e-05</td>\n",
       "      <td>0.0055</td>\n",
       "      <td>7.250000e-05</td>\n",
       "      <td>0.0055</td>\n",
       "      <td>Show</td>\n",
       "      <td>0</td>\n",
       "    </tr>\n",
       "  </tbody>\n",
       "</table>\n",
       "<p>535 rows × 15 columns</p>\n",
       "</div>"
      ],
      "text/plain": [
       "                           order                      channel  \\\n",
       "date                                                            \n",
       "2018-06-17 09:15:29+00:00    535                   CryptoPump   \n",
       "2018-06-17 10:45:02+00:00    534              Tornado Signals   \n",
       "2018-06-18 08:59:05+00:00    533           Shark Pump Signals   \n",
       "2018-06-18 10:45:03+00:00    532              Tornado Signals   \n",
       "2018-06-19 10:45:02+00:00    531              Tornado Signals   \n",
       "...                          ...                          ...   \n",
       "2019-08-24 17:00:03+00:00      5                   Big signal   \n",
       "2019-08-29 18:00:16+00:00      4       Global Pump Signals ??   \n",
       "2019-08-29 19:46:43+00:00      3         Bitcoin Profit Coach   \n",
       "2019-08-30 16:41:30+00:00      2           Bitcoin Pump Group   \n",
       "2019-08-31 03:37:54+00:00      1  Hot Signals Binance Bittrex   \n",
       "\n",
       "                           subscriber_0901 currency exchange  duration  \\\n",
       "date                                                                     \n",
       "2018-06-17 09:15:29+00:00              NaN      KRL    Yobit         1   \n",
       "2018-06-17 10:45:02+00:00            927.0     BNBX    Yobit        91   \n",
       "2018-06-18 08:59:05+00:00            833.0    NETKO    Yobit       319   \n",
       "2018-06-18 10:45:03+00:00            927.0       RR    Yobit         9   \n",
       "2018-06-19 10:45:02+00:00            927.0      WIT    Yobit         5   \n",
       "...                                    ...      ...      ...       ...   \n",
       "2019-08-24 17:00:03+00:00            601.0      GVT    Yobit       259   \n",
       "2019-08-29 18:00:16+00:00           6071.0      QSP  Binance        74   \n",
       "2019-08-29 19:46:43+00:00           8480.0      QSP  Binance       607   \n",
       "2019-08-30 16:41:30+00:00          32202.0      WAN  Binance       132   \n",
       "2019-08-31 03:37:54+00:00              NaN      KMD  Binance       211   \n",
       "\n",
       "                           volume  price before pump     max price  \\\n",
       "date                                                                 \n",
       "2018-06-17 09:15:29+00:00    0.04       8.990000e-06  1.050000e-05   \n",
       "2018-06-17 10:45:02+00:00    0.12       1.027000e-05  2.300000e-05   \n",
       "2018-06-18 08:59:05+00:00    0.05       1.152000e-05  1.482000e-05   \n",
       "2018-06-18 10:45:03+00:00    0.16       4.600000e-07  1.800000e-06   \n",
       "2018-06-19 10:45:02+00:00    0.16       1.000000e-07  4.500000e-07   \n",
       "...                           ...                ...           ...   \n",
       "2019-08-24 17:00:03+00:00    0.08       1.400000e-04  4.999900e-04   \n",
       "2019-08-29 18:00:16+00:00   53.04       1.100000e-06  1.600000e-06   \n",
       "2019-08-29 19:46:43+00:00   91.10       1.150000e-06  1.270000e-06   \n",
       "2019-08-30 16:41:30+00:00  893.97       3.362000e-05  3.971000e-05   \n",
       "2019-08-31 03:37:54+00:00    5.28       7.150000e-05  7.290000e-05   \n",
       "\n",
       "                           our buy price  our profit(%)  \\\n",
       "date                                                      \n",
       "2018-06-17 09:15:29+00:00   1.050000e-05         0.0000   \n",
       "2018-06-17 10:45:02+00:00   1.900000e-05         0.2105   \n",
       "2018-06-18 08:59:05+00:00   1.154000e-05         0.2842   \n",
       "2018-06-18 10:45:03+00:00   1.390000e-06         0.2950   \n",
       "2018-06-19 10:45:02+00:00   3.100000e-07         0.4516   \n",
       "...                                  ...            ...   \n",
       "2019-08-24 17:00:03+00:00   2.051000e-04         1.4378   \n",
       "2019-08-29 18:00:16+00:00   1.400000e-06         0.1429   \n",
       "2019-08-29 19:46:43+00:00   1.260000e-06         0.0079   \n",
       "2019-08-30 16:41:30+00:00            NaN            NaN   \n",
       "2019-08-31 03:37:54+00:00   7.250000e-05         0.0055   \n",
       "\n",
       "                           theoretical buy price  theoretical profit(%)  \\\n",
       "date                                                                      \n",
       "2018-06-17 09:15:29+00:00           1.050000e-05                 0.0000   \n",
       "2018-06-17 10:45:02+00:00           1.899000e-05                 0.2112   \n",
       "2018-06-18 08:59:05+00:00           1.152000e-05                 0.2865   \n",
       "2018-06-18 10:45:03+00:00           1.390000e-06                 0.2950   \n",
       "2018-06-19 10:45:02+00:00           2.200000e-07                 1.0455   \n",
       "...                                          ...                    ...   \n",
       "2019-08-24 17:00:03+00:00           1.467700e-04                 2.4066   \n",
       "2019-08-29 18:00:16+00:00           1.400000e-06                 0.1429   \n",
       "2019-08-29 19:46:43+00:00           1.270000e-06                 0.0000   \n",
       "2019-08-30 16:41:30+00:00           3.875000e-05                 0.0248   \n",
       "2019-08-31 03:37:54+00:00           7.250000e-05                 0.0055   \n",
       "\n",
       "                          channel.1  success  \n",
       "date                                          \n",
       "2018-06-17 09:15:29+00:00      Show        0  \n",
       "2018-06-17 10:45:02+00:00      Show        1  \n",
       "2018-06-18 08:59:05+00:00      Show        1  \n",
       "2018-06-18 10:45:03+00:00      Show        1  \n",
       "2018-06-19 10:45:02+00:00      Show        1  \n",
       "...                             ...      ...  \n",
       "2019-08-24 17:00:03+00:00      Show        1  \n",
       "2019-08-29 18:00:16+00:00      Show        1  \n",
       "2019-08-29 19:46:43+00:00      Show        0  \n",
       "2019-08-30 16:41:30+00:00      Show        0  \n",
       "2019-08-31 03:37:54+00:00      Show        0  \n",
       "\n",
       "[535 rows x 15 columns]"
      ]
     },
     "execution_count": 4,
     "metadata": {},
     "output_type": "execute_result"
    }
   ],
   "source": [
    "df"
   ]
  },
  {
   "cell_type": "code",
   "execution_count": 5,
   "metadata": {},
   "outputs": [
    {
     "data": {
      "image/png": "[encoded data removed]",
      "text/plain": [
       "<Figure size 360x360 with 1 Axes>"
      ]
     },
     "metadata": {},
     "output_type": "display_data"
    }
   ],
   "source": [
    "# the ratio of each exchange\n",
    "plt.rcParams[\"font.size\"] = 18\n",
    "exchange = df['exchange'].value_counts()\n",
    "plt.figure(figsize=(5, 5))\n",
    "plt.pie(exchange, labels=exchange.index)\n",
    "plt.savefig('img/exchange.jpg')\n",
    "plt.rcParams[\"font.size\"] = 16"
   ]
  },
  {
   "cell_type": "code",
   "execution_count": 6,
   "metadata": {},
   "outputs": [],
   "source": [
    "# make exchange dummy variable\n",
    "df = df.replace({'exchange': {'Yobit':2, 'Bittrex':1, 'Binance': 0}})\n",
    "#fill NaN\n",
    "df = df.fillna(0)"
   ]
  },
  {
   "cell_type": "code",
   "execution_count": 7,
   "metadata": {},
   "outputs": [
    {
     "data": {
      "text/plain": [
       "(2349, 10)"
      ]
     },
     "execution_count": 7,
     "metadata": {},
     "output_type": "execute_result"
    }
   ],
   "source": [
    "# import coin information\n",
    "df_coin = pd.read_csv(\"coin_ranking_0902.csv\")\n",
    "df_coin.shape"
   ]
  },
  {
   "cell_type": "code",
   "execution_count": 8,
   "metadata": {},
   "outputs": [],
   "source": [
    "# create new columns\n",
    "df['ranked'] = 0\n",
    "df['coin_cap'] = 0\n",
    "df['coin_ranking'] = 0\n",
    "df['coin_volume'] = 0"
   ]
  },
  {
   "cell_type": "code",
   "execution_count": 9,
   "metadata": {},
   "outputs": [],
   "source": [
    "# match the two data sheet with top 1264 coins \n",
    "for idx in range(0, df.shape[0]):\n",
    "    for idx2 in range(0, 1265):\n",
    "        if df['currency'].iloc[idx] == df_coin['Symbol'].iloc[idx2]:\n",
    "            df['ranked'].iloc[idx] = 1\n",
    "            df['coin_cap'].iloc[idx] = float(df_coin['Market Cap'].iloc[idx2])\n",
    "            df['coin_ranking'].iloc[idx] = int(df_coin['Ranking'].iloc[idx2])\n",
    "            df['coin_volume'].iloc[idx] = float(df_coin['Volume (24h)'].iloc[idx2])"
   ]
  },
  {
   "cell_type": "code",
   "execution_count": 10,
   "metadata": {},
   "outputs": [],
   "source": [
    "# get time information\n",
    "df['month']= df.index.month\n",
    "df['weekday']= df.index.weekday\n",
    "df['hour']= df.index.hour"
   ]
  },
  {
   "cell_type": "code",
   "execution_count": 11,
   "metadata": {},
   "outputs": [
    {
     "data": {
      "image/png": "[encoded data removed]",
      "text/plain": [
       "<Figure size 720x504 with 1 Axes>"
      ]
     },
     "metadata": {
      "needs_background": "light"
     },
     "output_type": "display_data"
    }
   ],
   "source": [
    "import matplotlib.dates as mdates\n",
    "# get time series data\n",
    "df_original['count'] = 1\n",
    "df_week = df_original.resample('W').sum() \n",
    "fig, ax = plt.subplots(figsize=(10,7))\n",
    "ax.xaxis.set_major_locator(mdates.MonthLocator(interval=3))\n",
    "ax.xaxis.set_major_formatter(mdates.DateFormatter('%b %d\\n %Y'))\n",
    "ax.bar(df_week.index, df_week['count'])\n",
    "plt.savefig('img/time-series.jpg')"
   ]
  },
  {
   "cell_type": "code",
   "execution_count": 12,
   "metadata": {},
   "outputs": [
    {
     "data": {
      "text/html": [
       "<div>\n",
       "<style scoped>\n",
       "    .dataframe tbody tr th:only-of-type {\n",
       "        vertical-align: middle;\n",
       "    }\n",
       "\n",
       "    .dataframe tbody tr th {\n",
       "        vertical-align: top;\n",
       "    }\n",
       "\n",
       "    .dataframe thead th {\n",
       "        text-align: right;\n",
       "    }\n",
       "</style>\n",
       "<table border=\"1\" class=\"dataframe\">\n",
       "  <thead>\n",
       "    <tr style=\"text-align: right;\">\n",
       "      <th></th>\n",
       "      <th></th>\n",
       "      <th></th>\n",
       "      <th></th>\n",
       "      <th></th>\n",
       "      <th></th>\n",
       "      <th>order</th>\n",
       "      <th>channel</th>\n",
       "      <th>subscriber_0901</th>\n",
       "      <th>currency</th>\n",
       "      <th>exchange</th>\n",
       "      <th>duration</th>\n",
       "      <th>volume</th>\n",
       "      <th>price before pump</th>\n",
       "      <th>max price</th>\n",
       "      <th>our buy price</th>\n",
       "      <th>our profit(%)</th>\n",
       "      <th>theoretical buy price</th>\n",
       "      <th>theoretical profit(%)</th>\n",
       "      <th>channel.1</th>\n",
       "      <th>count</th>\n",
       "    </tr>\n",
       "    <tr>\n",
       "      <th>year</th>\n",
       "      <th>month</th>\n",
       "      <th>day</th>\n",
       "      <th>weekday</th>\n",
       "      <th>hour</th>\n",
       "      <th>date</th>\n",
       "      <th></th>\n",
       "      <th></th>\n",
       "      <th></th>\n",
       "      <th></th>\n",
       "      <th></th>\n",
       "      <th></th>\n",
       "      <th></th>\n",
       "      <th></th>\n",
       "      <th></th>\n",
       "      <th></th>\n",
       "      <th></th>\n",
       "      <th></th>\n",
       "      <th></th>\n",
       "      <th></th>\n",
       "      <th></th>\n",
       "    </tr>\n",
       "  </thead>\n",
       "  <tbody>\n",
       "    <tr>\n",
       "      <th rowspan=\"5\" valign=\"top\">2019</th>\n",
       "      <th rowspan=\"5\" valign=\"top\">8</th>\n",
       "      <th>31</th>\n",
       "      <th>5</th>\n",
       "      <th>3</th>\n",
       "      <th>2019-08-31 03:37:54+00:00</th>\n",
       "      <td>1</td>\n",
       "      <td>Hot Signals Binance Bittrex</td>\n",
       "      <td>NaN</td>\n",
       "      <td>KMD</td>\n",
       "      <td>Binance</td>\n",
       "      <td>211</td>\n",
       "      <td>5.28</td>\n",
       "      <td>0.000072</td>\n",
       "      <td>0.000073</td>\n",
       "      <td>0.000073</td>\n",
       "      <td>0.0055</td>\n",
       "      <td>0.000073</td>\n",
       "      <td>0.0055</td>\n",
       "      <td>Show</td>\n",
       "      <td>1</td>\n",
       "    </tr>\n",
       "    <tr>\n",
       "      <th>30</th>\n",
       "      <th>4</th>\n",
       "      <th>16</th>\n",
       "      <th>2019-08-30 16:41:30+00:00</th>\n",
       "      <td>2</td>\n",
       "      <td>Bitcoin Pump Group</td>\n",
       "      <td>32202.0</td>\n",
       "      <td>WAN</td>\n",
       "      <td>Binance</td>\n",
       "      <td>132</td>\n",
       "      <td>893.97</td>\n",
       "      <td>0.000034</td>\n",
       "      <td>0.000040</td>\n",
       "      <td>NaN</td>\n",
       "      <td>NaN</td>\n",
       "      <td>0.000039</td>\n",
       "      <td>0.0248</td>\n",
       "      <td>Show</td>\n",
       "      <td>1</td>\n",
       "    </tr>\n",
       "    <tr>\n",
       "      <th rowspan=\"2\" valign=\"top\">29</th>\n",
       "      <th rowspan=\"2\" valign=\"top\">3</th>\n",
       "      <th>19</th>\n",
       "      <th>2019-08-29 19:46:43+00:00</th>\n",
       "      <td>3</td>\n",
       "      <td>Bitcoin Profit Coach</td>\n",
       "      <td>8480.0</td>\n",
       "      <td>QSP</td>\n",
       "      <td>Binance</td>\n",
       "      <td>607</td>\n",
       "      <td>91.10</td>\n",
       "      <td>0.000001</td>\n",
       "      <td>0.000001</td>\n",
       "      <td>0.000001</td>\n",
       "      <td>0.0079</td>\n",
       "      <td>0.000001</td>\n",
       "      <td>0.0000</td>\n",
       "      <td>Show</td>\n",
       "      <td>1</td>\n",
       "    </tr>\n",
       "    <tr>\n",
       "      <th>18</th>\n",
       "      <th>2019-08-29 18:00:16+00:00</th>\n",
       "      <td>4</td>\n",
       "      <td>Global Pump Signals ??</td>\n",
       "      <td>6071.0</td>\n",
       "      <td>QSP</td>\n",
       "      <td>Binance</td>\n",
       "      <td>74</td>\n",
       "      <td>53.04</td>\n",
       "      <td>0.000001</td>\n",
       "      <td>0.000002</td>\n",
       "      <td>0.000001</td>\n",
       "      <td>0.1429</td>\n",
       "      <td>0.000001</td>\n",
       "      <td>0.1429</td>\n",
       "      <td>Show</td>\n",
       "      <td>1</td>\n",
       "    </tr>\n",
       "    <tr>\n",
       "      <th>24</th>\n",
       "      <th>5</th>\n",
       "      <th>17</th>\n",
       "      <th>2019-08-24 17:00:03+00:00</th>\n",
       "      <td>5</td>\n",
       "      <td>Big signal</td>\n",
       "      <td>601.0</td>\n",
       "      <td>GVT</td>\n",
       "      <td>Yobit</td>\n",
       "      <td>259</td>\n",
       "      <td>0.08</td>\n",
       "      <td>0.000140</td>\n",
       "      <td>0.000500</td>\n",
       "      <td>0.000205</td>\n",
       "      <td>1.4378</td>\n",
       "      <td>0.000147</td>\n",
       "      <td>2.4066</td>\n",
       "      <td>Show</td>\n",
       "      <td>1</td>\n",
       "    </tr>\n",
       "  </tbody>\n",
       "</table>\n",
       "</div>"
      ],
      "text/plain": [
       "                                                       order  \\\n",
       "year month day weekday hour date                               \n",
       "2019 8     31  5       3    2019-08-31 03:37:54+00:00      1   \n",
       "           30  4       16   2019-08-30 16:41:30+00:00      2   \n",
       "           29  3       19   2019-08-29 19:46:43+00:00      3   \n",
       "                       18   2019-08-29 18:00:16+00:00      4   \n",
       "           24  5       17   2019-08-24 17:00:03+00:00      5   \n",
       "\n",
       "                                                                           channel  \\\n",
       "year month day weekday hour date                                                     \n",
       "2019 8     31  5       3    2019-08-31 03:37:54+00:00  Hot Signals Binance Bittrex   \n",
       "           30  4       16   2019-08-30 16:41:30+00:00           Bitcoin Pump Group   \n",
       "           29  3       19   2019-08-29 19:46:43+00:00         Bitcoin Profit Coach   \n",
       "                       18   2019-08-29 18:00:16+00:00       Global Pump Signals ??   \n",
       "           24  5       17   2019-08-24 17:00:03+00:00                   Big signal   \n",
       "\n",
       "                                                       subscriber_0901  \\\n",
       "year month day weekday hour date                                         \n",
       "2019 8     31  5       3    2019-08-31 03:37:54+00:00              NaN   \n",
       "           30  4       16   2019-08-30 16:41:30+00:00          32202.0   \n",
       "           29  3       19   2019-08-29 19:46:43+00:00           8480.0   \n",
       "                       18   2019-08-29 18:00:16+00:00           6071.0   \n",
       "           24  5       17   2019-08-24 17:00:03+00:00            601.0   \n",
       "\n",
       "                                                      currency exchange  \\\n",
       "year month day weekday hour date                                          \n",
       "2019 8     31  5       3    2019-08-31 03:37:54+00:00      KMD  Binance   \n",
       "           30  4       16   2019-08-30 16:41:30+00:00      WAN  Binance   \n",
       "           29  3       19   2019-08-29 19:46:43+00:00      QSP  Binance   \n",
       "                       18   2019-08-29 18:00:16+00:00      QSP  Binance   \n",
       "           24  5       17   2019-08-24 17:00:03+00:00      GVT    Yobit   \n",
       "\n",
       "                                                       duration  volume  \\\n",
       "year month day weekday hour date                                          \n",
       "2019 8     31  5       3    2019-08-31 03:37:54+00:00       211    5.28   \n",
       "           30  4       16   2019-08-30 16:41:30+00:00       132  893.97   \n",
       "           29  3       19   2019-08-29 19:46:43+00:00       607   91.10   \n",
       "                       18   2019-08-29 18:00:16+00:00        74   53.04   \n",
       "           24  5       17   2019-08-24 17:00:03+00:00       259    0.08   \n",
       "\n",
       "                                                       price before pump  \\\n",
       "year month day weekday hour date                                           \n",
       "2019 8     31  5       3    2019-08-31 03:37:54+00:00           0.000072   \n",
       "           30  4       16   2019-08-30 16:41:30+00:00           0.000034   \n",
       "           29  3       19   2019-08-29 19:46:43+00:00           0.000001   \n",
       "                       18   2019-08-29 18:00:16+00:00           0.000001   \n",
       "           24  5       17   2019-08-24 17:00:03+00:00           0.000140   \n",
       "\n",
       "                                                       max price  \\\n",
       "year month day weekday hour date                                   \n",
       "2019 8     31  5       3    2019-08-31 03:37:54+00:00   0.000073   \n",
       "           30  4       16   2019-08-30 16:41:30+00:00   0.000040   \n",
       "           29  3       19   2019-08-29 19:46:43+00:00   0.000001   \n",
       "                       18   2019-08-29 18:00:16+00:00   0.000002   \n",
       "           24  5       17   2019-08-24 17:00:03+00:00   0.000500   \n",
       "\n",
       "                                                       our buy price  \\\n",
       "year month day weekday hour date                                       \n",
       "2019 8     31  5       3    2019-08-31 03:37:54+00:00       0.000073   \n",
       "           30  4       16   2019-08-30 16:41:30+00:00            NaN   \n",
       "           29  3       19   2019-08-29 19:46:43+00:00       0.000001   \n",
       "                       18   2019-08-29 18:00:16+00:00       0.000001   \n",
       "           24  5       17   2019-08-24 17:00:03+00:00       0.000205   \n",
       "\n",
       "                                                       our profit(%)  \\\n",
       "year month day weekday hour date                                       \n",
       "2019 8     31  5       3    2019-08-31 03:37:54+00:00         0.0055   \n",
       "           30  4       16   2019-08-30 16:41:30+00:00            NaN   \n",
       "           29  3       19   2019-08-29 19:46:43+00:00         0.0079   \n",
       "                       18   2019-08-29 18:00:16+00:00         0.1429   \n",
       "           24  5       17   2019-08-24 17:00:03+00:00         1.4378   \n",
       "\n",
       "                                                       theoretical buy price  \\\n",
       "year month day weekday hour date                                               \n",
       "2019 8     31  5       3    2019-08-31 03:37:54+00:00               0.000073   \n",
       "           30  4       16   2019-08-30 16:41:30+00:00               0.000039   \n",
       "           29  3       19   2019-08-29 19:46:43+00:00               0.000001   \n",
       "                       18   2019-08-29 18:00:16+00:00               0.000001   \n",
       "           24  5       17   2019-08-24 17:00:03+00:00               0.000147   \n",
       "\n",
       "                                                       theoretical profit(%)  \\\n",
       "year month day weekday hour date                                               \n",
       "2019 8     31  5       3    2019-08-31 03:37:54+00:00                 0.0055   \n",
       "           30  4       16   2019-08-30 16:41:30+00:00                 0.0248   \n",
       "           29  3       19   2019-08-29 19:46:43+00:00                 0.0000   \n",
       "                       18   2019-08-29 18:00:16+00:00                 0.1429   \n",
       "           24  5       17   2019-08-24 17:00:03+00:00                 2.4066   \n",
       "\n",
       "                                                      channel.1  count  \n",
       "year month day weekday hour date                                        \n",
       "2019 8     31  5       3    2019-08-31 03:37:54+00:00      Show      1  \n",
       "           30  4       16   2019-08-30 16:41:30+00:00      Show      1  \n",
       "           29  3       19   2019-08-29 19:46:43+00:00      Show      1  \n",
       "                       18   2019-08-29 18:00:16+00:00      Show      1  \n",
       "           24  5       17   2019-08-24 17:00:03+00:00      Show      1  "
      ]
     },
     "execution_count": 12,
     "metadata": {},
     "output_type": "execute_result"
    }
   ],
   "source": [
    "# time zone\n",
    "df_dates = df_original.set_index([df_original.index.year, df_original.index.month, df_original.index.day, df_original.index.weekday,\n",
    "                            df_original.index.hour, df_original.index])\n",
    "df_dates.index.names = ['year', 'month', 'day','weekday', 'hour', 'date']\n",
    "df_dates.head()"
   ]
  },
  {
   "cell_type": "code",
   "execution_count": 13,
   "metadata": {},
   "outputs": [
    {
     "data": {
      "image/png": "[encoded data removed]",
      "text/plain": [
       "<Figure size 432x288 with 1 Axes>"
      ]
     },
     "metadata": {
      "needs_background": "light"
     },
     "output_type": "display_data"
    }
   ],
   "source": [
    "# sorted by month\n",
    "month = df_dates['count'].sum(level='month').sort_index()\n",
    "plt.figure(figsize=(6, 4))\n",
    "fig = month.plot.bar(color='navy')\n",
    "plt.xticks(rotation=0.45, fontsize=16)\n",
    "plt.xlabel('')\n",
    "plt.savefig('img/month.jpg')"
   ]
  },
  {
   "cell_type": "code",
   "execution_count": 14,
   "metadata": {},
   "outputs": [
    {
     "data": {
      "image/png": "[encoded data removed]",
      "text/plain": [
       "<Figure size 432x288 with 1 Axes>"
      ]
     },
     "metadata": {
      "needs_background": "light"
     },
     "output_type": "display_data"
    }
   ],
   "source": [
    "# sorted by weekday\n",
    "weekday = df_dates['count'].sum(level='weekday').sort_index()\n",
    "weekday = weekday.rename({0:'Mon', 1:'Tue', 2:'Wed', 3:'Thu', 4:'Fri', 5:'Sat', 6:'Sun'})\n",
    "plt.figure(figsize=(6, 4))\n",
    "fig = weekday.plot.bar(color='navy')\n",
    "plt.xticks(rotation=0.45, fontsize=16)\n",
    "plt.xlabel('')\n",
    "plt.savefig('img/weekday.jpg')"
   ]
  },
  {
   "cell_type": "code",
   "execution_count": 15,
   "metadata": {},
   "outputs": [
    {
     "data": {
      "image/png": "[encoded data removed]",
      "text/plain": [
       "<Figure size 432x288 with 1 Axes>"
      ]
     },
     "metadata": {
      "needs_background": "light"
     },
     "output_type": "display_data"
    }
   ],
   "source": [
    "# sorted by hour\n",
    "hour = df_dates['count'].sum(level='hour').sort_index()\n",
    "plt.figure(figsize=(6, 4))\n",
    "plt.bar(hour.index, hour, color='navy')\n",
    "fig.set_xticks(np.arange(min(hour.index),max(hour.index)+1, 3))\n",
    "plt.xticks(rotation=0.45, fontsize=16)\n",
    "plt.xlabel('')\n",
    "plt.savefig('img/hour.jpg')"
   ]
  },
  {
   "cell_type": "code",
   "execution_count": 16,
   "metadata": {},
   "outputs": [
    {
     "data": {
      "image/png": "[encoded data removed]",
      "text/plain": [
       "<Figure size 864x288 with 2 Axes>"
      ]
     },
     "metadata": {},
     "output_type": "display_data"
    }
   ],
   "source": [
    "# heatmap by month and hour\n",
    "sns.set(font_scale=2)\n",
    "plt.figure(figsize=(12, 4))\n",
    "sns.heatmap(df_dates['count'].sum(level=['month', 'hour']).sort_index().unstack(level='hour').fillna(0),cmap=\"jet\") #annot=True,\n",
    "plt.savefig('img/heatmap.jpg')"
   ]
  },
  {
   "cell_type": "code",
   "execution_count": 17,
   "metadata": {},
   "outputs": [
    {
     "data": {
      "text/plain": [
       "count    535.000000\n",
       "mean       1.400478\n",
       "std        0.861851\n",
       "min        0.359000\n",
       "25%        1.002950\n",
       "50%        1.056500\n",
       "75%        1.398100\n",
       "max        9.589000\n",
       "Name: theoretical_return, dtype: float64"
      ]
     },
     "execution_count": 17,
     "metadata": {},
     "output_type": "execute_result"
    }
   ],
   "source": [
    "# define theoretical return\n",
    "df['theoretical_return'] = df['theoretical profit(%)']+1\n",
    "df['theoretical_return'].describe()"
   ]
  },
  {
   "cell_type": "code",
   "execution_count": 18,
   "metadata": {},
   "outputs": [
    {
     "data": {
      "image/png": "[encoded data removed]",
      "text/plain": [
       "<Figure size 432x288 with 1 Axes>"
      ]
     },
     "metadata": {},
     "output_type": "display_data"
    }
   ],
   "source": [
    "# theoretical profit\n",
    "plt.figure(figsize=(6, 4))\n",
    "plt.hist(df['theoretical_return'], bins =50)\n",
    "plt.xlabel('')\n",
    "plt.grid(True)\n",
    "plt.xticks(fontsize=16)\n",
    "plt.yticks(fontsize=16)\n",
    "plt.savefig('img/theoretical_return.jpg')"
   ]
  },
  {
   "cell_type": "code",
   "execution_count": 19,
   "metadata": {},
   "outputs": [
    {
     "data": {
      "image/png": "[encoded data removed]",
      "text/plain": [
       "<Figure size 432x288 with 1 Axes>"
      ]
     },
     "metadata": {},
     "output_type": "display_data"
    }
   ],
   "source": [
    "# log theoretical profit\n",
    "plt.figure(figsize=(6, 4))\n",
    "plt.hist(np.log(df['theoretical_return']), bins =50)\n",
    "plt.xlabel('')\n",
    "plt.grid(True)\n",
    "plt.xticks(fontsize=16)\n",
    "plt.yticks(fontsize=16)\n",
    "plt.savefig('img/theoretical_logreturn.jpg')"
   ]
  },
  {
   "cell_type": "code",
   "execution_count": 20,
   "metadata": {},
   "outputs": [
    {
     "name": "stdout",
     "output_type": "stream",
     "text": [
      "4.5285232207899675\n",
      "30.709209584101686\n",
      "1.7981790780293023\n",
      "4.177150249767614\n"
     ]
    }
   ],
   "source": [
    "# check the skewness and kurtosis\n",
    "print(df['theoretical_return'].skew())\n",
    "print(df['theoretical_return'].kurtosis())\n",
    "print(np.log(df['theoretical_return']).skew())\n",
    "print(np.log(df['theoretical_return']).kurtosis())"
   ]
  },
  {
   "cell_type": "code",
   "execution_count": 21,
   "metadata": {},
   "outputs": [
    {
     "data": {
      "image/png": "[encoded data removed]",
      "text/plain": [
       "<Figure size 432x288 with 1 Axes>"
      ]
     },
     "metadata": {},
     "output_type": "display_data"
    }
   ],
   "source": [
    "# subscriber\n",
    "plt.figure(figsize=(6, 4))\n",
    "plt.hist(df['subscriber_0901'], bins =20)\n",
    "plt.xlabel('')\n",
    "plt.grid(True)\n",
    "plt.xticks(fontsize=16)\n",
    "plt.yticks(fontsize=16)\n",
    "plt.savefig('img/subscriber.jpg')"
   ]
  },
  {
   "cell_type": "code",
   "execution_count": 22,
   "metadata": {},
   "outputs": [
    {
     "data": {
      "image/png": "[encoded data removed]",
      "text/plain": [
       "<Figure size 432x288 with 1 Axes>"
      ]
     },
     "metadata": {},
     "output_type": "display_data"
    }
   ],
   "source": [
    "# duration\n",
    "plt.figure(figsize=(6, 4))\n",
    "plt.hist(df['duration'], bins = 50)\n",
    "plt.xlabel('')\n",
    "plt.grid(True)\n",
    "plt.xticks(fontsize=16)\n",
    "plt.yticks(fontsize=16)\n",
    "plt.savefig('img/duration.jpg')"
   ]
  },
  {
   "cell_type": "code",
   "execution_count": null,
   "metadata": {},
   "outputs": [],
   "source": []
  }
 ],
 "metadata": {
  "kernelspec": {
   "display_name": "Python 3",
   "language": "python",
   "name": "python3"
  },
  "language_info": {
   "codemirror_mode": {
    "name": "ipython",
    "version": 3
   },
   "file_extension": ".py",
   "mimetype": "text/x-python",
   "name": "python",
   "nbconvert_exporter": "python",
   "pygments_lexer": "ipython3",
   "version": "3.8.2"
  }
 },
 "nbformat": 4,
 "nbformat_minor": 4
}
