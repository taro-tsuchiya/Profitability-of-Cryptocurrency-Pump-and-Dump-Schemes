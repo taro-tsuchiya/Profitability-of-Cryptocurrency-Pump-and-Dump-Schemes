{
 "cells": [
  {
   "cell_type": "markdown",
   "metadata": {},
   "source": [
    "# P&D Explanatory Data Analysis"
   ]
  },
  {
   "cell_type": "code",
   "execution_count": 1,
   "metadata": {},
   "outputs": [],
   "source": [
    "%matplotlib inline\n",
    "import numpy as np \n",
    "import pandas as pd\n",
    "import matplotlib.pyplot as plt\n",
    "import seaborn as sns\n",
    "import warnings\n",
    "warnings.filterwarnings('ignore')"
   ]
  },
  {
   "cell_type": "code",
   "execution_count": 2,
   "metadata": {},
   "outputs": [],
   "source": [
    "# import the data file\n",
    "df = pd.read_csv(\"pnd_features_new.csv\", parse_dates=['Date'],index_col = ['Date'])"
   ]
  },
  {
   "cell_type": "code",
   "execution_count": 3,
   "metadata": {},
   "outputs": [
    {
     "data": {
      "text/html": [
       "<div>\n",
       "<style scoped>\n",
       "    .dataframe tbody tr th:only-of-type {\n",
       "        vertical-align: middle;\n",
       "    }\n",
       "\n",
       "    .dataframe tbody tr th {\n",
       "        vertical-align: top;\n",
       "    }\n",
       "\n",
       "    .dataframe thead th {\n",
       "        text-align: right;\n",
       "    }\n",
       "</style>\n",
       "<table border=\"1\" class=\"dataframe\">\n",
       "  <thead>\n",
       "    <tr style=\"text-align: right;\">\n",
       "      <th></th>\n",
       "      <th>Channel</th>\n",
       "      <th>Currency</th>\n",
       "      <th>Exchange</th>\n",
       "      <th>Duration</th>\n",
       "      <th>Volume</th>\n",
       "      <th>Price before pump</th>\n",
       "      <th>Max price</th>\n",
       "      <th>Our buy price</th>\n",
       "      <th>Our profit</th>\n",
       "      <th>Theoretical buy price</th>\n",
       "      <th>...</th>\n",
       "      <th>2018year</th>\n",
       "      <th>2019year</th>\n",
       "      <th>2020year</th>\n",
       "      <th>2021year</th>\n",
       "      <th>AM</th>\n",
       "      <th>month_cos</th>\n",
       "      <th>month_sin</th>\n",
       "      <th>hour_cos</th>\n",
       "      <th>hour_sin</th>\n",
       "      <th>channel</th>\n",
       "    </tr>\n",
       "    <tr>\n",
       "      <th>Date</th>\n",
       "      <th></th>\n",
       "      <th></th>\n",
       "      <th></th>\n",
       "      <th></th>\n",
       "      <th></th>\n",
       "      <th></th>\n",
       "      <th></th>\n",
       "      <th></th>\n",
       "      <th></th>\n",
       "      <th></th>\n",
       "      <th></th>\n",
       "      <th></th>\n",
       "      <th></th>\n",
       "      <th></th>\n",
       "      <th></th>\n",
       "      <th></th>\n",
       "      <th></th>\n",
       "      <th></th>\n",
       "      <th></th>\n",
       "      <th></th>\n",
       "      <th></th>\n",
       "    </tr>\n",
       "  </thead>\n",
       "  <tbody>\n",
       "    <tr>\n",
       "      <th>2018-06-17 19:45:02+00:00</th>\n",
       "      <td>Tornado Signals</td>\n",
       "      <td>BNBX</td>\n",
       "      <td>Yobit</td>\n",
       "      <td>1:31</td>\n",
       "      <td>0.12</td>\n",
       "      <td>1.027000e-05</td>\n",
       "      <td>2.300000e-05</td>\n",
       "      <td>1.900000e-05</td>\n",
       "      <td>21.05%</td>\n",
       "      <td>1.899000e-05</td>\n",
       "      <td>...</td>\n",
       "      <td>1</td>\n",
       "      <td>0</td>\n",
       "      <td>0</td>\n",
       "      <td>0</td>\n",
       "      <td>0</td>\n",
       "      <td>-1.0</td>\n",
       "      <td>1.224647e-16</td>\n",
       "      <td>0.460065</td>\n",
       "      <td>-0.887885</td>\n",
       "      <td>0</td>\n",
       "    </tr>\n",
       "    <tr>\n",
       "      <th>2018-06-18 19:45:03+00:00</th>\n",
       "      <td>Tornado Signals</td>\n",
       "      <td>RR</td>\n",
       "      <td>Yobit</td>\n",
       "      <td>0:09</td>\n",
       "      <td>0.16</td>\n",
       "      <td>4.600000e-07</td>\n",
       "      <td>1.800000e-06</td>\n",
       "      <td>1.390000e-06</td>\n",
       "      <td>29.50%</td>\n",
       "      <td>1.390000e-06</td>\n",
       "      <td>...</td>\n",
       "      <td>1</td>\n",
       "      <td>0</td>\n",
       "      <td>0</td>\n",
       "      <td>0</td>\n",
       "      <td>0</td>\n",
       "      <td>-1.0</td>\n",
       "      <td>1.224647e-16</td>\n",
       "      <td>0.460065</td>\n",
       "      <td>-0.887885</td>\n",
       "      <td>0</td>\n",
       "    </tr>\n",
       "    <tr>\n",
       "      <th>2018-06-19 15:53:52+00:00</th>\n",
       "      <td>Crypto Signal Crazy Community?</td>\n",
       "      <td>XVG</td>\n",
       "      <td>Bittrex</td>\n",
       "      <td>9:46</td>\n",
       "      <td>6.70</td>\n",
       "      <td>4.490000e-06</td>\n",
       "      <td>4.490000e-06</td>\n",
       "      <td>4.480000e-06</td>\n",
       "      <td>0.22%</td>\n",
       "      <td>4.490000e-06</td>\n",
       "      <td>...</td>\n",
       "      <td>1</td>\n",
       "      <td>0</td>\n",
       "      <td>0</td>\n",
       "      <td>0</td>\n",
       "      <td>0</td>\n",
       "      <td>-1.0</td>\n",
       "      <td>1.224647e-16</td>\n",
       "      <td>-0.576680</td>\n",
       "      <td>-0.816970</td>\n",
       "      <td>1</td>\n",
       "    </tr>\n",
       "    <tr>\n",
       "      <th>2018-06-19 19:45:02+00:00</th>\n",
       "      <td>Tornado Signals</td>\n",
       "      <td>WIT</td>\n",
       "      <td>Yobit</td>\n",
       "      <td>0:05</td>\n",
       "      <td>0.16</td>\n",
       "      <td>1.000000e-07</td>\n",
       "      <td>4.500000e-07</td>\n",
       "      <td>3.100000e-07</td>\n",
       "      <td>45.16%</td>\n",
       "      <td>2.200000e-07</td>\n",
       "      <td>...</td>\n",
       "      <td>1</td>\n",
       "      <td>0</td>\n",
       "      <td>0</td>\n",
       "      <td>0</td>\n",
       "      <td>0</td>\n",
       "      <td>-1.0</td>\n",
       "      <td>1.224647e-16</td>\n",
       "      <td>0.460065</td>\n",
       "      <td>-0.887885</td>\n",
       "      <td>0</td>\n",
       "    </tr>\n",
       "    <tr>\n",
       "      <th>2018-06-20 15:00:17+00:00</th>\n",
       "      <td>Crypto Pump Island</td>\n",
       "      <td>TRK</td>\n",
       "      <td>Cryptopia</td>\n",
       "      <td>1:02</td>\n",
       "      <td>0.25</td>\n",
       "      <td>4.300000e-07</td>\n",
       "      <td>7.700000e-07</td>\n",
       "      <td>6.600000e-07</td>\n",
       "      <td>16.67%</td>\n",
       "      <td>4.900000e-07</td>\n",
       "      <td>...</td>\n",
       "      <td>1</td>\n",
       "      <td>0</td>\n",
       "      <td>0</td>\n",
       "      <td>0</td>\n",
       "      <td>0</td>\n",
       "      <td>-1.0</td>\n",
       "      <td>1.224647e-16</td>\n",
       "      <td>-0.576680</td>\n",
       "      <td>-0.816970</td>\n",
       "      <td>2</td>\n",
       "    </tr>\n",
       "  </tbody>\n",
       "</table>\n",
       "<p>5 rows × 40 columns</p>\n",
       "</div>"
      ],
      "text/plain": [
       "                                                  Channel Currency   Exchange  \\\n",
       "Date                                                                            \n",
       "2018-06-17 19:45:02+00:00                 Tornado Signals     BNBX      Yobit   \n",
       "2018-06-18 19:45:03+00:00                 Tornado Signals       RR      Yobit   \n",
       "2018-06-19 15:53:52+00:00  Crypto Signal Crazy Community?      XVG    Bittrex   \n",
       "2018-06-19 19:45:02+00:00                 Tornado Signals      WIT      Yobit   \n",
       "2018-06-20 15:00:17+00:00              Crypto Pump Island      TRK  Cryptopia   \n",
       "\n",
       "                          Duration  Volume  Price before pump     Max price  \\\n",
       "Date                                                                          \n",
       "2018-06-17 19:45:02+00:00     1:31    0.12       1.027000e-05  2.300000e-05   \n",
       "2018-06-18 19:45:03+00:00     0:09    0.16       4.600000e-07  1.800000e-06   \n",
       "2018-06-19 15:53:52+00:00     9:46    6.70       4.490000e-06  4.490000e-06   \n",
       "2018-06-19 19:45:02+00:00     0:05    0.16       1.000000e-07  4.500000e-07   \n",
       "2018-06-20 15:00:17+00:00     1:02    0.25       4.300000e-07  7.700000e-07   \n",
       "\n",
       "                           Our buy price Our profit  Theoretical buy price  \\\n",
       "Date                                                                         \n",
       "2018-06-17 19:45:02+00:00   1.900000e-05     21.05%           1.899000e-05   \n",
       "2018-06-18 19:45:03+00:00   1.390000e-06     29.50%           1.390000e-06   \n",
       "2018-06-19 15:53:52+00:00   4.480000e-06      0.22%           4.490000e-06   \n",
       "2018-06-19 19:45:02+00:00   3.100000e-07     45.16%           2.200000e-07   \n",
       "2018-06-20 15:00:17+00:00   6.600000e-07     16.67%           4.900000e-07   \n",
       "\n",
       "                           ... 2018year  2019year  2020year  2021year  AM  \\\n",
       "Date                       ...                                              \n",
       "2018-06-17 19:45:02+00:00  ...        1         0         0         0   0   \n",
       "2018-06-18 19:45:03+00:00  ...        1         0         0         0   0   \n",
       "2018-06-19 15:53:52+00:00  ...        1         0         0         0   0   \n",
       "2018-06-19 19:45:02+00:00  ...        1         0         0         0   0   \n",
       "2018-06-20 15:00:17+00:00  ...        1         0         0         0   0   \n",
       "\n",
       "                           month_cos     month_sin  hour_cos  hour_sin  \\\n",
       "Date                                                                     \n",
       "2018-06-17 19:45:02+00:00       -1.0  1.224647e-16  0.460065 -0.887885   \n",
       "2018-06-18 19:45:03+00:00       -1.0  1.224647e-16  0.460065 -0.887885   \n",
       "2018-06-19 15:53:52+00:00       -1.0  1.224647e-16 -0.576680 -0.816970   \n",
       "2018-06-19 19:45:02+00:00       -1.0  1.224647e-16  0.460065 -0.887885   \n",
       "2018-06-20 15:00:17+00:00       -1.0  1.224647e-16 -0.576680 -0.816970   \n",
       "\n",
       "                           channel  \n",
       "Date                                \n",
       "2018-06-17 19:45:02+00:00        0  \n",
       "2018-06-18 19:45:03+00:00        0  \n",
       "2018-06-19 15:53:52+00:00        1  \n",
       "2018-06-19 19:45:02+00:00        0  \n",
       "2018-06-20 15:00:17+00:00        2  \n",
       "\n",
       "[5 rows x 40 columns]"
      ]
     },
     "execution_count": 3,
     "metadata": {},
     "output_type": "execute_result"
    }
   ],
   "source": [
    "df.head()"
   ]
  },
  {
   "cell_type": "code",
   "execution_count": 4,
   "metadata": {},
   "outputs": [
    {
     "name": "stdout",
     "output_type": "stream",
     "text": [
      "The dataset has 1222 P&Ds\n"
     ]
    }
   ],
   "source": [
    "print('The dataset has {} P&Ds'.format(df.shape[0]))"
   ]
  },
  {
   "cell_type": "code",
   "execution_count": 5,
   "metadata": {},
   "outputs": [
    {
     "data": {
      "image/png": "[encoded data removed]",
      "text/plain": [
       "<Figure size 360x360 with 1 Axes>"
      ]
     },
     "metadata": {},
     "output_type": "display_data"
    }
   ],
   "source": [
    "# the ratio of each exchange\n",
    "plt.rcParams[\"font.size\"] = 18\n",
    "exchange = df['Exchange'].value_counts()\n",
    "plt.figure(figsize=(5, 5))\n",
    "plt.pie(exchange, labels=exchange.index)\n",
    "plt.savefig('img2/exchange.jpg', bbox_inches='tight')\n",
    "plt.rcParams[\"font.size\"] = 12"
   ]
  },
  {
   "cell_type": "code",
   "execution_count": 6,
   "metadata": {},
   "outputs": [
    {
     "name": "stdout",
     "output_type": "stream",
     "text": [
      "Overall: 1.2971124386252046\n",
      "Positive return 89.68903436988543%\n",
      "Yobit\n",
      "1.8919915555555553\n",
      "Bittrex\n",
      "1.1976893617021278\n",
      "Cryptopia\n",
      "1.6587585714285715\n",
      "Binance\n",
      "1.0751304938271604\n"
     ]
    }
   ],
   "source": [
    "# average price hike for each exchange\n",
    "print('Overall: {}'.format(df['theoretical_return'].mean()))\n",
    "pos = (df[df['theoretical_return']>1].shape[0]/df.shape[0])*100\n",
    "print('Positive return {}%'.format(pos))\n",
    "for i in df['Exchange'].unique():\n",
    "    print(i)\n",
    "    print(df['theoretical_return'][df['Exchange']==i].mean())"
   ]
  },
  {
   "cell_type": "code",
   "execution_count": 7,
   "metadata": {},
   "outputs": [
    {
     "name": "stdout",
     "output_type": "stream",
     "text": [
      "Yobit\n",
      "124063.62875567013\n",
      "Bittrex\n",
      "3835107.0282280343\n",
      "Cryptopia\n",
      "1205815.3536716492\n",
      "Binance\n",
      "33758074.58216589\n"
     ]
    }
   ],
   "source": [
    "# average traded volume for each exchange\n",
    "for i in df['Exchange'].unique():\n",
    "    print(i)\n",
    "    print(df['relative_volume'][df['Exchange']==i].mean())"
   ]
  },
  {
   "cell_type": "code",
   "execution_count": 8,
   "metadata": {},
   "outputs": [
    {
     "name": "stdout",
     "output_type": "stream",
     "text": [
      "2018\n",
      "1.4668107623318385\n",
      "2019\n",
      "1.4297449893390193\n",
      "2020\n",
      "1.0765006269592476\n",
      "2021\n",
      "1.1564857819905214\n"
     ]
    }
   ],
   "source": [
    "# average price hike for each exchange\n",
    "df['year'] = df.index.year\n",
    "for i in df['year'].unique():\n",
    "    print(i)\n",
    "    print(df['theoretical_return'][df['year']==int(i)].mean())"
   ]
  },
  {
   "cell_type": "code",
   "execution_count": 9,
   "metadata": {},
   "outputs": [
    {
     "data": {
      "text/plain": [
       "count    1222.000000\n",
       "mean       66.542930\n",
       "std       291.703044\n",
       "min         0.000000\n",
       "25%         0.492500\n",
       "50%         5.185000\n",
       "75%        36.517500\n",
       "max      6683.360000\n",
       "Name: Volume, dtype: float64"
      ]
     },
     "execution_count": 9,
     "metadata": {},
     "output_type": "execute_result"
    }
   ],
   "source": [
    "# volume (in BTC) sumamry \n",
    "df['Volume'].describe()"
   ]
  },
  {
   "cell_type": "code",
   "execution_count": 10,
   "metadata": {},
   "outputs": [
    {
     "data": {
      "text/plain": [
       "0.2986906710310966"
      ]
     },
     "execution_count": 10,
     "metadata": {},
     "output_type": "execute_result"
    }
   ],
   "source": [
    "# the ration of P&D less than 1 BTC volume\n",
    "df[df['Volume']<1].shape[0]/df.shape[0]"
   ]
  },
  {
   "cell_type": "code",
   "execution_count": 11,
   "metadata": {},
   "outputs": [],
   "source": [
    "# import BTC price data from CoinMarketCap\n",
    "btc = pd.read_csv('btc_price.csv', parse_dates=['date'],index_col = ['date']) "
   ]
  },
  {
   "cell_type": "code",
   "execution_count": 12,
   "metadata": {},
   "outputs": [],
   "source": [
    "def cleaning(text):\n",
    "    text = text.replace('$', '')\n",
    "    text = text.replace(',', '')\n",
    "    text = text.replace(' ', '')\n",
    "    return float(text)"
   ]
  },
  {
   "cell_type": "code",
   "execution_count": 13,
   "metadata": {},
   "outputs": [
    {
     "data": {
      "text/html": [
       "<div>\n",
       "<style scoped>\n",
       "    .dataframe tbody tr th:only-of-type {\n",
       "        vertical-align: middle;\n",
       "    }\n",
       "\n",
       "    .dataframe tbody tr th {\n",
       "        vertical-align: top;\n",
       "    }\n",
       "\n",
       "    .dataframe thead th {\n",
       "        text-align: right;\n",
       "    }\n",
       "</style>\n",
       "<table border=\"1\" class=\"dataframe\">\n",
       "  <thead>\n",
       "    <tr style=\"text-align: right;\">\n",
       "      <th></th>\n",
       "      <th>open</th>\n",
       "      <th>high</th>\n",
       "      <th>low</th>\n",
       "      <th>close</th>\n",
       "      <th>volume</th>\n",
       "      <th>capital</th>\n",
       "    </tr>\n",
       "    <tr>\n",
       "      <th>date</th>\n",
       "      <th></th>\n",
       "      <th></th>\n",
       "      <th></th>\n",
       "      <th></th>\n",
       "      <th></th>\n",
       "      <th></th>\n",
       "    </tr>\n",
       "  </thead>\n",
       "  <tbody>\n",
       "    <tr>\n",
       "      <th>2021-03-31</th>\n",
       "      <td>$58,930.28</td>\n",
       "      <td>$59,930.03</td>\n",
       "      <td>$57,726.42</td>\n",
       "      <td>$58,918.83</td>\n",
       "      <td>$65,520,826,225</td>\n",
       "      <td>$1,100,016,786,763</td>\n",
       "    </tr>\n",
       "    <tr>\n",
       "      <th>2021-03-30</th>\n",
       "      <td>$57,750.13</td>\n",
       "      <td>$59,447.22</td>\n",
       "      <td>$57,251.55</td>\n",
       "      <td>$58,917.69</td>\n",
       "      <td>$54,414,116,432</td>\n",
       "      <td>$1,099,939,890,804</td>\n",
       "    </tr>\n",
       "    <tr>\n",
       "      <th>2021-03-29</th>\n",
       "      <td>$55,947.90</td>\n",
       "      <td>$58,342.10</td>\n",
       "      <td>$55,139.34</td>\n",
       "      <td>$57,750.20</td>\n",
       "      <td>$57,625,587,027</td>\n",
       "      <td>$1,078,088,296,477</td>\n",
       "    </tr>\n",
       "    <tr>\n",
       "      <th>2021-03-28</th>\n",
       "      <td>$55,974.94</td>\n",
       "      <td>$56,610.31</td>\n",
       "      <td>$55,071.11</td>\n",
       "      <td>$55,950.75</td>\n",
       "      <td>$47,686,580,918</td>\n",
       "      <td>$1,044,446,559,059</td>\n",
       "    </tr>\n",
       "    <tr>\n",
       "      <th>2021-03-27</th>\n",
       "      <td>$55,137.57</td>\n",
       "      <td>$56,568.22</td>\n",
       "      <td>$54,242.91</td>\n",
       "      <td>$55,973.51</td>\n",
       "      <td>$47,266,542,233</td>\n",
       "      <td>$1,044,814,147,412</td>\n",
       "    </tr>\n",
       "  </tbody>\n",
       "</table>\n",
       "</div>"
      ],
      "text/plain": [
       "                   open         high          low        close  \\\n",
       "date                                                             \n",
       "2021-03-31  $58,930.28   $59,930.03   $57,726.42   $58,918.83    \n",
       "2021-03-30  $57,750.13   $59,447.22   $57,251.55   $58,917.69    \n",
       "2021-03-29  $55,947.90   $58,342.10   $55,139.34   $57,750.20    \n",
       "2021-03-28  $55,974.94   $56,610.31   $55,071.11   $55,950.75    \n",
       "2021-03-27  $55,137.57   $56,568.22   $54,242.91   $55,973.51    \n",
       "\n",
       "                      volume              capital  \n",
       "date                                               \n",
       "2021-03-31  $65,520,826,225   $1,100,016,786,763   \n",
       "2021-03-30  $54,414,116,432   $1,099,939,890,804   \n",
       "2021-03-29  $57,625,587,027   $1,078,088,296,477   \n",
       "2021-03-28  $47,686,580,918   $1,044,446,559,059   \n",
       "2021-03-27  $47,266,542,233   $1,044,814,147,412   "
      ]
     },
     "execution_count": 13,
     "metadata": {},
     "output_type": "execute_result"
    }
   ],
   "source": [
    "btc.head()"
   ]
  },
  {
   "cell_type": "code",
   "execution_count": 14,
   "metadata": {},
   "outputs": [],
   "source": [
    "# clean the data\n",
    "btc['close'] = btc['close'].apply(lambda x: cleaning(x))"
   ]
  },
  {
   "cell_type": "code",
   "execution_count": 15,
   "metadata": {},
   "outputs": [
    {
     "data": {
      "image/png": "[encoded data removed]",
      "text/plain": [
       "<Figure size 720x504 with 2 Axes>"
      ]
     },
     "metadata": {
      "needs_background": "light"
     },
     "output_type": "display_data"
    }
   ],
   "source": [
    "import matplotlib.dates as mdates\n",
    "# get time series data\n",
    "df['count'] = 1\n",
    "df_week = df.resample('W').sum() \n",
    "fig, ax1 = plt.subplots(figsize=(10,7))\n",
    "ax2 = ax1.twinx()\n",
    "ax2.xaxis.set_major_formatter(mdates.DateFormatter('%b %d\\n %Y'))\n",
    "ax1.bar(df_week.index, df_week['count'], color='b', label='No. of P&Ds')\n",
    "ax2.plot(btc.index, btc['close'], color='r', label='BTC-USD')\n",
    "max1 = 1.2 * max(df_week['count'])\n",
    "max2 = 1.2 * max(btc['close'])\n",
    "handle1, label1 = ax1.get_legend_handles_labels()\n",
    "handle2, label2 = ax2.get_legend_handles_labels()\n",
    "ax2.legend(handle1 + handle2, label1 + label2, loc='best')\n",
    "ax1.set_ylim([0, max1])\n",
    "ax2.set_ylim([0, max2])\n",
    "plt.savefig('img2/time-series.jpg')"
   ]
  },
  {
   "cell_type": "code",
   "execution_count": 16,
   "metadata": {},
   "outputs": [
    {
     "data": {
      "image/png": "[encoded data removed]",
      "text/plain": [
       "<Figure size 432x288 with 1 Axes>"
      ]
     },
     "metadata": {
      "needs_background": "light"
     },
     "output_type": "display_data"
    }
   ],
   "source": [
    "# theoretical return\n",
    "plt.figure(figsize=(6, 4))\n",
    "plt.hist(df['theoretical_return'], bins =50)\n",
    "plt.xlabel('')\n",
    "plt.grid(True)\n",
    "plt.xticks(fontsize=14)\n",
    "plt.yticks(fontsize=14)\n",
    "plt.savefig('img2/theoretical_return.jpg')"
   ]
  },
  {
   "cell_type": "code",
   "execution_count": 17,
   "metadata": {},
   "outputs": [
    {
     "data": {
      "image/png": "[encoded data removed]",
      "text/plain": [
       "<Figure size 432x288 with 1 Axes>"
      ]
     },
     "metadata": {
      "needs_background": "light"
     },
     "output_type": "display_data"
    }
   ],
   "source": [
    "# log theoretical profit\n",
    "plt.figure(figsize=(6, 4))\n",
    "plt.hist(np.log(df['theoretical_return']), bins =50)\n",
    "plt.xlabel('')\n",
    "plt.grid(True)\n",
    "plt.xticks(fontsize=14)\n",
    "plt.yticks(fontsize=14)\n",
    "plt.savefig('img2/theoretical_logreturn.jpg')"
   ]
  },
  {
   "cell_type": "code",
   "execution_count": 18,
   "metadata": {},
   "outputs": [
    {
     "name": "stdout",
     "output_type": "stream",
     "text": [
      "5.660016371317355\n",
      "46.59649330579299\n",
      "2.4445041245779335\n",
      "7.723949826187809\n"
     ]
    }
   ],
   "source": [
    "# check the skewness and kurtosis\n",
    "print(df['theoretical_return'].skew())\n",
    "print(df['theoretical_return'].kurtosis())\n",
    "print(np.log(df['theoretical_return']).skew())\n",
    "print(np.log(df['theoretical_return']).kurtosis())"
   ]
  },
  {
   "cell_type": "code",
   "execution_count": 19,
   "metadata": {},
   "outputs": [
    {
     "data": {
      "image/png": "[encoded data removed]",
      "text/plain": [
       "<Figure size 432x288 with 1 Axes>"
      ]
     },
     "metadata": {
      "needs_background": "light"
     },
     "output_type": "display_data"
    }
   ],
   "source": [
    "# duration\n",
    "plt.figure(figsize=(6, 4))\n",
    "plt.hist(df['duration'], bins = 50)\n",
    "plt.xlabel('')\n",
    "plt.grid(True)\n",
    "plt.xticks(fontsize=14)\n",
    "plt.yticks(fontsize=14)\n",
    "plt.savefig('img2/duration.jpg')"
   ]
  },
  {
   "cell_type": "code",
   "execution_count": 20,
   "metadata": {},
   "outputs": [
    {
     "data": {
      "text/html": [
       "<div>\n",
       "<style scoped>\n",
       "    .dataframe tbody tr th:only-of-type {\n",
       "        vertical-align: middle;\n",
       "    }\n",
       "\n",
       "    .dataframe tbody tr th {\n",
       "        vertical-align: top;\n",
       "    }\n",
       "\n",
       "    .dataframe thead th {\n",
       "        text-align: right;\n",
       "    }\n",
       "</style>\n",
       "<table border=\"1\" class=\"dataframe\">\n",
       "  <thead>\n",
       "    <tr style=\"text-align: right;\">\n",
       "      <th></th>\n",
       "      <th>Volume</th>\n",
       "      <th>Price before pump</th>\n",
       "    </tr>\n",
       "    <tr>\n",
       "      <th>Date</th>\n",
       "      <th></th>\n",
       "      <th></th>\n",
       "    </tr>\n",
       "  </thead>\n",
       "  <tbody>\n",
       "    <tr>\n",
       "      <th>2019-03-17 03:27:32+00:00</th>\n",
       "      <td>2554.99</td>\n",
       "      <td>2.000000e-07</td>\n",
       "    </tr>\n",
       "  </tbody>\n",
       "</table>\n",
       "</div>"
      ],
      "text/plain": [
       "                            Volume  Price before pump\n",
       "Date                                                 \n",
       "2019-03-17 03:27:32+00:00  2554.99       2.000000e-07"
      ]
     },
     "execution_count": 20,
     "metadata": {},
     "output_type": "execute_result"
    }
   ],
   "source": [
    "# the maximum volume\n",
    "df[['Volume', 'Price before pump']][df['relative_volume']==df['relative_volume'].max()] "
   ]
  },
  {
   "cell_type": "code",
   "execution_count": 21,
   "metadata": {},
   "outputs": [
    {
     "data": {
      "image/png": "[encoded data removed]",
      "text/plain": [
       "<Figure size 432x288 with 1 Axes>"
      ]
     },
     "metadata": {
      "needs_background": "light"
     },
     "output_type": "display_data"
    }
   ],
   "source": [
    "# volume\n",
    "import matplotlib.ticker as ptick\n",
    "fig, ax = plt.subplots(figsize=(6, 4))\n",
    "# take out top 15 outliers \n",
    "ax.hist(df['relative_volume'][df['relative_volume']<1.5*(10**8)], bins =50)\n",
    "ax.ticklabel_format(style='sci',axis='x',scilimits=(0,0))\n",
    "ax.xaxis.set_major_formatter(ptick.ScalarFormatter(useMathText=True))\n",
    "# ax.xlabel('')\n",
    "ax.grid(True)\n",
    "plt.xticks(fontsize=14)\n",
    "plt.yticks(fontsize=14)\n",
    "plt.savefig('img2/volume.jpg')"
   ]
  },
  {
   "cell_type": "code",
   "execution_count": 22,
   "metadata": {},
   "outputs": [
    {
     "data": {
      "text/html": [
       "<div>\n",
       "<style scoped>\n",
       "    .dataframe tbody tr th:only-of-type {\n",
       "        vertical-align: middle;\n",
       "    }\n",
       "\n",
       "    .dataframe tbody tr th {\n",
       "        vertical-align: top;\n",
       "    }\n",
       "\n",
       "    .dataframe thead th {\n",
       "        text-align: right;\n",
       "    }\n",
       "</style>\n",
       "<table border=\"1\" class=\"dataframe\">\n",
       "  <thead>\n",
       "    <tr style=\"text-align: right;\">\n",
       "      <th></th>\n",
       "      <th></th>\n",
       "      <th></th>\n",
       "      <th></th>\n",
       "      <th></th>\n",
       "      <th></th>\n",
       "      <th>Channel</th>\n",
       "      <th>Currency</th>\n",
       "      <th>Exchange</th>\n",
       "      <th>Duration</th>\n",
       "      <th>Volume</th>\n",
       "      <th>Price before pump</th>\n",
       "      <th>Max price</th>\n",
       "      <th>Our buy price</th>\n",
       "      <th>Our profit</th>\n",
       "      <th>Theoretical buy price</th>\n",
       "      <th>...</th>\n",
       "      <th>2019year</th>\n",
       "      <th>2020year</th>\n",
       "      <th>2021year</th>\n",
       "      <th>AM</th>\n",
       "      <th>month_cos</th>\n",
       "      <th>month_sin</th>\n",
       "      <th>hour_cos</th>\n",
       "      <th>hour_sin</th>\n",
       "      <th>channel</th>\n",
       "      <th>count</th>\n",
       "    </tr>\n",
       "    <tr>\n",
       "      <th>year</th>\n",
       "      <th>month</th>\n",
       "      <th>day</th>\n",
       "      <th>weekday</th>\n",
       "      <th>hour</th>\n",
       "      <th>date</th>\n",
       "      <th></th>\n",
       "      <th></th>\n",
       "      <th></th>\n",
       "      <th></th>\n",
       "      <th></th>\n",
       "      <th></th>\n",
       "      <th></th>\n",
       "      <th></th>\n",
       "      <th></th>\n",
       "      <th></th>\n",
       "      <th></th>\n",
       "      <th></th>\n",
       "      <th></th>\n",
       "      <th></th>\n",
       "      <th></th>\n",
       "      <th></th>\n",
       "      <th></th>\n",
       "      <th></th>\n",
       "      <th></th>\n",
       "      <th></th>\n",
       "      <th></th>\n",
       "    </tr>\n",
       "  </thead>\n",
       "  <tbody>\n",
       "    <tr>\n",
       "      <th rowspan=\"5\" valign=\"top\">2018</th>\n",
       "      <th rowspan=\"5\" valign=\"top\">6</th>\n",
       "      <th>17</th>\n",
       "      <th>6</th>\n",
       "      <th>19</th>\n",
       "      <th>2018-06-17 19:45:02+00:00</th>\n",
       "      <td>Tornado Signals</td>\n",
       "      <td>BNBX</td>\n",
       "      <td>Yobit</td>\n",
       "      <td>1:31</td>\n",
       "      <td>0.12</td>\n",
       "      <td>1.027000e-05</td>\n",
       "      <td>2.300000e-05</td>\n",
       "      <td>1.900000e-05</td>\n",
       "      <td>21.05%</td>\n",
       "      <td>1.899000e-05</td>\n",
       "      <td>...</td>\n",
       "      <td>0</td>\n",
       "      <td>0</td>\n",
       "      <td>0</td>\n",
       "      <td>0</td>\n",
       "      <td>-1.0</td>\n",
       "      <td>1.224647e-16</td>\n",
       "      <td>0.460065</td>\n",
       "      <td>-0.887885</td>\n",
       "      <td>0</td>\n",
       "      <td>1</td>\n",
       "    </tr>\n",
       "    <tr>\n",
       "      <th>18</th>\n",
       "      <th>0</th>\n",
       "      <th>19</th>\n",
       "      <th>2018-06-18 19:45:03+00:00</th>\n",
       "      <td>Tornado Signals</td>\n",
       "      <td>RR</td>\n",
       "      <td>Yobit</td>\n",
       "      <td>0:09</td>\n",
       "      <td>0.16</td>\n",
       "      <td>4.600000e-07</td>\n",
       "      <td>1.800000e-06</td>\n",
       "      <td>1.390000e-06</td>\n",
       "      <td>29.50%</td>\n",
       "      <td>1.390000e-06</td>\n",
       "      <td>...</td>\n",
       "      <td>0</td>\n",
       "      <td>0</td>\n",
       "      <td>0</td>\n",
       "      <td>0</td>\n",
       "      <td>-1.0</td>\n",
       "      <td>1.224647e-16</td>\n",
       "      <td>0.460065</td>\n",
       "      <td>-0.887885</td>\n",
       "      <td>0</td>\n",
       "      <td>1</td>\n",
       "    </tr>\n",
       "    <tr>\n",
       "      <th rowspan=\"2\" valign=\"top\">19</th>\n",
       "      <th rowspan=\"2\" valign=\"top\">1</th>\n",
       "      <th>15</th>\n",
       "      <th>2018-06-19 15:53:52+00:00</th>\n",
       "      <td>Crypto Signal Crazy Community?</td>\n",
       "      <td>XVG</td>\n",
       "      <td>Bittrex</td>\n",
       "      <td>9:46</td>\n",
       "      <td>6.70</td>\n",
       "      <td>4.490000e-06</td>\n",
       "      <td>4.490000e-06</td>\n",
       "      <td>4.480000e-06</td>\n",
       "      <td>0.22%</td>\n",
       "      <td>4.490000e-06</td>\n",
       "      <td>...</td>\n",
       "      <td>0</td>\n",
       "      <td>0</td>\n",
       "      <td>0</td>\n",
       "      <td>0</td>\n",
       "      <td>-1.0</td>\n",
       "      <td>1.224647e-16</td>\n",
       "      <td>-0.576680</td>\n",
       "      <td>-0.816970</td>\n",
       "      <td>1</td>\n",
       "      <td>1</td>\n",
       "    </tr>\n",
       "    <tr>\n",
       "      <th>19</th>\n",
       "      <th>2018-06-19 19:45:02+00:00</th>\n",
       "      <td>Tornado Signals</td>\n",
       "      <td>WIT</td>\n",
       "      <td>Yobit</td>\n",
       "      <td>0:05</td>\n",
       "      <td>0.16</td>\n",
       "      <td>1.000000e-07</td>\n",
       "      <td>4.500000e-07</td>\n",
       "      <td>3.100000e-07</td>\n",
       "      <td>45.16%</td>\n",
       "      <td>2.200000e-07</td>\n",
       "      <td>...</td>\n",
       "      <td>0</td>\n",
       "      <td>0</td>\n",
       "      <td>0</td>\n",
       "      <td>0</td>\n",
       "      <td>-1.0</td>\n",
       "      <td>1.224647e-16</td>\n",
       "      <td>0.460065</td>\n",
       "      <td>-0.887885</td>\n",
       "      <td>0</td>\n",
       "      <td>1</td>\n",
       "    </tr>\n",
       "    <tr>\n",
       "      <th>20</th>\n",
       "      <th>2</th>\n",
       "      <th>15</th>\n",
       "      <th>2018-06-20 15:00:17+00:00</th>\n",
       "      <td>Crypto Pump Island</td>\n",
       "      <td>TRK</td>\n",
       "      <td>Cryptopia</td>\n",
       "      <td>1:02</td>\n",
       "      <td>0.25</td>\n",
       "      <td>4.300000e-07</td>\n",
       "      <td>7.700000e-07</td>\n",
       "      <td>6.600000e-07</td>\n",
       "      <td>16.67%</td>\n",
       "      <td>4.900000e-07</td>\n",
       "      <td>...</td>\n",
       "      <td>0</td>\n",
       "      <td>0</td>\n",
       "      <td>0</td>\n",
       "      <td>0</td>\n",
       "      <td>-1.0</td>\n",
       "      <td>1.224647e-16</td>\n",
       "      <td>-0.576680</td>\n",
       "      <td>-0.816970</td>\n",
       "      <td>2</td>\n",
       "      <td>1</td>\n",
       "    </tr>\n",
       "  </tbody>\n",
       "</table>\n",
       "<p>5 rows × 41 columns</p>\n",
       "</div>"
      ],
      "text/plain": [
       "                                                                              Channel  \\\n",
       "year month day weekday hour date                                                        \n",
       "2018 6     17  6       19   2018-06-17 19:45:02+00:00                 Tornado Signals   \n",
       "           18  0       19   2018-06-18 19:45:03+00:00                 Tornado Signals   \n",
       "           19  1       15   2018-06-19 15:53:52+00:00  Crypto Signal Crazy Community?   \n",
       "                       19   2018-06-19 19:45:02+00:00                 Tornado Signals   \n",
       "           20  2       15   2018-06-20 15:00:17+00:00              Crypto Pump Island   \n",
       "\n",
       "                                                      Currency   Exchange  \\\n",
       "year month day weekday hour date                                            \n",
       "2018 6     17  6       19   2018-06-17 19:45:02+00:00     BNBX      Yobit   \n",
       "           18  0       19   2018-06-18 19:45:03+00:00       RR      Yobit   \n",
       "           19  1       15   2018-06-19 15:53:52+00:00      XVG    Bittrex   \n",
       "                       19   2018-06-19 19:45:02+00:00      WIT      Yobit   \n",
       "           20  2       15   2018-06-20 15:00:17+00:00      TRK  Cryptopia   \n",
       "\n",
       "                                                      Duration  Volume  \\\n",
       "year month day weekday hour date                                         \n",
       "2018 6     17  6       19   2018-06-17 19:45:02+00:00     1:31    0.12   \n",
       "           18  0       19   2018-06-18 19:45:03+00:00     0:09    0.16   \n",
       "           19  1       15   2018-06-19 15:53:52+00:00     9:46    6.70   \n",
       "                       19   2018-06-19 19:45:02+00:00     0:05    0.16   \n",
       "           20  2       15   2018-06-20 15:00:17+00:00     1:02    0.25   \n",
       "\n",
       "                                                       Price before pump  \\\n",
       "year month day weekday hour date                                           \n",
       "2018 6     17  6       19   2018-06-17 19:45:02+00:00       1.027000e-05   \n",
       "           18  0       19   2018-06-18 19:45:03+00:00       4.600000e-07   \n",
       "           19  1       15   2018-06-19 15:53:52+00:00       4.490000e-06   \n",
       "                       19   2018-06-19 19:45:02+00:00       1.000000e-07   \n",
       "           20  2       15   2018-06-20 15:00:17+00:00       4.300000e-07   \n",
       "\n",
       "                                                          Max price  \\\n",
       "year month day weekday hour date                                      \n",
       "2018 6     17  6       19   2018-06-17 19:45:02+00:00  2.300000e-05   \n",
       "           18  0       19   2018-06-18 19:45:03+00:00  1.800000e-06   \n",
       "           19  1       15   2018-06-19 15:53:52+00:00  4.490000e-06   \n",
       "                       19   2018-06-19 19:45:02+00:00  4.500000e-07   \n",
       "           20  2       15   2018-06-20 15:00:17+00:00  7.700000e-07   \n",
       "\n",
       "                                                       Our buy price  \\\n",
       "year month day weekday hour date                                       \n",
       "2018 6     17  6       19   2018-06-17 19:45:02+00:00   1.900000e-05   \n",
       "           18  0       19   2018-06-18 19:45:03+00:00   1.390000e-06   \n",
       "           19  1       15   2018-06-19 15:53:52+00:00   4.480000e-06   \n",
       "                       19   2018-06-19 19:45:02+00:00   3.100000e-07   \n",
       "           20  2       15   2018-06-20 15:00:17+00:00   6.600000e-07   \n",
       "\n",
       "                                                      Our profit  \\\n",
       "year month day weekday hour date                                   \n",
       "2018 6     17  6       19   2018-06-17 19:45:02+00:00     21.05%   \n",
       "           18  0       19   2018-06-18 19:45:03+00:00     29.50%   \n",
       "           19  1       15   2018-06-19 15:53:52+00:00      0.22%   \n",
       "                       19   2018-06-19 19:45:02+00:00     45.16%   \n",
       "           20  2       15   2018-06-20 15:00:17+00:00     16.67%   \n",
       "\n",
       "                                                       Theoretical buy price  \\\n",
       "year month day weekday hour date                                               \n",
       "2018 6     17  6       19   2018-06-17 19:45:02+00:00           1.899000e-05   \n",
       "           18  0       19   2018-06-18 19:45:03+00:00           1.390000e-06   \n",
       "           19  1       15   2018-06-19 15:53:52+00:00           4.490000e-06   \n",
       "                       19   2018-06-19 19:45:02+00:00           2.200000e-07   \n",
       "           20  2       15   2018-06-20 15:00:17+00:00           4.900000e-07   \n",
       "\n",
       "                                                       ... 2019year  2020year  \\\n",
       "year month day weekday hour date                       ...                      \n",
       "2018 6     17  6       19   2018-06-17 19:45:02+00:00  ...        0         0   \n",
       "           18  0       19   2018-06-18 19:45:03+00:00  ...        0         0   \n",
       "           19  1       15   2018-06-19 15:53:52+00:00  ...        0         0   \n",
       "                       19   2018-06-19 19:45:02+00:00  ...        0         0   \n",
       "           20  2       15   2018-06-20 15:00:17+00:00  ...        0         0   \n",
       "\n",
       "                                                       2021year  AM  \\\n",
       "year month day weekday hour date                                      \n",
       "2018 6     17  6       19   2018-06-17 19:45:02+00:00         0   0   \n",
       "           18  0       19   2018-06-18 19:45:03+00:00         0   0   \n",
       "           19  1       15   2018-06-19 15:53:52+00:00         0   0   \n",
       "                       19   2018-06-19 19:45:02+00:00         0   0   \n",
       "           20  2       15   2018-06-20 15:00:17+00:00         0   0   \n",
       "\n",
       "                                                       month_cos  \\\n",
       "year month day weekday hour date                                   \n",
       "2018 6     17  6       19   2018-06-17 19:45:02+00:00       -1.0   \n",
       "           18  0       19   2018-06-18 19:45:03+00:00       -1.0   \n",
       "           19  1       15   2018-06-19 15:53:52+00:00       -1.0   \n",
       "                       19   2018-06-19 19:45:02+00:00       -1.0   \n",
       "           20  2       15   2018-06-20 15:00:17+00:00       -1.0   \n",
       "\n",
       "                                                          month_sin  hour_cos  \\\n",
       "year month day weekday hour date                                                \n",
       "2018 6     17  6       19   2018-06-17 19:45:02+00:00  1.224647e-16  0.460065   \n",
       "           18  0       19   2018-06-18 19:45:03+00:00  1.224647e-16  0.460065   \n",
       "           19  1       15   2018-06-19 15:53:52+00:00  1.224647e-16 -0.576680   \n",
       "                       19   2018-06-19 19:45:02+00:00  1.224647e-16  0.460065   \n",
       "           20  2       15   2018-06-20 15:00:17+00:00  1.224647e-16 -0.576680   \n",
       "\n",
       "                                                       hour_sin  channel  \\\n",
       "year month day weekday hour date                                           \n",
       "2018 6     17  6       19   2018-06-17 19:45:02+00:00 -0.887885        0   \n",
       "           18  0       19   2018-06-18 19:45:03+00:00 -0.887885        0   \n",
       "           19  1       15   2018-06-19 15:53:52+00:00 -0.816970        1   \n",
       "                       19   2018-06-19 19:45:02+00:00 -0.887885        0   \n",
       "           20  2       15   2018-06-20 15:00:17+00:00 -0.816970        2   \n",
       "\n",
       "                                                       count  \n",
       "year month day weekday hour date                              \n",
       "2018 6     17  6       19   2018-06-17 19:45:02+00:00      1  \n",
       "           18  0       19   2018-06-18 19:45:03+00:00      1  \n",
       "           19  1       15   2018-06-19 15:53:52+00:00      1  \n",
       "                       19   2018-06-19 19:45:02+00:00      1  \n",
       "           20  2       15   2018-06-20 15:00:17+00:00      1  \n",
       "\n",
       "[5 rows x 41 columns]"
      ]
     },
     "execution_count": 22,
     "metadata": {},
     "output_type": "execute_result"
    }
   ],
   "source": [
    "# time zone\n",
    "df_dates = df.set_index([df.index.year, df.index.month, df.index.day, df.index.weekday,\n",
    "                            df.index.hour, df.index])\n",
    "df_dates.index.names = ['year', 'month', 'day','weekday', 'hour', 'date']\n",
    "df_dates.head()"
   ]
  },
  {
   "cell_type": "code",
   "execution_count": 23,
   "metadata": {},
   "outputs": [
    {
     "data": {
      "image/png": "[encoded data removed]",
      "text/plain": [
       "<Figure size 432x288 with 1 Axes>"
      ]
     },
     "metadata": {
      "needs_background": "light"
     },
     "output_type": "display_data"
    }
   ],
   "source": [
    "# sorted by month\n",
    "plt.rcParams[\"font.size\"] = 14\n",
    "month = df_dates['count'].sum(level='month').sort_index()\n",
    "plt.figure(figsize=(6, 4))\n",
    "fig = month.plot.bar(color='navy')\n",
    "plt.xticks(rotation=0.45, fontsize=16)\n",
    "plt.xlabel('')\n",
    "plt.savefig('img2/month.jpg')"
   ]
  },
  {
   "cell_type": "code",
   "execution_count": 24,
   "metadata": {},
   "outputs": [
    {
     "data": {
      "image/png": "[encoded data removed]",
      "text/plain": [
       "<Figure size 432x288 with 1 Axes>"
      ]
     },
     "metadata": {
      "needs_background": "light"
     },
     "output_type": "display_data"
    }
   ],
   "source": [
    "# sorted by weekday\n",
    "weekday = df_dates['count'].sum(level='weekday').sort_index()\n",
    "weekday = weekday.rename({0:'Mon', 1:'Tue', 2:'Wed', 3:'Thu', 4:'Fri', 5:'Sat', 6:'Sun'})\n",
    "plt.figure(figsize=(6, 4))\n",
    "fig = weekday.plot.bar(color='navy')\n",
    "plt.xticks(rotation=0.45, fontsize=16)\n",
    "plt.xlabel('')\n",
    "plt.savefig('img2/weekday.jpg')"
   ]
  },
  {
   "cell_type": "code",
   "execution_count": 25,
   "metadata": {},
   "outputs": [
    {
     "data": {
      "image/png": "[encoded data removed]",
      "text/plain": [
       "<Figure size 432x288 with 1 Axes>"
      ]
     },
     "metadata": {
      "needs_background": "light"
     },
     "output_type": "display_data"
    }
   ],
   "source": [
    "# sorted by hour\n",
    "hour = df_dates['count'].sum(level='hour').sort_index()\n",
    "plt.figure(figsize=(6, 4))\n",
    "fig = plt.bar(hour.index, hour, color='navy')\n",
    "plt.xticks(rotation=0.45, fontsize=16)\n",
    "plt.xlabel('')\n",
    "plt.savefig('img2/hour.jpg')"
   ]
  },
  {
   "cell_type": "code",
   "execution_count": 26,
   "metadata": {},
   "outputs": [
    {
     "data": {
      "image/png": "[encoded data removed]",
      "text/plain": [
       "<Figure size 864x288 with 2 Axes>"
      ]
     },
     "metadata": {},
     "output_type": "display_data"
    }
   ],
   "source": [
    "# heatmap by month and hour\n",
    "sns.set(font_scale=2)\n",
    "plt.figure(figsize=(12, 4))\n",
    "sns.heatmap(df_dates['count'].sum(level=['month', 'hour']).sort_index().unstack(level='hour').fillna(0),cmap=\"jet\") #annot=True,\n",
    "plt.savefig('img2/heatmap.jpg')"
   ]
  },
  {
   "cell_type": "code",
   "execution_count": 27,
   "metadata": {},
   "outputs": [
    {
     "name": "stdout",
     "output_type": "stream",
     "text": [
      "The average of coin ranking: 294.42\n",
      "The number of P&D that used unranked coins is 204\n",
      "376 types of coins\n",
      "Most frequent coin:PPT, Number:26.0\n",
      "The number of coins that have pumped more than twice is 185\n",
      "23 P&D uses top ranked coins\n"
     ]
    }
   ],
   "source": [
    "# coin ranking average (among ranked coins)\n",
    "print('The average of coin ranking: {:.5g}'.format(df['coin_ranking'][df['ranked']==1].mean()))\n",
    "\n",
    "# unranked coin\n",
    "print('The number of P&D that used unranked coins is {}'.format(df[df['ranked']==0].shape[0]))\n",
    "\n",
    "# the types of coin\n",
    "print('{} types of coins'.format(len(df['Currency'].unique())))\n",
    "\n",
    "# most frequently pumped coin\n",
    "frequent = df.groupby('Currency').sum().sort_values('count', ascending=False)\n",
    "print('Most frequent coin:{}, Number:{}'.format(frequent.index[0],frequent.iloc[0]['count']))\n",
    "print('The number of coins that have pumped more than twice is {}'.format(frequent[frequent['count']>1].shape[0]))\n",
    "\n",
    "# Large cap coins\n",
    "print('{} P&D uses top ranked coins'.format(df[df['coin_ranking']<10].shape[0]))"
   ]
  },
  {
   "cell_type": "code",
   "execution_count": 28,
   "metadata": {},
   "outputs": [
    {
     "data": {
      "text/plain": [
       "Exchange\n",
       "Binance      317.393827\n",
       "Bittrex      529.787234\n",
       "Cryptopia    912.300000\n",
       "Yobit        418.711111\n",
       "Name: coin_ranking, dtype: float64"
      ]
     },
     "execution_count": 28,
     "metadata": {},
     "output_type": "execute_result"
    }
   ],
   "source": [
    "df.groupby('Exchange').mean()['coin_ranking']"
   ]
  },
  {
   "cell_type": "code",
   "execution_count": 29,
   "metadata": {},
   "outputs": [
    {
     "name": "stdout",
     "output_type": "stream",
     "text": [
      "0.8968903436988543\n"
     ]
    }
   ],
   "source": [
    "# positive return P&D\n",
    "print(df[df['theoretical_return']>1].shape[0]/df.shape[0])"
   ]
  },
  {
   "cell_type": "code",
   "execution_count": 30,
   "metadata": {},
   "outputs": [
    {
     "name": "stdout",
     "output_type": "stream",
     "text": [
      "114\n"
     ]
    }
   ],
   "source": [
    "# No. of telegram channels\n",
    "print(len(df['Channel'].unique()))"
   ]
  },
  {
   "cell_type": "code",
   "execution_count": 31,
   "metadata": {},
   "outputs": [
    {
     "data": {
      "text/html": [
       "<div>\n",
       "<style scoped>\n",
       "    .dataframe tbody tr th:only-of-type {\n",
       "        vertical-align: middle;\n",
       "    }\n",
       "\n",
       "    .dataframe tbody tr th {\n",
       "        vertical-align: top;\n",
       "    }\n",
       "\n",
       "    .dataframe thead th {\n",
       "        text-align: right;\n",
       "    }\n",
       "</style>\n",
       "<table border=\"1\" class=\"dataframe\">\n",
       "  <thead>\n",
       "    <tr style=\"text-align: right;\">\n",
       "      <th></th>\n",
       "      <th>theoretical_return</th>\n",
       "      <th>relative_volume</th>\n",
       "      <th>duration</th>\n",
       "      <th>ranked</th>\n",
       "      <th>yobit</th>\n",
       "      <th>bittrex</th>\n",
       "      <th>cryptopia</th>\n",
       "      <th>AM</th>\n",
       "      <th>2019year</th>\n",
       "      <th>2020year</th>\n",
       "      <th>2021year</th>\n",
       "      <th>volume_yobit</th>\n",
       "      <th>volume_cryptopia</th>\n",
       "      <th>volume_bittrex</th>\n",
       "    </tr>\n",
       "  </thead>\n",
       "  <tbody>\n",
       "    <tr>\n",
       "      <th>count</th>\n",
       "      <td>1222.00</td>\n",
       "      <td>1.22e+03</td>\n",
       "      <td>1222.00</td>\n",
       "      <td>1222.00</td>\n",
       "      <td>1222.00</td>\n",
       "      <td>1222.00</td>\n",
       "      <td>1222.00</td>\n",
       "      <td>1222.00</td>\n",
       "      <td>1222.00</td>\n",
       "      <td>1222.00</td>\n",
       "      <td>1222.00</td>\n",
       "      <td>1.22e+03</td>\n",
       "      <td>1.22e+03</td>\n",
       "      <td>1.22e+03</td>\n",
       "    </tr>\n",
       "    <tr>\n",
       "      <th>mean</th>\n",
       "      <td>1.30</td>\n",
       "      <td>2.27e+07</td>\n",
       "      <td>128.54</td>\n",
       "      <td>0.83</td>\n",
       "      <td>0.18</td>\n",
       "      <td>0.04</td>\n",
       "      <td>0.11</td>\n",
       "      <td>0.15</td>\n",
       "      <td>0.38</td>\n",
       "      <td>0.26</td>\n",
       "      <td>0.17</td>\n",
       "      <td>2.28e+04</td>\n",
       "      <td>1.38e+05</td>\n",
       "      <td>1.48e+05</td>\n",
       "    </tr>\n",
       "    <tr>\n",
       "      <th>std</th>\n",
       "      <td>0.74</td>\n",
       "      <td>3.74e+08</td>\n",
       "      <td>191.01</td>\n",
       "      <td>0.37</td>\n",
       "      <td>0.39</td>\n",
       "      <td>0.19</td>\n",
       "      <td>0.32</td>\n",
       "      <td>0.36</td>\n",
       "      <td>0.49</td>\n",
       "      <td>0.44</td>\n",
       "      <td>0.38</td>\n",
       "      <td>2.13e+05</td>\n",
       "      <td>8.37e+05</td>\n",
       "      <td>2.49e+06</td>\n",
       "    </tr>\n",
       "    <tr>\n",
       "      <th>min</th>\n",
       "      <td>0.36</td>\n",
       "      <td>0.00e+00</td>\n",
       "      <td>0.00</td>\n",
       "      <td>0.00</td>\n",
       "      <td>0.00</td>\n",
       "      <td>0.00</td>\n",
       "      <td>0.00</td>\n",
       "      <td>0.00</td>\n",
       "      <td>0.00</td>\n",
       "      <td>0.00</td>\n",
       "      <td>0.00</td>\n",
       "      <td>0.00e+00</td>\n",
       "      <td>0.00e+00</td>\n",
       "      <td>0.00e+00</td>\n",
       "    </tr>\n",
       "    <tr>\n",
       "      <th>25%</th>\n",
       "      <td>1.01</td>\n",
       "      <td>6.79e+04</td>\n",
       "      <td>12.00</td>\n",
       "      <td>1.00</td>\n",
       "      <td>0.00</td>\n",
       "      <td>0.00</td>\n",
       "      <td>0.00</td>\n",
       "      <td>0.00</td>\n",
       "      <td>0.00</td>\n",
       "      <td>0.00</td>\n",
       "      <td>0.00</td>\n",
       "      <td>0.00e+00</td>\n",
       "      <td>0.00e+00</td>\n",
       "      <td>0.00e+00</td>\n",
       "    </tr>\n",
       "    <tr>\n",
       "      <th>50%</th>\n",
       "      <td>1.03</td>\n",
       "      <td>6.85e+05</td>\n",
       "      <td>57.00</td>\n",
       "      <td>1.00</td>\n",
       "      <td>0.00</td>\n",
       "      <td>0.00</td>\n",
       "      <td>0.00</td>\n",
       "      <td>0.00</td>\n",
       "      <td>0.00</td>\n",
       "      <td>0.00</td>\n",
       "      <td>0.00</td>\n",
       "      <td>0.00e+00</td>\n",
       "      <td>0.00e+00</td>\n",
       "      <td>0.00e+00</td>\n",
       "    </tr>\n",
       "    <tr>\n",
       "      <th>75%</th>\n",
       "      <td>1.22</td>\n",
       "      <td>3.35e+06</td>\n",
       "      <td>175.00</td>\n",
       "      <td>1.00</td>\n",
       "      <td>0.00</td>\n",
       "      <td>0.00</td>\n",
       "      <td>0.00</td>\n",
       "      <td>0.00</td>\n",
       "      <td>1.00</td>\n",
       "      <td>1.00</td>\n",
       "      <td>0.00</td>\n",
       "      <td>0.00e+00</td>\n",
       "      <td>0.00e+00</td>\n",
       "      <td>0.00e+00</td>\n",
       "    </tr>\n",
       "    <tr>\n",
       "      <th>max</th>\n",
       "      <td>9.65</td>\n",
       "      <td>1.28e+10</td>\n",
       "      <td>1401.00</td>\n",
       "      <td>1.00</td>\n",
       "      <td>1.00</td>\n",
       "      <td>1.00</td>\n",
       "      <td>1.00</td>\n",
       "      <td>1.00</td>\n",
       "      <td>1.00</td>\n",
       "      <td>1.00</td>\n",
       "      <td>1.00</td>\n",
       "      <td>6.07e+06</td>\n",
       "      <td>1.62e+07</td>\n",
       "      <td>6.99e+07</td>\n",
       "    </tr>\n",
       "  </tbody>\n",
       "</table>\n",
       "</div>"
      ],
      "text/plain": [
       "       theoretical_return  relative_volume  duration   ranked    yobit  \\\n",
       "count             1222.00         1.22e+03   1222.00  1222.00  1222.00   \n",
       "mean                 1.30         2.27e+07    128.54     0.83     0.18   \n",
       "std                  0.74         3.74e+08    191.01     0.37     0.39   \n",
       "min                  0.36         0.00e+00      0.00     0.00     0.00   \n",
       "25%                  1.01         6.79e+04     12.00     1.00     0.00   \n",
       "50%                  1.03         6.85e+05     57.00     1.00     0.00   \n",
       "75%                  1.22         3.35e+06    175.00     1.00     0.00   \n",
       "max                  9.65         1.28e+10   1401.00     1.00     1.00   \n",
       "\n",
       "       bittrex  cryptopia       AM  2019year  2020year  2021year  \\\n",
       "count  1222.00    1222.00  1222.00   1222.00   1222.00   1222.00   \n",
       "mean      0.04       0.11     0.15      0.38      0.26      0.17   \n",
       "std       0.19       0.32     0.36      0.49      0.44      0.38   \n",
       "min       0.00       0.00     0.00      0.00      0.00      0.00   \n",
       "25%       0.00       0.00     0.00      0.00      0.00      0.00   \n",
       "50%       0.00       0.00     0.00      0.00      0.00      0.00   \n",
       "75%       0.00       0.00     0.00      1.00      1.00      0.00   \n",
       "max       1.00       1.00     1.00      1.00      1.00      1.00   \n",
       "\n",
       "       volume_yobit  volume_cryptopia  volume_bittrex  \n",
       "count      1.22e+03          1.22e+03        1.22e+03  \n",
       "mean       2.28e+04          1.38e+05        1.48e+05  \n",
       "std        2.13e+05          8.37e+05        2.49e+06  \n",
       "min        0.00e+00          0.00e+00        0.00e+00  \n",
       "25%        0.00e+00          0.00e+00        0.00e+00  \n",
       "50%        0.00e+00          0.00e+00        0.00e+00  \n",
       "75%        0.00e+00          0.00e+00        0.00e+00  \n",
       "max        6.07e+06          1.62e+07        6.99e+07  "
      ]
     },
     "execution_count": 31,
     "metadata": {},
     "output_type": "execute_result"
    }
   ],
   "source": [
    "# display the descriptive statistics\n",
    "pd.options.display.precision = 2\n",
    "var = ['theoretical_return','relative_volume','duration','ranked','yobit', 'bittrex', 'cryptopia', 'AM', \n",
    "       '2019year', '2020year', '2021year', 'volume_yobit', 'volume_cryptopia', 'volume_bittrex']\n",
    "df[var].describe()"
   ]
  },
  {
   "cell_type": "markdown",
   "metadata": {},
   "source": [
    "# "
   ]
  }
 ],
 "metadata": {
  "kernelspec": {
   "display_name": "Python 3",
   "language": "python",
   "name": "python3"
  },
  "language_info": {
   "codemirror_mode": {
    "name": "ipython",
    "version": 3
   },
   "file_extension": ".py",
   "mimetype": "text/x-python",
   "name": "python",
   "nbconvert_exporter": "python",
   "pygments_lexer": "ipython3",
   "version": "3.8.2"
  }
 },
 "nbformat": 4,
 "nbformat_minor": 4
}
